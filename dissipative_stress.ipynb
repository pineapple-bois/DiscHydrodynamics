{
 "cells": [
  {
   "cell_type": "code",
   "id": "initial_id",
   "metadata": {
    "collapsed": true,
    "ExecuteTime": {
     "end_time": "2025-02-27T16:48:46.048851Z",
     "start_time": "2025-02-27T16:48:45.797379Z"
    }
   },
   "source": "import sympy as sp",
   "outputs": [],
   "execution_count": 2
  },
  {
   "metadata": {
    "ExecuteTime": {
     "end_time": "2025-02-27T16:49:00.635005Z",
     "start_time": "2025-02-27T16:49:00.630247Z"
    }
   },
   "cell_type": "code",
   "source": [
    "# Define symbols for space and time\n",
    "x, y, t = sp.symbols('x y t')\n",
    "\n",
    "# Define functions for the velocity field components v1 and v2\n",
    "v1 = sp.Function('v1')(x, y, t)\n",
    "v2 = sp.Function('v2')(x, y, t)\n",
    "# Velocity vector\n",
    "v = sp.Matrix([v1, v2])"
   ],
   "id": "cfdab8db8457bc01",
   "outputs": [],
   "execution_count": 4
  },
  {
   "metadata": {
    "ExecuteTime": {
     "end_time": "2025-02-27T16:49:03.208560Z",
     "start_time": "2025-02-27T16:49:03.196439Z"
    }
   },
   "cell_type": "code",
   "source": [
    "dv = sp.zeros(2,2)\n",
    "# Indices: j=0 -> derivative w.r.t x, j=1 -> derivative w.r.t y\n",
    "#          k=0 -> v1, k=1 -> v2\n",
    "dv[0,0] = v1.diff(x)  # dee(v1)/∂x\n",
    "dv[0,1] = v2.diff(x)  # dee(v2)/∂x\n",
    "dv[1,0] = v1.diff(y)  # dee(v1)/∂y\n",
    "dv[1,1] = v2.diff(y)  # dee(v2)/∂y\n",
    "\n",
    "print(\"Velocity gradients dv\")\n",
    "display(dv)"
   ],
   "id": "83c9eb1e38129e86",
   "outputs": [
    {
     "name": "stdout",
     "output_type": "stream",
     "text": [
      "Velocity gradients dv\n"
     ]
    },
    {
     "data": {
      "text/plain": [
       "Matrix([\n",
       "[Derivative(v1(x, y, t), x), Derivative(v2(x, y, t), x)],\n",
       "[Derivative(v1(x, y, t), y), Derivative(v2(x, y, t), y)]])"
      ],
      "text/latex": "$\\displaystyle \\left[\\begin{matrix}\\frac{\\partial}{\\partial x} v_{1}{\\left(x,y,t \\right)} & \\frac{\\partial}{\\partial x} v_{2}{\\left(x,y,t \\right)}\\\\\\frac{\\partial}{\\partial y} v_{1}{\\left(x,y,t \\right)} & \\frac{\\partial}{\\partial y} v_{2}{\\left(x,y,t \\right)}\\end{matrix}\\right]$"
     },
     "metadata": {},
     "output_type": "display_data"
    }
   ],
   "execution_count": 5
  },
  {
   "metadata": {
    "ExecuteTime": {
     "end_time": "2025-02-27T16:49:06.205849Z",
     "start_time": "2025-02-27T16:49:06.199516Z"
    }
   },
   "cell_type": "code",
   "source": [
    "# Construct the uniaxial viscosity tensor ν_{ijkl}\n",
    "#    In 2D, i,j,k,l ∈ {0,1}. We can store each component in a dictionary\n",
    "#    keyed by (i,j,k,l), or we can do direct summation. For clarity, let's\n",
    "#    build a dictionary \"nu_tensor[(i,j,k,l)]\".\n",
    "\n",
    "# Define the two viscosity coefficients\n",
    "nu2 = sp.Symbol('nu2', real=True, positive=True)\n",
    "nu3 = sp.Symbol('nu3', real=True, positive=True)\n",
    "\n",
    "def kronecker(i,j):\n",
    "    # 2x2 identity, delta[i,i] = 1, else 0\n",
    "    delta = sp.eye(2)\n",
    "    return delta[i,j]\n",
    "\n",
    "# We'll define a helper function that returns ν_{i j k l}\n",
    "def nu_uniaxial(i, j, k, l):\n",
    "    \"\"\"\n",
    "    Returns the component ν_{i j k l} for a uniaxial 2D fluid\n",
    "    with viscosity parameters nu2, nu3 and director n = (n_x, n_y).\n",
    "\n",
    "    Based on the schematic:\n",
    "      ν_{i j k l} = nu2*(δ_{i j} δ_{k l} + δ_{i l} δ_{j k})\n",
    "                    + (nu3 - nu2)*[n_i n_j δ_{k l} + ...]\n",
    "    We'll implement the needed terms carefully.\n",
    "    \"\"\"\n",
    "    # Build the isotropic part: nu2*(δ_{ij} δ_{kl} + δ_{il} δ_{jk})\n",
    "    iso_part = nu2*(kronecker(i,j)*kronecker(k,l) + kronecker(i,l)*kronecker(j,k))\n",
    "\n",
    "    # Build the anisotropic correction:\n",
    "    # (nu3 - nu2)*[ n_i n_j δ_{k l} + n_k n_l δ_{i j} + n_i n_k δ_{j l} + n_j n_l δ_{i k} ]\n",
    "    # The exact form can vary in references; we'll show a typical combination:\n",
    "    anis_part = (nu3 - nu2)*(\n",
    "        n[i]*n[j]*kronecker(k,l) +\n",
    "        n[k]*n[l]*kronecker(i,j) +\n",
    "        n[i]*n[k]*kronecker(j,l) +\n",
    "        n[j]*n[l]*kronecker(i,k)\n",
    "    )\n",
    "    return iso_part + anis_part"
   ],
   "id": "c9a3d1f5fcaed8a",
   "outputs": [],
   "execution_count": 6
  },
  {
   "metadata": {
    "ExecuteTime": {
     "end_time": "2025-02-27T16:49:09.175892Z",
     "start_time": "2025-02-27T16:49:09.126160Z"
    }
   },
   "cell_type": "code",
   "source": [
    "# Construct the dissipative stress σ^D_{i l} = -ν_{i j k l} ∂_j v_k\n",
    "sigmaD = sp.zeros(2,2)  # We'll store σ^D_{i,l} in a 2x2 matrix\n",
    "for i in range(2):      # i = 0..1\n",
    "    for l in range(2):  # l = 0..1\n",
    "        expr = 0\n",
    "        for j in range(2):  # sum over j\n",
    "            for k in range(2):  # sum over k\n",
    "                expr += -nu_uniaxial(i, j, k, l)*dv[j,k]\n",
    "        sigmaD[i,l] = expr"
   ],
   "id": "b011e04c0967acb6",
   "outputs": [
    {
     "ename": "NameError",
     "evalue": "name 'n' is not defined",
     "output_type": "error",
     "traceback": [
      "\u001B[0;31m---------------------------------------------------------------------------\u001B[0m",
      "\u001B[0;31mNameError\u001B[0m                                 Traceback (most recent call last)",
      "Cell \u001B[0;32mIn[7], line 8\u001B[0m\n\u001B[1;32m      6\u001B[0m \u001B[38;5;28;01mfor\u001B[39;00m j \u001B[38;5;129;01min\u001B[39;00m \u001B[38;5;28mrange\u001B[39m(\u001B[38;5;241m2\u001B[39m):  \u001B[38;5;66;03m# sum over j\u001B[39;00m\n\u001B[1;32m      7\u001B[0m     \u001B[38;5;28;01mfor\u001B[39;00m k \u001B[38;5;129;01min\u001B[39;00m \u001B[38;5;28mrange\u001B[39m(\u001B[38;5;241m2\u001B[39m):  \u001B[38;5;66;03m# sum over k\u001B[39;00m\n\u001B[0;32m----> 8\u001B[0m         expr \u001B[38;5;241m+\u001B[39m\u001B[38;5;241m=\u001B[39m \u001B[38;5;241m-\u001B[39m\u001B[43mnu_uniaxial\u001B[49m\u001B[43m(\u001B[49m\u001B[43mi\u001B[49m\u001B[43m,\u001B[49m\u001B[43m \u001B[49m\u001B[43mj\u001B[49m\u001B[43m,\u001B[49m\u001B[43m \u001B[49m\u001B[43mk\u001B[49m\u001B[43m,\u001B[49m\u001B[43m \u001B[49m\u001B[43ml\u001B[49m\u001B[43m)\u001B[49m\u001B[38;5;241m*\u001B[39mdv[j,k]\n\u001B[1;32m      9\u001B[0m sigmaD[i,l] \u001B[38;5;241m=\u001B[39m expr\n",
      "Cell \u001B[0;32mIn[6], line 33\u001B[0m, in \u001B[0;36mnu_uniaxial\u001B[0;34m(i, j, k, l)\u001B[0m\n\u001B[1;32m     27\u001B[0m iso_part \u001B[38;5;241m=\u001B[39m nu2\u001B[38;5;241m*\u001B[39m(kronecker(i,j)\u001B[38;5;241m*\u001B[39mkronecker(k,l) \u001B[38;5;241m+\u001B[39m kronecker(i,l)\u001B[38;5;241m*\u001B[39mkronecker(j,k))\n\u001B[1;32m     29\u001B[0m \u001B[38;5;66;03m# Build the anisotropic correction:\u001B[39;00m\n\u001B[1;32m     30\u001B[0m \u001B[38;5;66;03m# (nu3 - nu2)*[ n_i n_j δ_{k l} + n_k n_l δ_{i j} + n_i n_k δ_{j l} + n_j n_l δ_{i k} ]\u001B[39;00m\n\u001B[1;32m     31\u001B[0m \u001B[38;5;66;03m# The exact form can vary in references; we'll show a typical combination:\u001B[39;00m\n\u001B[1;32m     32\u001B[0m anis_part \u001B[38;5;241m=\u001B[39m (nu3 \u001B[38;5;241m-\u001B[39m nu2)\u001B[38;5;241m*\u001B[39m(\n\u001B[0;32m---> 33\u001B[0m     \u001B[43mn\u001B[49m[i]\u001B[38;5;241m*\u001B[39mn[j]\u001B[38;5;241m*\u001B[39mkronecker(k,l) \u001B[38;5;241m+\u001B[39m\n\u001B[1;32m     34\u001B[0m     n[k]\u001B[38;5;241m*\u001B[39mn[l]\u001B[38;5;241m*\u001B[39mkronecker(i,j) \u001B[38;5;241m+\u001B[39m\n\u001B[1;32m     35\u001B[0m     n[i]\u001B[38;5;241m*\u001B[39mn[k]\u001B[38;5;241m*\u001B[39mkronecker(j,l) \u001B[38;5;241m+\u001B[39m\n\u001B[1;32m     36\u001B[0m     n[j]\u001B[38;5;241m*\u001B[39mn[l]\u001B[38;5;241m*\u001B[39mkronecker(i,k)\n\u001B[1;32m     37\u001B[0m )\n\u001B[1;32m     38\u001B[0m \u001B[38;5;28;01mreturn\u001B[39;00m iso_part \u001B[38;5;241m+\u001B[39m anis_part\n",
      "\u001B[0;31mNameError\u001B[0m: name 'n' is not defined"
     ]
    }
   ],
   "execution_count": 7
  },
  {
   "metadata": {},
   "cell_type": "code",
   "outputs": [],
   "execution_count": null,
   "source": [
    "print(\"Dissipative (viscous) stress sigma^D_{i,l} =\")\n",
    "display(sigmaD)"
   ],
   "id": "4d852febff3cdbc1"
  }
 ],
 "metadata": {
  "kernelspec": {
   "display_name": "Python 3",
   "language": "python",
   "name": "python3"
  },
  "language_info": {
   "codemirror_mode": {
    "name": "ipython",
    "version": 2
   },
   "file_extension": ".py",
   "mimetype": "text/x-python",
   "name": "python",
   "nbconvert_exporter": "python",
   "pygments_lexer": "ipython2",
   "version": "2.7.6"
  }
 },
 "nbformat": 4,
 "nbformat_minor": 5
}
