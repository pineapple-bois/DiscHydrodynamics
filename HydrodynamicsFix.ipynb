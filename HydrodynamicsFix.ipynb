{
 "cells": [
  {
   "metadata": {},
   "cell_type": "markdown",
   "source": "\\newpage",
   "id": "1ef042bb74b9866a"
  },
  {
   "metadata": {},
   "cell_type": "markdown",
   "source": [
    "# Hydrodynamics of a disk\n",
    "in a thin film of weakly nematic fluid subject to linear friction, [Abdallah Daddi-Moussa-Ider et al](https://iopscience.iop.org/article/10.1088/1361-648X/ad65ad)"
   ],
   "id": "4e67e37f355ae970"
  },
  {
   "cell_type": "code",
   "id": "initial_id",
   "metadata": {
    "collapsed": true,
    "ExecuteTime": {
     "end_time": "2025-03-21T18:56:00.225629Z",
     "start_time": "2025-03-21T18:56:00.223110Z"
    }
   },
   "source": "import sympy as sp",
   "outputs": [],
   "execution_count": 182
  },
  {
   "metadata": {},
   "cell_type": "markdown",
   "source": "## Section 2",
   "id": "c52940ce95e8c6b2"
  },
  {
   "metadata": {},
   "cell_type": "markdown",
   "source": [
    "For flows at low Reynolds numbers, viscous contributions dominate inertial ones. Under these conditions, the dynamics of the surrounding fluid are predominantly governed by the Stokes equation. We here study an extension of this equation to take into account possible friction with the surrounding.\n",
    "\n",
    "In reality, such friction may arise from a substrate and possibly by an additional cover slide confining a thin, basically two-dimensional fluid layer, or, possibly and to some approximation, from the friction with a surrounding fluid. Consequently, the flow equation can be generally expressed as,\n",
    "$$\\nabla_j\\,\\sigma_{ij}(\\mathbf{r})+\\mathbf{M}_{ij}\\,v_j(\\mathbf{r})=f_i(\\mathbf{r})\\tag{1}$$\n",
    "Which we now derive symbolically."
   ],
   "id": "7d5d586870aa3d07"
  },
  {
   "metadata": {},
   "cell_type": "markdown",
   "source": [
    "### Momentum conservation in a fluid\n",
    "\n",
    "For a fluid of density $\\rho$, the momentum balance is given by\n",
    "$$\\rho \\left(\\partial_t v_i + v_j\\nabla_j v_i\\right) = \\nabla_j \\sigma_{ij} + f^{\\rm ext}_i$$\n",
    "\n",
    "where:\n",
    "\n",
    "- $v_i(\\mathbf{r})$  is the velocity field,\n",
    "- $\\sigma_{ij}$  is the stress tensor,\n",
    "- $f^{\\rm ext}_i$  represents any external force density.\n",
    "\n",
    "At low Reynolds numbers, the inertial terms (those involving $\\rho$) become negligible compared to viscous effects which simplifies our momentum balance to,\n",
    "$$\\nabla_j \\sigma_{ij} + f^{\\rm ext}_i = 0$$"
   ],
   "id": "ff3750c646acb6ab"
  },
  {
   "metadata": {},
   "cell_type": "markdown",
   "source": "The following components and functions depend on position. We assume static w.r.t time",
   "id": "cd8e9123c658a66f"
  },
  {
   "metadata": {
    "ExecuteTime": {
     "end_time": "2025-03-21T18:56:00.255276Z",
     "start_time": "2025-03-21T18:56:00.252248Z"
    }
   },
   "cell_type": "code",
   "source": [
    "# Define the spatial coordinates\n",
    "x, y = sp.symbols('x y')\n",
    "\n",
    "# Define the position vector r as a 2-dimensional matrix\n",
    "r = sp.Matrix([x, y])\n",
    "\n",
    "# Define velocity components as functions of r[0] and r[1]\n",
    "v_x = sp.Function('v_x')(r[0], r[1])\n",
    "v_y = sp.Function('v_y')(r[0], r[1])\n",
    "v = sp.Matrix([v_x, v_y])\n",
    "\n",
    "# Define external force components as functions of r[0] and r[1]\n",
    "f_x = sp.Function('f_x')(r[0], r[1])\n",
    "f_y = sp.Function('f_y')(r[0], r[1])\n",
    "f_ext = sp.Matrix([f_x, f_y])\n",
    "\n",
    "# Define stress tensor components as functions of r[0] and r[1]\n",
    "sigma11 = sp.Function('sigma11')(r[0], r[1])\n",
    "sigma12 = sp.Function('sigma12')(r[0], r[1])\n",
    "sigma21 = sp.Function('sigma21')(r[0], r[1])\n",
    "sigma22 = sp.Function('sigma22')(r[0], r[1])"
   ],
   "id": "a839588174c8b3b0",
   "outputs": [],
   "execution_count": 183
  },
  {
   "metadata": {},
   "cell_type": "markdown",
   "source": "Representing $\\sigma_{ij}$ as a $2\\times 2$ matrix is a convenient way of handling a rank-two tensor in a fixed coordinate system.",
   "id": "9efc406db22b876e"
  },
  {
   "metadata": {
    "ExecuteTime": {
     "end_time": "2025-03-21T18:56:00.266215Z",
     "start_time": "2025-03-21T18:56:00.262330Z"
    }
   },
   "cell_type": "code",
   "source": [
    "# Build the stress tensor as a 2x2 matrix\n",
    "sigma_tensor = sp.Matrix([[sigma11, sigma12],\n",
    "                          [sigma21, sigma22]])\n",
    "display(sigma_tensor)"
   ],
   "id": "46d44df6a7b1f0bc",
   "outputs": [
    {
     "data": {
      "text/plain": [
       "Matrix([\n",
       "[sigma11(x, y), sigma12(x, y)],\n",
       "[sigma21(x, y), sigma22(x, y)]])"
      ],
      "text/latex": "$\\displaystyle \\left[\\begin{matrix}\\sigma_{11}{\\left(x,y \\right)} & \\sigma_{12}{\\left(x,y \\right)}\\\\\\sigma_{21}{\\left(x,y \\right)} & \\sigma_{22}{\\left(x,y \\right)}\\end{matrix}\\right]$"
     },
     "metadata": {},
     "output_type": "display_data"
    }
   ],
   "execution_count": 184
  },
  {
   "metadata": {},
   "cell_type": "markdown",
   "source": "----",
   "id": "9494828000f85408"
  },
  {
   "metadata": {},
   "cell_type": "markdown",
   "source": [
    "### Incorporating Frictional Effects\n",
    "\n",
    "In many realistic situations, such as a thin film confined by a substrate or cover slide, or even friction with a surrounding fluid—there is an additional frictional force. Microscopically, this friction arises because the moving fluid exerts a force on the substrate, which in turn reacts with a force proportional to the local velocity. To model this effect, we introduce a friction term:\n",
    "\n",
    "$$\\text{Friction force per unit area} = \\mathbf{M}_{ij}\\,v_j$$\n",
    "\n",
    "where $\\mathbf{M}_{ij}$ is a friction tensor. For isotropic friction, this might simply be $\\Gamma\\,\\delta_{ij}$ (with $\\Gamma$ being a friction coefficient), but in a more general case (and indeed in this case) the friction can be anisotropic."
   ],
   "id": "85b865ee428030fa"
  },
  {
   "metadata": {
    "ExecuteTime": {
     "end_time": "2025-03-21T18:56:00.305473Z",
     "start_time": "2025-03-21T18:56:00.299655Z"
    }
   },
   "cell_type": "code",
   "source": [
    "# Define the friction tensor M_ij as a 2x2 matrix.\n",
    "# For the most general case, we allow each component to be a function.\n",
    "M11 = sp.Function('M11')(x, y, t)\n",
    "M12 = sp.Function('M12')(x, y, t)\n",
    "M21 = sp.Function('M21')(x, y, t)\n",
    "M22 = sp.Function('M22')(x, y, t)\n",
    "\n",
    "M_tensor = sp.Matrix([[M11, M12],\n",
    "                      [M21, M22]])\n",
    "\n",
    "print(\"Friction tensor\")\n",
    "display(M_tensor)\n",
    "\n",
    "# Alternatively, if friction is isotropic, we might use a constant friction coefficient Gamma:\n",
    "Gamma = sp.symbols('Gamma', real=True, positive=True)\n",
    "M_constant = Gamma * sp.eye(2)\n",
    "print(\"\\nIsotropic friction tensor\")\n",
    "display(M_constant)"
   ],
   "id": "91f8d03d4f17ccaa",
   "outputs": [
    {
     "name": "stdout",
     "output_type": "stream",
     "text": [
      "Friction tensor\n"
     ]
    },
    {
     "data": {
      "text/plain": [
       "Matrix([\n",
       "[M11(x, y, t), M12(x, y, t)],\n",
       "[M21(x, y, t), M22(x, y, t)]])"
      ],
      "text/latex": "$\\displaystyle \\left[\\begin{matrix}M_{11}{\\left(x,y,t \\right)} & M_{12}{\\left(x,y,t \\right)}\\\\M_{21}{\\left(x,y,t \\right)} & M_{22}{\\left(x,y,t \\right)}\\end{matrix}\\right]$"
     },
     "metadata": {},
     "output_type": "display_data"
    },
    {
     "name": "stdout",
     "output_type": "stream",
     "text": [
      "\n",
      "Isotropic friction tensor\n"
     ]
    },
    {
     "data": {
      "text/plain": [
       "Matrix([\n",
       "[Gamma,     0],\n",
       "[    0, Gamma]])"
      ],
      "text/latex": "$\\displaystyle \\left[\\begin{matrix}\\Gamma & 0\\\\0 & \\Gamma\\end{matrix}\\right]$"
     },
     "metadata": {},
     "output_type": "display_data"
    }
   ],
   "execution_count": 185
  },
  {
   "metadata": {},
   "cell_type": "markdown",
   "source": [
    "Adding either of these friction terms to our force balance, we have\n",
    "$$\\nabla_j \\sigma_{ij} + \\mathbf{M}_{ij}\\,v_j + f^{\\rm ext}_i = 0$$"
   ],
   "id": "408bf1b1f5b545da"
  },
  {
   "metadata": {},
   "cell_type": "markdown",
   "source": "----",
   "id": "ceb4b5ec5684d6d6"
  },
  {
   "metadata": {},
   "cell_type": "markdown",
   "source": [
    "### Incorporating the total stress tensor $\\sigma_{ij}(\\mathbf{r})$\n",
    "\n",
    "Assuming $i, j \\in \\{x, y\\}$, equation $(1)$,\n",
    "$$\\sigma_{ij}(\\mathbf{r})=p(\\mathbf{r})\\,\\delta_{ij}+\\tilde{\\sigma}_{ij}(\\mathbf{r})$$\n",
    "\n",
    "represents the components of the stress tensor where,\n",
    "\n",
    "- $p(\\mathbf{r})$ is the pressure field\n",
    "- The Kronecker delta $\\delta_{ij} = \\begin{cases} 1 & \\text{if } i = j \\\\0 & \\text{if } i \\neq j\\end{cases}$"
   ],
   "id": "9b20db6b689bd38b"
  },
  {
   "metadata": {},
   "cell_type": "markdown",
   "source": [
    "#### Simplify stress tensor to 'pure dissipative stress'\n",
    "\n",
    "We now need to show that,\n",
    "$$\\tilde{\\sigma}_{ij}=\\sigma_{ij}^{\\text{D}}=-\\nu_{ijkl}\\nabla_l\\,v_k\\tag{2}$$\n"
   ],
   "id": "a0bd0c4960b9c0be"
  },
  {
   "metadata": {},
   "cell_type": "markdown",
   "source": [
    "In the Appendix, `REF 80`: \"Pleiner H and Brand H R 1996 Hydrodynamics and electrohydrodynamics of liquid crystals Pattern Formation in Liquid Crystals ed A Buka and L Kramer (Springer)\n",
    "p 15–67\" we find,\n",
    "\n",
    "![img](Figures/Ref80.png)"
   ],
   "id": "1583653dff1cb5bc"
  },
  {
   "metadata": {},
   "cell_type": "markdown",
   "source": [
    "Which is equation $(3)$, simplified by equation $(4)$\n",
    "\n",
    "- 5 distinct viscosities defines an anisotropic fluid medium.\n",
    "- We examine scenario of the director being consistently and uniformly orientated along a single global axis."
   ],
   "id": "31c79adb570c0cc2"
  },
  {
   "metadata": {},
   "cell_type": "markdown",
   "source": "#### 4b Derivation of stress tensor",
   "id": "f692cf3087dd19df"
  },
  {
   "metadata": {},
   "cell_type": "markdown",
   "source": [
    "We build $\\nu_{ijkl}$ as a linear combination of all distinct tensor contractions allowed by the uniaxial symmetry around some director $\\mathbf{n}=\\begin{pmatrix}n_x & n_y\\end{pmatrix}^T$\n",
    "\n",
    "`Note`: we probably need to normalise as a unit vector"
   ],
   "id": "9e9aa67101b7da82"
  },
  {
   "metadata": {
    "ExecuteTime": {
     "end_time": "2025-03-21T18:56:00.335916Z",
     "start_time": "2025-03-21T18:56:00.332999Z"
    }
   },
   "cell_type": "code",
   "source": [
    "n_x, n_y = sp.symbols('n_x n_y', real=True)\n",
    "# Optionally enforce n_x^2 + n_y^2 = 1:\n",
    "# constraints = [sp.Eq(n_x**2 + n_y**2, 1)]\n",
    "n = (n_x, n_y)"
   ],
   "id": "7aa8d21073b01abc",
   "outputs": [],
   "execution_count": 186
  },
  {
   "metadata": {},
   "cell_type": "markdown",
   "source": "Define multiple viscosity coefficients",
   "id": "f27db5f3c8b35f13"
  },
  {
   "metadata": {
    "ExecuteTime": {
     "end_time": "2025-03-21T18:56:00.359182Z",
     "start_time": "2025-03-21T18:56:00.357331Z"
    }
   },
   "cell_type": "code",
   "source": [
    "# Five viscosity parameters\n",
    "nu1, nu2, nu3, nu4, nu5 = sp.symbols('nu1 nu2 nu3 nu4 nu5', real=True)"
   ],
   "id": "12e62a3e578dfe4b",
   "outputs": [],
   "execution_count": 187
  },
  {
   "metadata": {},
   "cell_type": "markdown",
   "source": [
    "#### Einstein summation in the tensor construction\n",
    "\n",
    "We have a tensor expression of the form,\n",
    "\n",
    "$$\n",
    "\\nu_{ijkl} = \\nu_2,\\Bigl(\\delta_{ik},\\delta_{jl} + \\delta_{il},\\delta_{jk}\\Bigr) + \\bigl[\\dots\\bigr],\\delta_{ik},n_k,n_l + \\dots\n",
    "$$\n",
    "\n",
    "In this expression, the term $\\delta_{ik}\\,n_k$ has a repeated index $k$. By the Einstein summation convention, a repeated index implies a sum over that index. That is,\n",
    "\n",
    "$$\n",
    "\\delta_{ik},n_k = \\sum_{k=0}^{1} \\delta_{ik},n_k = n_i ,.\n",
    "$$\n",
    "\n",
    "Thus, whenever we see $\\delta_{ik}\\,n_k$, it simplifies to $n_i$, meaning it selects the $i$th component of the vector $\\mathbf{n}$"
   ],
   "id": "66f61809e4e9706"
  },
  {
   "metadata": {
    "ExecuteTime": {
     "end_time": "2025-03-21T18:56:00.586702Z",
     "start_time": "2025-03-21T18:56:00.378720Z"
    }
   },
   "cell_type": "code",
   "source": [
    "nu_tensor = {}\n",
    "for i in range(2):\n",
    "    for j in range(2):\n",
    "        for k in range(2):\n",
    "            for l in range(2):\n",
    "                val = 0\n",
    "\n",
    "                # Term 1) Isotropic-like part:\n",
    "                val += nu2 * (\n",
    "                    sp.KroneckerDelta(i, k) * sp.KroneckerDelta(j, l) +\n",
    "                    sp.KroneckerDelta(i, l) * sp.KroneckerDelta(j, k)\n",
    "                )\n",
    "\n",
    "                # Term 2)\n",
    "                val += 2 * (nu1 + nu2 - 2*nu3) * n[i] * n[j] * n[k] * n[l]\n",
    "\n",
    "                # Term 3)\n",
    "                val += (nu4 - nu2) * (\n",
    "                    sp.KroneckerDelta(i, j) * sp.KroneckerDelta(k, l)\n",
    "                )\n",
    "\n",
    "                # Term 4)\n",
    "                val += (nu3 - nu2) * (\n",
    "                    n[i] * n[k] * sp.KroneckerDelta(j, l) +\n",
    "                    n[i] * n[l] * sp.KroneckerDelta(j, k) +\n",
    "                    n[j] * n[k] * sp.KroneckerDelta(i, l) +\n",
    "                    n[j] * n[l] * sp.KroneckerDelta(i, k)\n",
    "                )\n",
    "\n",
    "                # Term 5)\n",
    "                val += (nu5 - nu4 + nu2) * (\n",
    "                    sp.KroneckerDelta(i, j) * n[k] * n[l] +\n",
    "                    sp.KroneckerDelta(k, l) * n[i] * n[j]\n",
    "                )\n",
    "\n",
    "                # Construct dictionary\n",
    "                nu_tensor[(i, j, k, l)] = sp.simplify(val)"
   ],
   "id": "89908f2f968a408f",
   "outputs": [],
   "execution_count": 188
  },
  {
   "metadata": {
    "ExecuteTime": {
     "end_time": "2025-03-21T18:56:00.611862Z",
     "start_time": "2025-03-21T18:56:00.607876Z"
    }
   },
   "cell_type": "code",
   "source": [
    "dv = sp.zeros(2,2)\n",
    "dv[0,0] = vx.diff(x)  # dee(v1)/dee x\n",
    "dv[0,1] = vy.diff(x)  # dee(v2)/dee x\n",
    "dv[1,0] = vx.diff(y)  # dee(v1)/dee y\n",
    "dv[1,1] = vy.diff(y)  # dee(v2)/dee y\n",
    "\n",
    "print(\"Velocity gradients dv\")\n",
    "display(dv)"
   ],
   "id": "c17e5c74a8ef712e",
   "outputs": [
    {
     "name": "stdout",
     "output_type": "stream",
     "text": [
      "Velocity gradients dv\n"
     ]
    },
    {
     "data": {
      "text/plain": [
       "Matrix([\n",
       "[Derivative(v_x(x, y), x), Derivative(v_y(x, y), x)],\n",
       "[Derivative(v_x(x, y), y), Derivative(v_y(x, y), y)]])"
      ],
      "text/latex": "$\\displaystyle \\left[\\begin{matrix}\\frac{\\partial}{\\partial x} v_{x}{\\left(x,y \\right)} & \\frac{\\partial}{\\partial x} v_{y}{\\left(x,y \\right)}\\\\\\frac{\\partial}{\\partial y} v_{x}{\\left(x,y \\right)} & \\frac{\\partial}{\\partial y} v_{y}{\\left(x,y \\right)}\\end{matrix}\\right]$"
     },
     "metadata": {},
     "output_type": "display_data"
    }
   ],
   "execution_count": 189
  },
  {
   "metadata": {},
   "cell_type": "markdown",
   "source": "----",
   "id": "695c9c1253e2e7a0"
  },
  {
   "metadata": {},
   "cell_type": "markdown",
   "source": "### Simplification by continuity equation",
   "id": "891df3f5a7d615a5"
  },
  {
   "metadata": {},
   "cell_type": "markdown",
   "source": [
    "We incorporate the common assumption made in similar analyses of fluid flows, namely, local volume conservation and constant density of the fluid. As a result, the continuity equation simplifies to\n",
    "$$\\nabla\\cdot\\mathbf{v}=0\\tag{5}$$\n",
    "\n",
    "Under the given circumstances, the director $\\widehat{\\mathbf{n}}$ introduces uniaxial anisotropy to the viscosity tensor. Without loss of generality, we choose\n",
    "$$\\widehat{\\mathbf{n}}\\,\\|\\,\\widehat{\\mathbf{x}}\\implies\\widehat{\\mathbf{n}}=(1, 0)$$\n",
    "\n",
    "**Effect on the Viscosity Tensor**\n",
    "\n",
    "In our uniaxial tensor $\\nu_{ijkl}$, any factor like `n[i]` or `n[j]` becomes zero unless $i=0$ (the “x” index). Concretely;\n",
    "\n",
    "- `n[0]` = 1\n",
    "- `n[1]` = 0\n",
    "\n",
    "So any product `n[i]*n[j]*...` will vanish unless $i=j=0$. Concretely:\n",
    "- `n[i]*n[j]` = $1$ only if $i=j=0$; otherwise $0$.\n",
    "- `n[i]*n[j]*n[k]*n[l]` is 1 only if $i=j=k=l=0$; else $0$.\n",
    "\n",
    "**Incompressibility**\n",
    "\n",
    "Using the original notation we set (which will be amended later) by equation $(5)$ we have,\n",
    "$$v_1\\equiv v_x, \\quad  v_2\\equiv v_y$$\n",
    "Therefore\n",
    "$$\\frac{\\partial v_1}{\\partial x}=-\\frac{\\partial v_2}{\\partial y}$$\n",
    "\n",
    "Once we have $\\nu_{ijkl}$, the dissipative (deviatoric) stress is given by\n",
    "$$\\sigma^{\\text{D}}_{i j} = -\\sum_{k=0}^1\\sum_{\\ell=0}^1\\nu_{i j k \\ell}\\,\\nabla_j v_k$$"
   ],
   "id": "a15f88e72ff30ad5"
  },
  {
   "metadata": {
    "ExecuteTime": {
     "end_time": "2025-03-21T18:56:00.678369Z",
     "start_time": "2025-03-21T18:56:00.632490Z"
    }
   },
   "cell_type": "code",
   "source": [
    "# dv is a 2x2 matrix: dv[j,k] = dee(v_k)/dee(x_j)\n",
    "sigmaD = sp.zeros(2, 2)\n",
    "for i in range(2):\n",
    "    for j in range(2):\n",
    "        expr = 0\n",
    "        for k in range(2):\n",
    "            for l in range(2):\n",
    "                expr += nu_tensor[(i, j, k, l)] * dv[l, k]\n",
    "        # Apply substitutions:\n",
    "        #   - Set the director components: nx = 1 and ny = 0\n",
    "        #   - Use the incompressibility condition: dv[0,0] = -dv[1,1]\n",
    "        sigmaD[i, j] = sp.simplify(expr.subs({ n_x: 1, n_y: 0 }))\n",
    "\n",
    "# Simplify the entire matrix, take negative\n",
    "sigmaD = sp.simplify(sigmaD)\n",
    "\n",
    "print(\"Dissipative Stress Tensor Components:\")\n",
    "display(sigmaD)"
   ],
   "id": "3948a7edfd44d44a",
   "outputs": [
    {
     "name": "stdout",
     "output_type": "stream",
     "text": [
      "Dissipative Stress Tensor Components:\n"
     ]
    },
    {
     "data": {
      "text/plain": [
       "Matrix([\n",
       "[nu5*Derivative(v_y(x, y), y) + (2*nu1 + nu2 - nu4 + 2*nu5)*Derivative(v_x(x, y), x),           nu3*(Derivative(v_x(x, y), y) + Derivative(v_y(x, y), x))],\n",
       "[                          nu3*(Derivative(v_x(x, y), y) + Derivative(v_y(x, y), x)), nu5*Derivative(v_x(x, y), x) + (nu2 + nu4)*Derivative(v_y(x, y), y)]])"
      ],
      "text/latex": "$\\displaystyle \\left[\\begin{matrix}\\nu_{5} \\frac{\\partial}{\\partial y} v_{y}{\\left(x,y \\right)} + \\left(2 \\nu_{1} + \\nu_{2} - \\nu_{4} + 2 \\nu_{5}\\right) \\frac{\\partial}{\\partial x} v_{x}{\\left(x,y \\right)} & \\nu_{3} \\left(\\frac{\\partial}{\\partial y} v_{x}{\\left(x,y \\right)} + \\frac{\\partial}{\\partial x} v_{y}{\\left(x,y \\right)}\\right)\\\\\\nu_{3} \\left(\\frac{\\partial}{\\partial y} v_{x}{\\left(x,y \\right)} + \\frac{\\partial}{\\partial x} v_{y}{\\left(x,y \\right)}\\right) & \\nu_{5} \\frac{\\partial}{\\partial x} v_{x}{\\left(x,y \\right)} + \\left(\\nu_{2} + \\nu_{4}\\right) \\frac{\\partial}{\\partial y} v_{y}{\\left(x,y \\right)}\\end{matrix}\\right]$"
     },
     "metadata": {},
     "output_type": "display_data"
    }
   ],
   "execution_count": 190
  },
  {
   "metadata": {},
   "cell_type": "markdown",
   "source": "----",
   "id": "329424ff7db1306f"
  },
  {
   "metadata": {},
   "cell_type": "markdown",
   "source": [
    "## Building Eqn $(1)$\n",
    "\n",
    "$$\\nabla_j\\,\\sigma_{ij}(\\mathbf{r})+\\mathbf{M}_{ij}\\,v_j(\\mathbf{r})=f_i(\\mathbf{r})\\tag{1}$$"
   ],
   "id": "10f1b4d0641441cd"
  },
  {
   "metadata": {},
   "cell_type": "markdown",
   "source": [
    "### Incorporating the total stress tensor $\\sigma_{ij}(\\mathbf{r})$\n",
    "\n",
    "Assuming $i, j \\in \\{x, y\\}$, equation $(1)$,\n",
    "$$\\sigma_{ij}(\\mathbf{r})=p(\\mathbf{r})\\,\\delta_{ij}+\\tilde{\\sigma}_{ij}(\\mathbf{r})$$\n",
    "\n",
    "represents the components of the stress tensor where,\n",
    "\n",
    "- $p(\\mathbf{r})$ is the pressure field\n",
    "- The Kronecker delta $\\delta_{ij} = \\begin{cases} 1 & \\text{if } i = j \\\\0 & \\text{if } i \\neq j\\end{cases}$"
   ],
   "id": "ba03e448ab2eeed0"
  },
  {
   "metadata": {
    "ExecuteTime": {
     "end_time": "2025-03-21T18:56:03.050879Z",
     "start_time": "2025-03-21T18:56:03.040410Z"
    }
   },
   "cell_type": "code",
   "source": [
    "# Define pressure field as an independent function\n",
    "p_field = sp.Function('p')(r[0], r[1])\n",
    "\n",
    "# Build total stress tensor: sigma_total = p*delta_{ij} + sigmaD\n",
    "sigma_total = sp.zeros(2, 2)\n",
    "for i in range(2):\n",
    "    for j in range(2):\n",
    "        # Kronecker delta is just sp.KroneckerDelta(i,j)\n",
    "        sigma_total[i, j] = p_field * sp.KroneckerDelta(i, j) + sigmaD[i, j]\n",
    "\n",
    "display(sigma_total)"
   ],
   "id": "cbe5c9e25fd41963",
   "outputs": [
    {
     "data": {
      "text/plain": [
       "Matrix([\n",
       "[nu5*Derivative(v_y(x, y), y) + (2*nu1 + nu2 - nu4 + 2*nu5)*Derivative(v_x(x, y), x) + p(x, y),                     nu3*(Derivative(v_x(x, y), y) + Derivative(v_y(x, y), x))],\n",
       "[                                    nu3*(Derivative(v_x(x, y), y) + Derivative(v_y(x, y), x)), nu5*Derivative(v_x(x, y), x) + (nu2 + nu4)*Derivative(v_y(x, y), y) + p(x, y)]])"
      ],
      "text/latex": "$\\displaystyle \\left[\\begin{matrix}\\nu_{5} \\frac{\\partial}{\\partial y} v_{y}{\\left(x,y \\right)} + \\left(2 \\nu_{1} + \\nu_{2} - \\nu_{4} + 2 \\nu_{5}\\right) \\frac{\\partial}{\\partial x} v_{x}{\\left(x,y \\right)} + p{\\left(x,y \\right)} & \\nu_{3} \\left(\\frac{\\partial}{\\partial y} v_{x}{\\left(x,y \\right)} + \\frac{\\partial}{\\partial x} v_{y}{\\left(x,y \\right)}\\right)\\\\\\nu_{3} \\left(\\frac{\\partial}{\\partial y} v_{x}{\\left(x,y \\right)} + \\frac{\\partial}{\\partial x} v_{y}{\\left(x,y \\right)}\\right) & \\nu_{5} \\frac{\\partial}{\\partial x} v_{x}{\\left(x,y \\right)} + \\left(\\nu_{2} + \\nu_{4}\\right) \\frac{\\partial}{\\partial y} v_{y}{\\left(x,y \\right)} + p{\\left(x,y \\right)}\\end{matrix}\\right]$"
     },
     "metadata": {},
     "output_type": "display_data"
    }
   ],
   "execution_count": 191
  },
  {
   "metadata": {},
   "cell_type": "markdown",
   "source": [
    "### Compute $\\nabla_j \\sigma_{ij}$\n",
    "which is shorthand for $\\frac{\\partial \\sigma_{ij}}{\\partial x_j}$ where the index $j$ is summed over due to the Einstein convention"
   ],
   "id": "6634e5289a0e1703"
  },
  {
   "metadata": {
    "ExecuteTime": {
     "end_time": "2025-03-21T18:56:08.692765Z",
     "start_time": "2025-03-21T18:56:08.639527Z"
    }
   },
   "cell_type": "code",
   "source": [
    "# \"Indices\": 0 -> x, 1 -> y\n",
    "# So partial wrt x is partial wrt x_0, partial wrt y is partial wrt x_1.\n",
    "coords = (x, y)\n",
    "# Build the vector (nabla_j sigma_{ij}) in 2D\n",
    "del_sigmaD = sp.zeros(2, 1)\n",
    "\n",
    "for i in range(2):\n",
    "    # Sum over j=0,1: partial wrt coords[j] of sigma[i,j]\n",
    "    expr = 0\n",
    "    for j in range(2):\n",
    "        expr += sigma_total[i, j].diff(coords[j])\n",
    "    del_sigmaD[i, 0] = sp.simplify(expr)\n",
    "\n",
    "display(del_sigmaD)"
   ],
   "id": "f4e0206a79d3a1cd",
   "outputs": [
    {
     "data": {
      "text/plain": [
       "Matrix([\n",
       "[nu3*(Derivative(v_x(x, y), (y, 2)) + Derivative(v_y(x, y), x, y)) + nu5*Derivative(v_y(x, y), x, y) + (2*nu1 + nu2 - nu4 + 2*nu5)*Derivative(v_x(x, y), (x, 2)) + Derivative(p(x, y), x)],\n",
       "[                nu3*(Derivative(v_y(x, y), (x, 2)) + Derivative(v_x(x, y), x, y)) + nu5*Derivative(v_x(x, y), x, y) + (nu2 + nu4)*Derivative(v_y(x, y), (y, 2)) + Derivative(p(x, y), y)]])"
      ],
      "text/latex": "$\\displaystyle \\left[\\begin{matrix}\\nu_{3} \\left(\\frac{\\partial^{2}}{\\partial y^{2}} v_{x}{\\left(x,y \\right)} + \\frac{\\partial^{2}}{\\partial y\\partial x} v_{y}{\\left(x,y \\right)}\\right) + \\nu_{5} \\frac{\\partial^{2}}{\\partial y\\partial x} v_{y}{\\left(x,y \\right)} + \\left(2 \\nu_{1} + \\nu_{2} - \\nu_{4} + 2 \\nu_{5}\\right) \\frac{\\partial^{2}}{\\partial x^{2}} v_{x}{\\left(x,y \\right)} + \\frac{\\partial}{\\partial x} p{\\left(x,y \\right)}\\\\\\nu_{3} \\left(\\frac{\\partial^{2}}{\\partial x^{2}} v_{y}{\\left(x,y \\right)} + \\frac{\\partial^{2}}{\\partial y\\partial x} v_{x}{\\left(x,y \\right)}\\right) + \\nu_{5} \\frac{\\partial^{2}}{\\partial y\\partial x} v_{x}{\\left(x,y \\right)} + \\left(\\nu_{2} + \\nu_{4}\\right) \\frac{\\partial^{2}}{\\partial y^{2}} v_{y}{\\left(x,y \\right)} + \\frac{\\partial}{\\partial y} p{\\left(x,y \\right)}\\end{matrix}\\right]$"
     },
     "metadata": {},
     "output_type": "display_data"
    }
   ],
   "execution_count": 192
  },
  {
   "metadata": {},
   "cell_type": "markdown",
   "source": "### Simplification by $(\\nu_3 + \\nu_5)\\nabla(\\nabla\\cdot\\mathbf{v})=0$",
   "id": "735c980fb1ede7f5"
  },
  {
   "metadata": {},
   "cell_type": "markdown",
   "source": [
    "Perhaps this is a nice hand-waving step to clear mixed partials as the above term is $0$ in incompressible flow. It should rearrange second derivatives to remove cross derivatives.\n",
    "\n",
    "We must enforce $\\nabla\\cdot\\mathbf{v}=0$ and $\\nabla(\\nabla\\cdot\\mathbf{v})=0$ in SymPy to actually clear these terms."
   ],
   "id": "62b871522452d16a"
  },
  {
   "metadata": {
    "ExecuteTime": {
     "end_time": "2025-03-21T18:56:12.719598Z",
     "start_time": "2025-03-21T18:56:12.705381Z"
    }
   },
   "cell_type": "code",
   "source": [
    "# Define the divergence of v\n",
    "div_v = sp.diff(v_x, x) + sp.diff(v_y, y)\n",
    "\n",
    "# Define the gradient of the divergence\n",
    "grad_div_v = sp.Matrix([sp.diff(div_v, x), sp.diff(div_v, y)])\n",
    "\n",
    "# Define the operator to subtract, multiplied by (nu3+nu5)\n",
    "operator_to_subtract = sp.expand((nu3 + nu5)*grad_div_v)\n",
    "display(operator_to_subtract)"
   ],
   "id": "ead9ca4924aa2c9a",
   "outputs": [
    {
     "data": {
      "text/plain": [
       "Matrix([\n",
       "[nu3*Derivative(v_x(x, y), (x, 2)) + nu3*Derivative(v_y(x, y), x, y) + nu5*Derivative(v_x(x, y), (x, 2)) + nu5*Derivative(v_y(x, y), x, y)],\n",
       "[nu3*Derivative(v_y(x, y), (y, 2)) + nu3*Derivative(v_x(x, y), x, y) + nu5*Derivative(v_y(x, y), (y, 2)) + nu5*Derivative(v_x(x, y), x, y)]])"
      ],
      "text/latex": "$\\displaystyle \\left[\\begin{matrix}\\nu_{3} \\frac{\\partial^{2}}{\\partial x^{2}} v_{x}{\\left(x,y \\right)} + \\nu_{3} \\frac{\\partial^{2}}{\\partial y\\partial x} v_{y}{\\left(x,y \\right)} + \\nu_{5} \\frac{\\partial^{2}}{\\partial x^{2}} v_{x}{\\left(x,y \\right)} + \\nu_{5} \\frac{\\partial^{2}}{\\partial y\\partial x} v_{y}{\\left(x,y \\right)}\\\\\\nu_{3} \\frac{\\partial^{2}}{\\partial y^{2}} v_{y}{\\left(x,y \\right)} + \\nu_{3} \\frac{\\partial^{2}}{\\partial y\\partial x} v_{x}{\\left(x,y \\right)} + \\nu_{5} \\frac{\\partial^{2}}{\\partial y^{2}} v_{y}{\\left(x,y \\right)} + \\nu_{5} \\frac{\\partial^{2}}{\\partial y\\partial x} v_{x}{\\left(x,y \\right)}\\end{matrix}\\right]$"
     },
     "metadata": {},
     "output_type": "display_data"
    }
   ],
   "execution_count": 193
  },
  {
   "metadata": {},
   "cell_type": "markdown",
   "source": "Expand `del_sigma` to clear terms",
   "id": "d4a8f0eb001b2d6e"
  },
  {
   "metadata": {
    "ExecuteTime": {
     "end_time": "2025-03-21T18:56:15.464053Z",
     "start_time": "2025-03-21T18:56:15.422101Z"
    }
   },
   "cell_type": "code",
   "source": [
    "del_sigmaD_expand = sp.expand(del_sigmaD)\n",
    "del_sigmaD_simp = sp.simplify(del_sigma_expand - operator_to_subtract)"
   ],
   "id": "c7065dc9d04eb573",
   "outputs": [],
   "execution_count": 194
  },
  {
   "metadata": {},
   "cell_type": "markdown",
   "source": "Collect terms by $\\partial_{xx}$ and $\\partial_{yy}$",
   "id": "58ebd79f254ceb7d"
  },
  {
   "metadata": {
    "ExecuteTime": {
     "end_time": "2025-03-21T18:56:49.928259Z",
     "start_time": "2025-03-21T18:56:49.907448Z"
    }
   },
   "cell_type": "code",
   "source": [
    "del_sigmaD_0 = sp.collect(del_sigmaD_simp[0], sp.diff(v_x, (x,2)))\n",
    "del_sigmaD_1 = sp.collect(del_sigmaD_simp[1], sp.diff(v_y, (y,2)))\n",
    "del_sigmaD_final = sp.Matrix([\n",
    "    del_sigma_0,\n",
    "    del_sigma_1\n",
    "])\n",
    "display(del_sigmaD_final)"
   ],
   "id": "866c50882b82aea7",
   "outputs": [
    {
     "data": {
      "text/plain": [
       "Matrix([\n",
       "[nu3*Derivative(v_x(x, y), (y, 2)) + (2*nu1 + nu2 - nu3 - nu4 + nu5)*Derivative(v_x(x, y), (x, 2)) + Derivative(p(x, y), x)],\n",
       "[        nu3*Derivative(v_y(x, y), (x, 2)) + (nu2 - nu3 + nu4 - nu5)*Derivative(v_y(x, y), (y, 2)) + Derivative(p(x, y), y)]])"
      ],
      "text/latex": "$\\displaystyle \\left[\\begin{matrix}\\nu_{3} \\frac{\\partial^{2}}{\\partial y^{2}} v_{x}{\\left(x,y \\right)} + \\left(2 \\nu_{1} + \\nu_{2} - \\nu_{3} - \\nu_{4} + \\nu_{5}\\right) \\frac{\\partial^{2}}{\\partial x^{2}} v_{x}{\\left(x,y \\right)} + \\frac{\\partial}{\\partial x} p{\\left(x,y \\right)}\\\\\\nu_{3} \\frac{\\partial^{2}}{\\partial x^{2}} v_{y}{\\left(x,y \\right)} + \\left(\\nu_{2} - \\nu_{3} + \\nu_{4} - \\nu_{5}\\right) \\frac{\\partial^{2}}{\\partial y^{2}} v_{y}{\\left(x,y \\right)} + \\frac{\\partial}{\\partial y} p{\\left(x,y \\right)}\\end{matrix}\\right]$"
     },
     "metadata": {},
     "output_type": "display_data"
    }
   ],
   "execution_count": 197
  },
  {
   "metadata": {},
   "cell_type": "markdown",
   "source": "### Forming a diagonal form of the friction tensor",
   "id": "57b1d04f93260217"
  },
  {
   "metadata": {},
   "cell_type": "markdown",
   "source": [
    "In the subsequent discussion, we examine the scenario of one of the principal axes of the friction tensor aligning with the nematic director. Thus, the friction tensor in our representation adopts a diagonal form,\n",
    "$$\n",
    "\\mathbf{M}_{\\text{diagonal}}=\\begin{pmatrix}\n",
    "m_{\\parallel}^2 & 0 \\\\\n",
    "0 & m_{\\perp}^2\n",
    "\\end{pmatrix}\\tag{7}\n",
    "$$"
   ],
   "id": "c324a1f6da1ed63a"
  },
  {
   "metadata": {
    "ExecuteTime": {
     "end_time": "2025-03-21T18:56:52.405208Z",
     "start_time": "2025-03-21T18:56:52.397704Z"
    }
   },
   "cell_type": "code",
   "source": [
    "m_parallel, m_perp = sp.symbols('m_∥ m_⊥', real=True, positive=True)\n",
    "M_diag = sp.Matrix([[m_parallel**2, 0],\n",
    "               [0, m_perp**2]])\n",
    "display(M_diag)"
   ],
   "id": "3e32cdf2eb0d0f63",
   "outputs": [
    {
     "data": {
      "text/plain": [
       "Matrix([\n",
       "[m_∥**2,      0],\n",
       "[     0, m_⊥**2]])"
      ],
      "text/latex": "$\\displaystyle \\left[\\begin{matrix}m_{∥}^{2} & 0\\\\0 & m_{⊥}^{2}\\end{matrix}\\right]$"
     },
     "metadata": {},
     "output_type": "display_data"
    }
   ],
   "execution_count": 198
  },
  {
   "metadata": {
    "ExecuteTime": {
     "end_time": "2025-03-21T18:56:54.224830Z",
     "start_time": "2025-03-21T18:56:54.205093Z"
    }
   },
   "cell_type": "code",
   "source": [
    "# Calculate the friction force per unit area as M_ij * v_j (matrix-vector multiplication)\n",
    "friction_force = M_diag * v\n",
    "\n",
    "# Combine them into the momentum conservation equation: div(sigma) + f_ext = 0\n",
    "built_eq = sp.Eq(del_sigmaD_final + friction_force, f_ext)\n",
    "display(built_eq)"
   ],
   "id": "5ff2b4f47f9f2479",
   "outputs": [
    {
     "data": {
      "text/plain": [
       "Eq(Matrix([\n",
       "[m_∥**2*v_x(x, y) + nu3*Derivative(v_x(x, y), (y, 2)) + (2*nu1 + nu2 - nu3 - nu4 + nu5)*Derivative(v_x(x, y), (x, 2)) + Derivative(p(x, y), x)],\n",
       "[        m_⊥**2*v_y(x, y) + nu3*Derivative(v_y(x, y), (x, 2)) + (nu2 - nu3 + nu4 - nu5)*Derivative(v_y(x, y), (y, 2)) + Derivative(p(x, y), y)]]), Matrix([\n",
       "[f_x(x, y)],\n",
       "[f_y(x, y)]]))"
      ],
      "text/latex": "$\\displaystyle \\left[\\begin{matrix}m_{∥}^{2} v_{x}{\\left(x,y \\right)} + \\nu_{3} \\frac{\\partial^{2}}{\\partial y^{2}} v_{x}{\\left(x,y \\right)} + \\left(2 \\nu_{1} + \\nu_{2} - \\nu_{3} - \\nu_{4} + \\nu_{5}\\right) \\frac{\\partial^{2}}{\\partial x^{2}} v_{x}{\\left(x,y \\right)} + \\frac{\\partial}{\\partial x} p{\\left(x,y \\right)}\\\\m_{⊥}^{2} v_{y}{\\left(x,y \\right)} + \\nu_{3} \\frac{\\partial^{2}}{\\partial x^{2}} v_{y}{\\left(x,y \\right)} + \\left(\\nu_{2} - \\nu_{3} + \\nu_{4} - \\nu_{5}\\right) \\frac{\\partial^{2}}{\\partial y^{2}} v_{y}{\\left(x,y \\right)} + \\frac{\\partial}{\\partial y} p{\\left(x,y \\right)}\\end{matrix}\\right] = \\left[\\begin{matrix}f_{x}{\\left(x,y \\right)}\\\\f_{y}{\\left(x,y \\right)}\\end{matrix}\\right]$"
     },
     "metadata": {},
     "output_type": "display_data"
    }
   ],
   "execution_count": 199
  },
  {
   "metadata": {},
   "cell_type": "markdown",
   "source": "----",
   "id": "1ec0633a06111d5b"
  },
  {
   "metadata": {},
   "cell_type": "markdown",
   "source": [
    "## Work in progress from here...\n",
    "Also have a sign error to eradicate"
   ],
   "id": "53bb32a9337206eb"
  },
  {
   "metadata": {},
   "cell_type": "markdown",
   "source": [
    "### Introducing dimensionless viscosities $\\zeta_1$ and $\\zeta_2$\n",
    "(and likewise rescaled friction coefficients)"
   ],
   "id": "a2b7aabb448b75c9"
  },
  {
   "metadata": {
    "ExecuteTime": {
     "end_time": "2025-03-21T19:30:21.131634Z",
     "start_time": "2025-03-21T19:30:21.126058Z"
    }
   },
   "cell_type": "code",
   "source": [
    "zeta1, zeta2 = sp.symbols('zeta_1 zeta_2', real=True)\n",
    "alpha_par_sq, alpha_perp_sq = sp.symbols('alpha_∥^2 alpha_⊥^2', real=True)"
   ],
   "id": "85a7b46ba51f8452",
   "outputs": [],
   "execution_count": 200
  },
  {
   "metadata": {
    "ExecuteTime": {
     "end_time": "2025-03-21T20:05:53.665360Z",
     "start_time": "2025-03-21T20:05:53.660533Z"
    }
   },
   "cell_type": "code",
   "source": [
    "def split_velocity_pressure(expr, p, var):\n",
    "    \"\"\"\n",
    "    Given a Sympy expression expr, split it into two pieces:\n",
    "      - vel_terms: the sum of terms that do NOT contain any derivative of p with respect to var.\n",
    "      - pres_terms: the sum of terms that DO contain a derivative of p with respect to var.\n",
    "    The splitting is done on the expanded form of expr.\n",
    "    \"\"\"\n",
    "    # Expand the expression so terms are separated\n",
    "    expr_expanded = sp.expand(expr)\n",
    "    vel_terms = 0\n",
    "    pres_terms = 0\n",
    "    for term in sp.Add.make_args(expr_expanded):\n",
    "        # Check for any derivative of p with respect to the chosen variable.\n",
    "        # p.diff(var) produces an object of type Derivative(p, var).\n",
    "        if term.has(sp.Derivative(p_field, var)):\n",
    "            pres_terms += term\n",
    "        else:\n",
    "            vel_terms += term\n",
    "    return sp.simplify(vel_terms), sp.simplify(pres_terms)"
   ],
   "id": "e19c2b75854c830e",
   "outputs": [],
   "execution_count": 214
  },
  {
   "metadata": {
    "ExecuteTime": {
     "end_time": "2025-03-21T20:05:55.473526Z",
     "start_time": "2025-03-21T20:05:55.397775Z"
    }
   },
   "cell_type": "code",
   "source": [
    "# Now, for each row of built_eq we want to:\n",
    "# - extract the velocity-dependent terms,\n",
    "# - divide them by nu3,\n",
    "# - then add back the pressure derivative terms.\n",
    "\n",
    "# For the x-component (row 0), we assume the pressure derivative is p.diff(x):\n",
    "vel_terms_x, pres_terms_x = split_velocity_pressure(built_eq.lhs[0], p_field, x)\n",
    "new_eq0 = sp.simplify(vel_terms_x/nu3 + pres_terms_x)\n",
    "\n",
    "# For the y-component (row 1), we assume the pressure derivative is p.diff(y):\n",
    "vel_terms_y, pres_terms_y = split_velocity_pressure(built_eq.lhs[1], p_field, y)\n",
    "new_eq1 = sp.simplify(vel_terms_y/nu3 + pres_terms_y)\n",
    "\n",
    "# Reassemble the modified equation into a new 2x1 matrix:\n",
    "new_built_eq = sp.Matrix([new_eq0, new_eq1])\n",
    "display(new_built_eq)"
   ],
   "id": "7ddb453954a48724",
   "outputs": [
    {
     "data": {
      "text/plain": [
       "Matrix([\n",
       "[(m_∥**2*v_x(x, y) + 2*nu1*Derivative(v_x(x, y), (x, 2)) + nu2*Derivative(v_x(x, y), (x, 2)) + nu3*Derivative(p(x, y), x) - nu3*Derivative(v_x(x, y), (x, 2)) + nu3*Derivative(v_x(x, y), (y, 2)) - nu4*Derivative(v_x(x, y), (x, 2)) + nu5*Derivative(v_x(x, y), (x, 2)))/nu3],\n",
       "[                                      (m_⊥**2*v_y(x, y) + nu2*Derivative(v_y(x, y), (y, 2)) + nu3*Derivative(p(x, y), y) + nu3*Derivative(v_y(x, y), (x, 2)) - nu3*Derivative(v_y(x, y), (y, 2)) + nu4*Derivative(v_y(x, y), (y, 2)) - nu5*Derivative(v_y(x, y), (y, 2)))/nu3]])"
      ],
      "text/latex": "$\\displaystyle \\left[\\begin{matrix}\\frac{m_{∥}^{2} v_{x}{\\left(x,y \\right)} + 2 \\nu_{1} \\frac{\\partial^{2}}{\\partial x^{2}} v_{x}{\\left(x,y \\right)} + \\nu_{2} \\frac{\\partial^{2}}{\\partial x^{2}} v_{x}{\\left(x,y \\right)} + \\nu_{3} \\frac{\\partial}{\\partial x} p{\\left(x,y \\right)} - \\nu_{3} \\frac{\\partial^{2}}{\\partial x^{2}} v_{x}{\\left(x,y \\right)} + \\nu_{3} \\frac{\\partial^{2}}{\\partial y^{2}} v_{x}{\\left(x,y \\right)} - \\nu_{4} \\frac{\\partial^{2}}{\\partial x^{2}} v_{x}{\\left(x,y \\right)} + \\nu_{5} \\frac{\\partial^{2}}{\\partial x^{2}} v_{x}{\\left(x,y \\right)}}{\\nu_{3}}\\\\\\frac{m_{⊥}^{2} v_{y}{\\left(x,y \\right)} + \\nu_{2} \\frac{\\partial^{2}}{\\partial y^{2}} v_{y}{\\left(x,y \\right)} + \\nu_{3} \\frac{\\partial}{\\partial y} p{\\left(x,y \\right)} + \\nu_{3} \\frac{\\partial^{2}}{\\partial x^{2}} v_{y}{\\left(x,y \\right)} - \\nu_{3} \\frac{\\partial^{2}}{\\partial y^{2}} v_{y}{\\left(x,y \\right)} + \\nu_{4} \\frac{\\partial^{2}}{\\partial y^{2}} v_{y}{\\left(x,y \\right)} - \\nu_{5} \\frac{\\partial^{2}}{\\partial y^{2}} v_{y}{\\left(x,y \\right)}}{\\nu_{3}}\\end{matrix}\\right]$"
     },
     "metadata": {},
     "output_type": "display_data"
    }
   ],
   "execution_count": 215
  },
  {
   "metadata": {
    "ExecuteTime": {
     "end_time": "2025-03-21T20:09:33.763298Z",
     "start_time": "2025-03-21T20:09:33.749274Z"
    }
   },
   "cell_type": "code",
   "source": [
    "new_built_eq_0 = sp.collect(new_built_eq[0], sp.diff(v_x, (x,2)))\n",
    "new_built_eq_1 = sp.collect(new_built_eq[1], sp.diff(v_y, (y,2)))\n",
    "new_built_eq_collected = sp.Matrix([new_built_eq_0, new_built_eq_1])\n",
    "display(new_built_eq_collected)"
   ],
   "id": "5f383dac221de2c5",
   "outputs": [
    {
     "data": {
      "text/plain": [
       "Matrix([\n",
       "[(m_∥**2*v_x(x, y) + nu3*Derivative(p(x, y), x) + nu3*Derivative(v_x(x, y), (y, 2)) + (2*nu1 + nu2 - nu3 - nu4 + nu5)*Derivative(v_x(x, y), (x, 2)))/nu3],\n",
       "[        (m_⊥**2*v_y(x, y) + nu3*Derivative(p(x, y), y) + nu3*Derivative(v_y(x, y), (x, 2)) + (nu2 - nu3 + nu4 - nu5)*Derivative(v_y(x, y), (y, 2)))/nu3]])"
      ],
      "text/latex": "$\\displaystyle \\left[\\begin{matrix}\\frac{m_{∥}^{2} v_{x}{\\left(x,y \\right)} + \\nu_{3} \\frac{\\partial}{\\partial x} p{\\left(x,y \\right)} + \\nu_{3} \\frac{\\partial^{2}}{\\partial y^{2}} v_{x}{\\left(x,y \\right)} + \\left(2 \\nu_{1} + \\nu_{2} - \\nu_{3} - \\nu_{4} + \\nu_{5}\\right) \\frac{\\partial^{2}}{\\partial x^{2}} v_{x}{\\left(x,y \\right)}}{\\nu_{3}}\\\\\\frac{m_{⊥}^{2} v_{y}{\\left(x,y \\right)} + \\nu_{3} \\frac{\\partial}{\\partial y} p{\\left(x,y \\right)} + \\nu_{3} \\frac{\\partial^{2}}{\\partial x^{2}} v_{y}{\\left(x,y \\right)} + \\left(\\nu_{2} - \\nu_{3} + \\nu_{4} - \\nu_{5}\\right) \\frac{\\partial^{2}}{\\partial y^{2}} v_{y}{\\left(x,y \\right)}}{\\nu_{3}}\\end{matrix}\\right]$"
     },
     "metadata": {},
     "output_type": "display_data"
    }
   ],
   "execution_count": 220
  },
  {
   "metadata": {
    "ExecuteTime": {
     "end_time": "2025-03-21T20:11:35.537267Z",
     "start_time": "2025-03-21T20:11:35.533470Z"
    }
   },
   "cell_type": "code",
   "source": [
    "subs_dimensionless = {\n",
    "    # zeta1\n",
    "    (2*nu1 + nu2 -  nu3 - nu4 + nu5)/nu3 : zeta1,\n",
    "    # zeta2\n",
    "    (nu2 + nu4 - nu3 - nu5)/nu3 : zeta2,\n",
    "    # alpha_parallel^2\n",
    "    (m_parallel**2/nu3): alpha_par_sq,\n",
    "    # alpha_perp^2\n",
    "    (m_perp**2/nu3): alpha_perp_sq\n",
    "}"
   ],
   "id": "e019122b900203f0",
   "outputs": [],
   "execution_count": 225
  },
  {
   "metadata": {
    "ExecuteTime": {
     "end_time": "2025-03-21T20:11:37.629347Z",
     "start_time": "2025-03-21T20:11:37.617509Z"
    }
   },
   "cell_type": "code",
   "source": [
    "built_eq_dimless = new_built_eq_collected.subs(subs_dimensionless)\n",
    "display(built_eq_dimless)"
   ],
   "id": "4899277e0ff101f3",
   "outputs": [
    {
     "data": {
      "text/plain": [
       "Matrix([\n",
       "[(m_∥**2*v_x(x, y) + nu3*Derivative(p(x, y), x) + nu3*Derivative(v_x(x, y), (y, 2)) + (2*nu1 + nu2 - nu3 - nu4 + nu5)*Derivative(v_x(x, y), (x, 2)))/nu3],\n",
       "[        (m_⊥**2*v_y(x, y) + nu3*Derivative(p(x, y), y) + nu3*Derivative(v_y(x, y), (x, 2)) + (nu2 - nu3 + nu4 - nu5)*Derivative(v_y(x, y), (y, 2)))/nu3]])"
      ],
      "text/latex": "$\\displaystyle \\left[\\begin{matrix}\\frac{m_{∥}^{2} v_{x}{\\left(x,y \\right)} + \\nu_{3} \\frac{\\partial}{\\partial x} p{\\left(x,y \\right)} + \\nu_{3} \\frac{\\partial^{2}}{\\partial y^{2}} v_{x}{\\left(x,y \\right)} + \\left(2 \\nu_{1} + \\nu_{2} - \\nu_{3} - \\nu_{4} + \\nu_{5}\\right) \\frac{\\partial^{2}}{\\partial x^{2}} v_{x}{\\left(x,y \\right)}}{\\nu_{3}}\\\\\\frac{m_{⊥}^{2} v_{y}{\\left(x,y \\right)} + \\nu_{3} \\frac{\\partial}{\\partial y} p{\\left(x,y \\right)} + \\nu_{3} \\frac{\\partial^{2}}{\\partial x^{2}} v_{y}{\\left(x,y \\right)} + \\left(\\nu_{2} - \\nu_{3} + \\nu_{4} - \\nu_{5}\\right) \\frac{\\partial^{2}}{\\partial y^{2}} v_{y}{\\left(x,y \\right)}}{\\nu_{3}}\\end{matrix}\\right]$"
     },
     "metadata": {},
     "output_type": "display_data"
    }
   ],
   "execution_count": 226
  }
 ],
 "metadata": {
  "kernelspec": {
   "display_name": "Python 3",
   "language": "python",
   "name": "python3"
  },
  "language_info": {
   "codemirror_mode": {
    "name": "ipython",
    "version": 2
   },
   "file_extension": ".py",
   "mimetype": "text/x-python",
   "name": "python",
   "nbconvert_exporter": "python",
   "pygments_lexer": "ipython2",
   "version": "2.7.6"
  }
 },
 "nbformat": 4,
 "nbformat_minor": 5
}
