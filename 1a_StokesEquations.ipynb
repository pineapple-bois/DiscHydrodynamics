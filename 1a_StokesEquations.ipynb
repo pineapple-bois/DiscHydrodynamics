{
 "cells": [
  {
   "metadata": {},
   "cell_type": "markdown",
   "source": "\\newpage",
   "id": "1ef042bb74b9866a"
  },
  {
   "metadata": {},
   "cell_type": "markdown",
   "source": [
    "# Hydrodynamics of a disk\n",
    "in a thin film of weakly nematic fluid subject to linear friction, [Abdallah Daddi-Moussa-Ider et al](https://iopscience.iop.org/article/10.1088/1361-648X/ad65ad)"
   ],
   "id": "4e67e37f355ae970"
  },
  {
   "cell_type": "code",
   "id": "initial_id",
   "metadata": {
    "collapsed": true,
    "ExecuteTime": {
     "end_time": "2025-03-25T09:33:38.393302Z",
     "start_time": "2025-03-25T09:33:37.954062Z"
    }
   },
   "source": "import sympy as sp",
   "outputs": [],
   "execution_count": 1
  },
  {
   "metadata": {},
   "cell_type": "markdown",
   "source": "## 2 - Low Reynolds number flows in a two-dimensional anisotropic fluid medium",
   "id": "c52940ce95e8c6b2"
  },
  {
   "metadata": {},
   "cell_type": "markdown",
   "source": [
    "For flows at low Reynolds numbers, viscous contributions dominate inertial ones. Under these conditions, the dynamics of the surrounding fluid are predominantly governed by the Stokes equation. We here study an extension of this equation to take into account possible friction with the surrounding.\n",
    "\n",
    "In reality, such friction may arise from a substrate and possibly by an additional cover slide confining a thin, basically two-dimensional fluid layer, or, possibly and to some approximation, from the friction with a surrounding fluid. Consequently, the flow equation can be generally expressed as,\n",
    "$$\\nabla_j\\,\\sigma_{ij}(\\mathbf{r})+\\mathbf{M}_{ij}\\,v_j(\\mathbf{r})=f_i(\\mathbf{r})\\tag{1}$$\n",
    "Which we now derive symbolically."
   ],
   "id": "7d5d586870aa3d07"
  },
  {
   "metadata": {},
   "cell_type": "markdown",
   "source": [
    "### Momentum conservation in a fluid\n",
    "\n",
    "For a fluid of density $\\rho$, the momentum balance is given by\n",
    "$$\\rho \\left(\\partial_t v_i + v_j\\nabla_j v_i\\right) = \\nabla_j \\sigma_{ij} + f^{\\rm ext}_i$$\n",
    "\n",
    "where:\n",
    "\n",
    "- $v_i(\\mathbf{r})$  is the velocity field,\n",
    "- $\\sigma_{ij}$  is the stress tensor,\n",
    "- $f^{\\rm ext}_i$  represents any external force density.\n",
    "\n",
    "At low Reynolds numbers, the inertial terms (those involving $\\rho$) become negligible compared to viscous effects which simplifies our momentum balance to,\n",
    "$$\\nabla_j \\sigma_{ij} + f^{\\rm ext}_i = 0$$"
   ],
   "id": "ff3750c646acb6ab"
  },
  {
   "metadata": {},
   "cell_type": "markdown",
   "source": "The following components and functions depend on position. We assume static w.r.t time",
   "id": "cd8e9123c658a66f"
  },
  {
   "metadata": {
    "ExecuteTime": {
     "end_time": "2025-03-25T09:33:38.404422Z",
     "start_time": "2025-03-25T09:33:38.400833Z"
    }
   },
   "cell_type": "code",
   "source": [
    "# Define the spatial coordinates\n",
    "x, y = sp.symbols('x y')\n",
    "\n",
    "# Define the position vector r as a 2-dimensional matrix\n",
    "r = sp.Matrix([x, y])\n",
    "\n",
    "# Define velocity components as functions of r[0] and r[1]\n",
    "v_x = sp.Function('v_x')(r[0], r[1])\n",
    "v_y = sp.Function('v_y')(r[0], r[1])\n",
    "v = sp.Matrix([v_x, v_y])\n",
    "\n",
    "# Define external force components as functions of r[0] and r[1]\n",
    "f_x = sp.Function('f_x')(r[0], r[1])\n",
    "f_y = sp.Function('f_y')(r[0], r[1])\n",
    "f_ext = sp.Matrix([f_x, f_y])\n",
    "\n",
    "# Define stress tensor components as functions of r[0] and r[1]\n",
    "sigma11 = sp.Function('sigma11')(r[0], r[1])\n",
    "sigma12 = sp.Function('sigma12')(r[0], r[1])\n",
    "sigma21 = sp.Function('sigma21')(r[0], r[1])\n",
    "sigma22 = sp.Function('sigma22')(r[0], r[1])"
   ],
   "id": "a839588174c8b3b0",
   "outputs": [],
   "execution_count": 2
  },
  {
   "metadata": {},
   "cell_type": "markdown",
   "source": "Representing $\\sigma_{ij}$ as a $2\\times 2$ matrix is a convenient way of handling a rank-two tensor in a fixed coordinate system.",
   "id": "9efc406db22b876e"
  },
  {
   "metadata": {
    "ExecuteTime": {
     "end_time": "2025-03-25T09:33:38.418386Z",
     "start_time": "2025-03-25T09:33:38.411468Z"
    }
   },
   "cell_type": "code",
   "source": [
    "# Build the stress tensor as a 2x2 matrix\n",
    "sigma_tensor = sp.Matrix([[sigma11, sigma12],\n",
    "                          [sigma21, sigma22]])\n",
    "display(sigma_tensor)"
   ],
   "id": "46d44df6a7b1f0bc",
   "outputs": [
    {
     "data": {
      "text/plain": [
       "Matrix([\n",
       "[sigma11(x, y), sigma12(x, y)],\n",
       "[sigma21(x, y), sigma22(x, y)]])"
      ],
      "text/latex": "$\\displaystyle \\left[\\begin{matrix}\\sigma_{11}{\\left(x,y \\right)} & \\sigma_{12}{\\left(x,y \\right)}\\\\\\sigma_{21}{\\left(x,y \\right)} & \\sigma_{22}{\\left(x,y \\right)}\\end{matrix}\\right]$"
     },
     "metadata": {},
     "output_type": "display_data"
    }
   ],
   "execution_count": 3
  },
  {
   "metadata": {},
   "cell_type": "markdown",
   "source": "----",
   "id": "9494828000f85408"
  },
  {
   "metadata": {},
   "cell_type": "markdown",
   "source": [
    "### Incorporating Frictional Effects\n",
    "\n",
    "In many realistic situations, such as a thin film confined by a substrate or cover slide, or even friction with a surrounding fluid—there is an additional frictional force. Microscopically, this friction arises because the moving fluid exerts a force on the substrate, which in turn reacts with a force proportional to the local velocity. To model this effect, we introduce a friction term:\n",
    "\n",
    "$$\\text{Friction force per unit area} = \\mathbf{M}_{ij}\\,v_j$$\n",
    "\n",
    "where $\\mathbf{M}_{ij}$ is a friction tensor. For isotropic friction, this might simply be $\\Gamma\\,\\delta_{ij}$ (with $\\Gamma$ being a friction coefficient), but in a more general case (and indeed in this case) the friction can be anisotropic."
   ],
   "id": "85b865ee428030fa"
  },
  {
   "metadata": {
    "ExecuteTime": {
     "end_time": "2025-03-25T09:33:38.514887Z",
     "start_time": "2025-03-25T09:33:38.507811Z"
    }
   },
   "cell_type": "code",
   "source": [
    "# Define the friction tensor M_ij as a 2x2 matrix.\n",
    "# For the most general case, we allow each component to be a function.\n",
    "M11 = sp.Function('M11')(x, y)\n",
    "M12 = sp.Function('M12')(x, y)\n",
    "M21 = sp.Function('M21')(x, y)\n",
    "M22 = sp.Function('M22')(x, y)\n",
    "\n",
    "M_tensor = sp.Matrix([[M11, M12],\n",
    "                      [M21, M22]])\n",
    "\n",
    "print(\"Friction tensor\")\n",
    "display(M_tensor)\n",
    "\n",
    "# Alternatively, if friction is isotropic, we might use a constant friction coefficient Gamma:\n",
    "Gamma = sp.symbols('Gamma', real=True, positive=True)\n",
    "M_constant = Gamma * sp.eye(2)\n",
    "print(\"\\nIsotropic friction tensor\")\n",
    "display(M_constant)"
   ],
   "id": "91f8d03d4f17ccaa",
   "outputs": [
    {
     "name": "stdout",
     "output_type": "stream",
     "text": [
      "Friction tensor\n"
     ]
    },
    {
     "data": {
      "text/plain": [
       "Matrix([\n",
       "[M11(x, y), M12(x, y)],\n",
       "[M21(x, y), M22(x, y)]])"
      ],
      "text/latex": "$\\displaystyle \\left[\\begin{matrix}M_{11}{\\left(x,y \\right)} & M_{12}{\\left(x,y \\right)}\\\\M_{21}{\\left(x,y \\right)} & M_{22}{\\left(x,y \\right)}\\end{matrix}\\right]$"
     },
     "metadata": {},
     "output_type": "display_data"
    },
    {
     "name": "stdout",
     "output_type": "stream",
     "text": [
      "\n",
      "Isotropic friction tensor\n"
     ]
    },
    {
     "data": {
      "text/plain": [
       "Matrix([\n",
       "[Gamma,     0],\n",
       "[    0, Gamma]])"
      ],
      "text/latex": "$\\displaystyle \\left[\\begin{matrix}\\Gamma & 0\\\\0 & \\Gamma\\end{matrix}\\right]$"
     },
     "metadata": {},
     "output_type": "display_data"
    }
   ],
   "execution_count": 4
  },
  {
   "metadata": {},
   "cell_type": "markdown",
   "source": [
    "Adding either of these friction terms to our force balance, we have\n",
    "$$\\nabla_j \\sigma_{ij} + \\mathbf{M}_{ij}\\,v_j + f^{\\rm ext}_i = 0$$"
   ],
   "id": "408bf1b1f5b545da"
  },
  {
   "metadata": {},
   "cell_type": "markdown",
   "source": "----",
   "id": "ceb4b5ec5684d6d6"
  },
  {
   "metadata": {},
   "cell_type": "markdown",
   "source": [
    "### Incorporating the total stress tensor $\\sigma_{ij}(\\mathbf{r})$\n",
    "\n",
    "Assuming $i, j \\in \\{x, y\\}$, equation $(1)$,\n",
    "$$\\sigma_{ij}(\\mathbf{r})=p(\\mathbf{r})\\,\\delta_{ij}+\\tilde{\\sigma}_{ij}(\\mathbf{r})$$\n",
    "\n",
    "represents the components of the stress tensor where,\n",
    "\n",
    "- $p(\\mathbf{r})$ is the pressure field\n",
    "- The Kronecker delta $\\delta_{ij} = \\begin{cases} 1 & \\text{if } i = j \\\\0 & \\text{if } i \\neq j\\end{cases}$"
   ],
   "id": "9b20db6b689bd38b"
  },
  {
   "metadata": {},
   "cell_type": "markdown",
   "source": [
    "#### Simplify stress tensor to 'pure dissipative stress'\n",
    "\n",
    "We now need to show that,\n",
    "$$\\tilde{\\sigma}_{ij}=\\sigma_{ij}^{\\text{D}}=-\\nu_{ijkl}\\nabla_l\\,v_k\\tag{2}$$\n"
   ],
   "id": "a0bd0c4960b9c0be"
  },
  {
   "metadata": {},
   "cell_type": "markdown",
   "source": [
    "In the Appendix, `REF 80`: \"Pleiner H and Brand H R 1996 Hydrodynamics and electrohydrodynamics of liquid crystals Pattern Formation in Liquid Crystals ed A Buka and L Kramer (Springer)\n",
    "p 15–67\" we find,\n",
    "\n",
    "![img](Figures/Ref80.png)"
   ],
   "id": "1583653dff1cb5bc"
  },
  {
   "metadata": {},
   "cell_type": "markdown",
   "source": [
    "Which is equation $(3)$, simplified by equation $(4)$\n",
    "\n",
    "- 5 distinct viscosities defines an anisotropic fluid medium.\n",
    "- We examine scenario of the director being consistently and uniformly orientated along a single global axis."
   ],
   "id": "31c79adb570c0cc2"
  },
  {
   "metadata": {},
   "cell_type": "markdown",
   "source": "#### Derivation of stress tensor",
   "id": "f692cf3087dd19df"
  },
  {
   "metadata": {},
   "cell_type": "markdown",
   "source": [
    "We build $\\nu_{ijkl}$ as a linear combination of all distinct tensor contractions allowed by the uniaxial symmetry around some director $\\mathbf{n}=\\begin{pmatrix}n_x & n_y\\end{pmatrix}^T$\n",
    "\n",
    "`Note`: we could need to normalise as a unit vector"
   ],
   "id": "9e9aa67101b7da82"
  },
  {
   "metadata": {
    "ExecuteTime": {
     "end_time": "2025-03-25T09:33:38.545452Z",
     "start_time": "2025-03-25T09:33:38.543251Z"
    }
   },
   "cell_type": "code",
   "source": [
    "n_x, n_y = sp.symbols('n_x n_y', real=True)\n",
    "# Optionally enforce n_x^2 + n_y^2 = 1:\n",
    "# constraints = [sp.Eq(n_x**2 + n_y**2, 1)]\n",
    "n = (n_x, n_y)"
   ],
   "id": "7aa8d21073b01abc",
   "outputs": [],
   "execution_count": 5
  },
  {
   "metadata": {},
   "cell_type": "markdown",
   "source": "Define multiple viscosity coefficients",
   "id": "f27db5f3c8b35f13"
  },
  {
   "metadata": {
    "ExecuteTime": {
     "end_time": "2025-03-25T09:33:38.570012Z",
     "start_time": "2025-03-25T09:33:38.567089Z"
    }
   },
   "cell_type": "code",
   "source": [
    "# Five viscosity parameters\n",
    "nu1, nu2, nu3, nu4, nu5 = sp.symbols('nu1 nu2 nu3 nu4 nu5', real=True)"
   ],
   "id": "12e62a3e578dfe4b",
   "outputs": [],
   "execution_count": 6
  },
  {
   "metadata": {},
   "cell_type": "markdown",
   "source": [
    "#### Einstein summation in the tensor construction\n",
    "\n",
    "We have a tensor expression of the form,\n",
    "\n",
    "$$\n",
    "\\nu_{ijkl} = \\nu_2,\\Bigl(\\delta_{ik},\\delta_{jl} + \\delta_{il},\\delta_{jk}\\Bigr) + \\bigl[\\dots\\bigr],\\delta_{ik},n_k,n_l + \\dots\n",
    "$$\n",
    "\n",
    "In this expression, the term $\\delta_{ik}\\,n_k$ has a repeated index $k$. By the Einstein summation convention, a repeated index implies a sum over that index. That is,\n",
    "\n",
    "$$\n",
    "\\delta_{ik},n_k = \\sum_{k=0}^{1} \\delta_{ik},n_k = n_i ,.\n",
    "$$\n",
    "\n",
    "Thus, whenever we see $\\delta_{ik}\\,n_k$, it simplifies to $n_i$, meaning it selects the $i$th component of the vector $\\mathbf{n}$"
   ],
   "id": "66f61809e4e9706"
  },
  {
   "metadata": {
    "ExecuteTime": {
     "end_time": "2025-03-25T09:33:38.850254Z",
     "start_time": "2025-03-25T09:33:38.574887Z"
    }
   },
   "cell_type": "code",
   "source": [
    "nu_tensor = {}\n",
    "for i in range(2):\n",
    "    for j in range(2):\n",
    "        for k in range(2):\n",
    "            for l in range(2):\n",
    "                val = 0\n",
    "\n",
    "                # Term 1) Isotropic-like part:\n",
    "                val += nu2 * (\n",
    "                    sp.KroneckerDelta(i, k) * sp.KroneckerDelta(j, l) +\n",
    "                    sp.KroneckerDelta(i, l) * sp.KroneckerDelta(j, k)\n",
    "                )\n",
    "\n",
    "                # Term 2)\n",
    "                val += 2 * (nu1 + nu2 - 2*nu3) * n[i] * n[j] * n[k] * n[l]\n",
    "\n",
    "                # Term 3)\n",
    "                val += (nu4 - nu2) * (\n",
    "                    sp.KroneckerDelta(i, j) * sp.KroneckerDelta(k, l)\n",
    "                )\n",
    "\n",
    "                # Term 4)\n",
    "                val += (nu3 - nu2) * (\n",
    "                    n[i] * n[k] * sp.KroneckerDelta(j, l) +\n",
    "                    n[i] * n[l] * sp.KroneckerDelta(j, k) +\n",
    "                    n[j] * n[k] * sp.KroneckerDelta(i, l) +\n",
    "                    n[j] * n[l] * sp.KroneckerDelta(i, k)\n",
    "                )\n",
    "\n",
    "                # Term 5)\n",
    "                val += (nu5 - nu4 + nu2) * (\n",
    "                    sp.KroneckerDelta(i, j) * n[k] * n[l] +\n",
    "                    sp.KroneckerDelta(k, l) * n[i] * n[j]\n",
    "                )\n",
    "\n",
    "                # Construct dictionary\n",
    "                nu_tensor[(i, j, k, l)] = sp.simplify(val)"
   ],
   "id": "89908f2f968a408f",
   "outputs": [],
   "execution_count": 7
  },
  {
   "metadata": {
    "ExecuteTime": {
     "end_time": "2025-03-25T09:34:20.252670Z",
     "start_time": "2025-03-25T09:34:20.246086Z"
    }
   },
   "cell_type": "code",
   "source": [
    "dv = sp.zeros(2,2)\n",
    "dv[0,0] = v_x.diff(x)  # dee(v1)/dee x\n",
    "dv[0,1] = v_y.diff(x)  # dee(v2)/dee x\n",
    "dv[1,0] = v_x.diff(y)  # dee(v1)/dee y\n",
    "dv[1,1] = v_y.diff(y)  # dee(v2)/dee y\n",
    "\n",
    "print(\"Velocity gradients dv\")\n",
    "display(dv)"
   ],
   "id": "c17e5c74a8ef712e",
   "outputs": [
    {
     "name": "stdout",
     "output_type": "stream",
     "text": [
      "Velocity gradients dv\n"
     ]
    },
    {
     "data": {
      "text/plain": [
       "Matrix([\n",
       "[Derivative(v_x(x, y), x), Derivative(v_y(x, y), x)],\n",
       "[Derivative(v_x(x, y), y), Derivative(v_y(x, y), y)]])"
      ],
      "text/latex": "$\\displaystyle \\left[\\begin{matrix}\\frac{\\partial}{\\partial x} v_{x}{\\left(x,y \\right)} & \\frac{\\partial}{\\partial x} v_{y}{\\left(x,y \\right)}\\\\\\frac{\\partial}{\\partial y} v_{x}{\\left(x,y \\right)} & \\frac{\\partial}{\\partial y} v_{y}{\\left(x,y \\right)}\\end{matrix}\\right]$"
     },
     "metadata": {},
     "output_type": "display_data"
    }
   ],
   "execution_count": 9
  },
  {
   "metadata": {},
   "cell_type": "markdown",
   "source": "----",
   "id": "695c9c1253e2e7a0"
  },
  {
   "metadata": {},
   "cell_type": "markdown",
   "source": "### Simplification by continuity equation",
   "id": "891df3f5a7d615a5"
  },
  {
   "metadata": {},
   "cell_type": "markdown",
   "source": [
    "We incorporate the common assumption made in similar analyses of fluid flows, namely, local volume conservation and constant density of the fluid. As a result, the continuity equation simplifies to\n",
    "$$\\nabla\\cdot\\mathbf{v}=0\\tag{5}$$\n",
    "\n",
    "Under the given circumstances, the director $\\widehat{\\mathbf{n}}$ introduces uniaxial anisotropy to the viscosity tensor. Without loss of generality, we choose\n",
    "$$\\widehat{\\mathbf{n}}\\,\\|\\,\\widehat{\\mathbf{x}}\\implies\\widehat{\\mathbf{n}}=(1, 0)$$\n",
    "\n",
    "**Effect on the Viscosity Tensor**\n",
    "\n",
    "In our uniaxial tensor $\\nu_{ijkl}$, any factor like `n[i]` or `n[j]` becomes zero unless $i=0$ (the “x” index). Concretely;\n",
    "\n",
    "- `n[0]` = 1\n",
    "- `n[1]` = 0\n",
    "\n",
    "So any product `n[i]*n[j]*...` will vanish unless $i=j=0$. Concretely:\n",
    "- `n[i]*n[j]` = $1$ only if $i=j=0$; otherwise $0$.\n",
    "- `n[i]*n[j]*n[k]*n[l]` is 1 only if $i=j=k=l=0$; else $0$.\n",
    "\n",
    "**Incompressibility**\n",
    "\n",
    "Using the original notation we set (which will be amended later) by equation $(5)$ we have,\n",
    "$$v_1\\equiv v_x, \\quad  v_2\\equiv v_y$$\n",
    "Therefore\n",
    "$$\\frac{\\partial v_1}{\\partial x}=-\\frac{\\partial v_2}{\\partial y}$$\n",
    "\n",
    "Once we have $\\nu_{ijkl}$, the dissipative (deviatoric) stress is given by\n",
    "$$\\sigma^{\\text{D}}_{i j} = -\\sum_{k=0}^1\\sum_{\\ell=0}^1\\nu_{i j k \\ell}\\,\\nabla_j v_k$$"
   ],
   "id": "a15f88e72ff30ad5"
  },
  {
   "metadata": {
    "ExecuteTime": {
     "end_time": "2025-03-25T09:34:24.179550Z",
     "start_time": "2025-03-25T09:34:24.094190Z"
    }
   },
   "cell_type": "code",
   "source": [
    "# dv is a 2x2 matrix: dv[j,k] = dee(v_k)/dee(x_j)\n",
    "sigmaD = sp.zeros(2, 2)\n",
    "for i in range(2):\n",
    "    for j in range(2):\n",
    "        expr = 0\n",
    "        for k in range(2):\n",
    "            for l in range(2):\n",
    "                expr += -nu_tensor[(i, j, k, l)] * dv[l, k]\n",
    "        # Apply substitutions:\n",
    "        #   - Set the director components: nx = 1 and ny = 0\n",
    "        #   - Use the incompressibility condition: dv[0,0] = -dv[1,1]\n",
    "        sigmaD[i, j] = sp.simplify(expr.subs({ n_x: 1, n_y: 0 }))\n",
    "\n",
    "# Simplify the entire matrix, take negative\n",
    "sigmaD = sp.simplify(sigmaD)\n",
    "\n",
    "print(\"Dissipative Stress Tensor Components:\")\n",
    "display(sigmaD)"
   ],
   "id": "3948a7edfd44d44a",
   "outputs": [
    {
     "name": "stdout",
     "output_type": "stream",
     "text": [
      "Dissipative Stress Tensor Components:\n"
     ]
    },
    {
     "data": {
      "text/plain": [
       "Matrix([\n",
       "[-nu5*Derivative(v_y(x, y), y) - (2*nu1 + nu2 - nu4 + 2*nu5)*Derivative(v_x(x, y), x),           -nu3*(Derivative(v_x(x, y), y) + Derivative(v_y(x, y), x))],\n",
       "[                          -nu3*(Derivative(v_x(x, y), y) + Derivative(v_y(x, y), x)), -nu5*Derivative(v_x(x, y), x) - (nu2 + nu4)*Derivative(v_y(x, y), y)]])"
      ],
      "text/latex": "$\\displaystyle \\left[\\begin{matrix}- \\nu_{5} \\frac{\\partial}{\\partial y} v_{y}{\\left(x,y \\right)} - \\left(2 \\nu_{1} + \\nu_{2} - \\nu_{4} + 2 \\nu_{5}\\right) \\frac{\\partial}{\\partial x} v_{x}{\\left(x,y \\right)} & - \\nu_{3} \\left(\\frac{\\partial}{\\partial y} v_{x}{\\left(x,y \\right)} + \\frac{\\partial}{\\partial x} v_{y}{\\left(x,y \\right)}\\right)\\\\- \\nu_{3} \\left(\\frac{\\partial}{\\partial y} v_{x}{\\left(x,y \\right)} + \\frac{\\partial}{\\partial x} v_{y}{\\left(x,y \\right)}\\right) & - \\nu_{5} \\frac{\\partial}{\\partial x} v_{x}{\\left(x,y \\right)} - \\left(\\nu_{2} + \\nu_{4}\\right) \\frac{\\partial}{\\partial y} v_{y}{\\left(x,y \\right)}\\end{matrix}\\right]$"
     },
     "metadata": {},
     "output_type": "display_data"
    }
   ],
   "execution_count": 10
  },
  {
   "metadata": {},
   "cell_type": "markdown",
   "source": "----",
   "id": "329424ff7db1306f"
  },
  {
   "metadata": {},
   "cell_type": "markdown",
   "source": [
    "## Building Eqn $(1)$\n",
    "\n",
    "$$\\nabla_j\\,\\sigma_{ij}(\\mathbf{r})+\\mathbf{M}_{ij}\\,v_j(\\mathbf{r})=f_i(\\mathbf{r})\\tag{1}$$"
   ],
   "id": "10f1b4d0641441cd"
  },
  {
   "metadata": {},
   "cell_type": "markdown",
   "source": [
    "### Incorporating the total stress tensor $\\sigma_{ij}(\\mathbf{r})$\n",
    "\n",
    "Assuming $i, j \\in \\{x, y\\}$, equation $(1)$,\n",
    "$$\\sigma_{ij}(\\mathbf{r})=p(\\mathbf{r})\\,\\delta_{ij}+\\tilde{\\sigma}_{ij}(\\mathbf{r})$$\n",
    "\n",
    "represents the components of the stress tensor where,\n",
    "\n",
    "- $p(\\mathbf{r})$ is the pressure field\n",
    "- The Kronecker delta $\\delta_{ij} = \\begin{cases} 1 & \\text{if } i = j \\\\0 & \\text{if } i \\neq j\\end{cases}$"
   ],
   "id": "ba03e448ab2eeed0"
  },
  {
   "metadata": {
    "ExecuteTime": {
     "end_time": "2025-03-25T09:34:32.286518Z",
     "start_time": "2025-03-25T09:34:32.276739Z"
    }
   },
   "cell_type": "code",
   "source": [
    "# Define pressure field as an independent function\n",
    "p_field = sp.Function('p')(r[0], r[1])\n",
    "\n",
    "# Build total stress tensor: sigma_total = p*delta_{ij} + sigmaD\n",
    "sigma_total = sp.zeros(2, 2)\n",
    "for i in range(2):\n",
    "    for j in range(2):\n",
    "        # Kronecker delta is just sp.KroneckerDelta(i,j)\n",
    "        sigma_total[i, j] = p_field * sp.KroneckerDelta(i, j) + sigmaD[i, j]\n",
    "\n",
    "display(sigma_total)"
   ],
   "id": "cbe5c9e25fd41963",
   "outputs": [
    {
     "data": {
      "text/plain": [
       "Matrix([\n",
       "[-nu5*Derivative(v_y(x, y), y) - (2*nu1 + nu2 - nu4 + 2*nu5)*Derivative(v_x(x, y), x) + p(x, y),                     -nu3*(Derivative(v_x(x, y), y) + Derivative(v_y(x, y), x))],\n",
       "[                                    -nu3*(Derivative(v_x(x, y), y) + Derivative(v_y(x, y), x)), -nu5*Derivative(v_x(x, y), x) - (nu2 + nu4)*Derivative(v_y(x, y), y) + p(x, y)]])"
      ],
      "text/latex": "$\\displaystyle \\left[\\begin{matrix}- \\nu_{5} \\frac{\\partial}{\\partial y} v_{y}{\\left(x,y \\right)} - \\left(2 \\nu_{1} + \\nu_{2} - \\nu_{4} + 2 \\nu_{5}\\right) \\frac{\\partial}{\\partial x} v_{x}{\\left(x,y \\right)} + p{\\left(x,y \\right)} & - \\nu_{3} \\left(\\frac{\\partial}{\\partial y} v_{x}{\\left(x,y \\right)} + \\frac{\\partial}{\\partial x} v_{y}{\\left(x,y \\right)}\\right)\\\\- \\nu_{3} \\left(\\frac{\\partial}{\\partial y} v_{x}{\\left(x,y \\right)} + \\frac{\\partial}{\\partial x} v_{y}{\\left(x,y \\right)}\\right) & - \\nu_{5} \\frac{\\partial}{\\partial x} v_{x}{\\left(x,y \\right)} - \\left(\\nu_{2} + \\nu_{4}\\right) \\frac{\\partial}{\\partial y} v_{y}{\\left(x,y \\right)} + p{\\left(x,y \\right)}\\end{matrix}\\right]$"
     },
     "metadata": {},
     "output_type": "display_data"
    }
   ],
   "execution_count": 11
  },
  {
   "metadata": {},
   "cell_type": "markdown",
   "source": [
    "### Compute $\\nabla_j \\sigma_{ij}$\n",
    "which is shorthand for $\\frac{\\partial \\sigma_{ij}}{\\partial x_j}$ where the index $j$ is summed over following Einstein convention."
   ],
   "id": "6634e5289a0e1703"
  },
  {
   "metadata": {
    "ExecuteTime": {
     "end_time": "2025-03-25T09:34:43.922178Z",
     "start_time": "2025-03-25T09:34:43.864763Z"
    }
   },
   "cell_type": "code",
   "source": [
    "# \"Indices\": 0 -> x, 1 -> y\n",
    "# So partial wrt x is partial wrt x_0, partial wrt y is partial wrt x_1.\n",
    "coords = (x, y)\n",
    "# Build the vector (nabla_j sigma_{ij}) in 2D\n",
    "del_sigmaD = sp.zeros(2, 1)\n",
    "\n",
    "for i in range(2):\n",
    "    # Sum over j=0,1: partial wrt coords[j] of sigma[i,j]\n",
    "    expr = 0\n",
    "    for j in range(2):\n",
    "        expr += sigma_total[i, j].diff(coords[j])\n",
    "    del_sigmaD[i, 0] = sp.simplify(expr)\n",
    "\n",
    "display(del_sigmaD)"
   ],
   "id": "f4e0206a79d3a1cd",
   "outputs": [
    {
     "data": {
      "text/plain": [
       "Matrix([\n",
       "[-nu3*(Derivative(v_x(x, y), (y, 2)) + Derivative(v_y(x, y), x, y)) - nu5*Derivative(v_y(x, y), x, y) - (2*nu1 + nu2 - nu4 + 2*nu5)*Derivative(v_x(x, y), (x, 2)) + Derivative(p(x, y), x)],\n",
       "[                -nu3*(Derivative(v_y(x, y), (x, 2)) + Derivative(v_x(x, y), x, y)) - nu5*Derivative(v_x(x, y), x, y) - (nu2 + nu4)*Derivative(v_y(x, y), (y, 2)) + Derivative(p(x, y), y)]])"
      ],
      "text/latex": "$\\displaystyle \\left[\\begin{matrix}- \\nu_{3} \\left(\\frac{\\partial^{2}}{\\partial y^{2}} v_{x}{\\left(x,y \\right)} + \\frac{\\partial^{2}}{\\partial y\\partial x} v_{y}{\\left(x,y \\right)}\\right) - \\nu_{5} \\frac{\\partial^{2}}{\\partial y\\partial x} v_{y}{\\left(x,y \\right)} - \\left(2 \\nu_{1} + \\nu_{2} - \\nu_{4} + 2 \\nu_{5}\\right) \\frac{\\partial^{2}}{\\partial x^{2}} v_{x}{\\left(x,y \\right)} + \\frac{\\partial}{\\partial x} p{\\left(x,y \\right)}\\\\- \\nu_{3} \\left(\\frac{\\partial^{2}}{\\partial x^{2}} v_{y}{\\left(x,y \\right)} + \\frac{\\partial^{2}}{\\partial y\\partial x} v_{x}{\\left(x,y \\right)}\\right) - \\nu_{5} \\frac{\\partial^{2}}{\\partial y\\partial x} v_{x}{\\left(x,y \\right)} - \\left(\\nu_{2} + \\nu_{4}\\right) \\frac{\\partial^{2}}{\\partial y^{2}} v_{y}{\\left(x,y \\right)} + \\frac{\\partial}{\\partial y} p{\\left(x,y \\right)}\\end{matrix}\\right]$"
     },
     "metadata": {},
     "output_type": "display_data"
    }
   ],
   "execution_count": 12
  },
  {
   "metadata": {},
   "cell_type": "markdown",
   "source": "### Simplification by $(\\nu_3 + \\nu_5)\\nabla(\\nabla\\cdot\\mathbf{v})=0$",
   "id": "735c980fb1ede7f5"
  },
  {
   "metadata": {},
   "cell_type": "markdown",
   "source": "Nice step to clear mixed partials as the above term is $0$ in incompressible flow. It should rearrange second derivatives to remove cross derivatives. We must enforce $\\nabla\\cdot\\mathbf{v}=0$ and $\\nabla(\\nabla\\cdot\\mathbf{v})=0$ in SymPy to actually clear these terms.",
   "id": "62b871522452d16a"
  },
  {
   "metadata": {
    "ExecuteTime": {
     "end_time": "2025-03-25T09:34:47.140024Z",
     "start_time": "2025-03-25T09:34:47.121360Z"
    }
   },
   "cell_type": "code",
   "source": [
    "# Define the divergence of v\n",
    "div_v = sp.diff(v_x, x) + sp.diff(v_y, y)\n",
    "\n",
    "# Define the gradient of the divergence\n",
    "grad_div_v = sp.Matrix([sp.diff(div_v, x), sp.diff(div_v, y)])\n",
    "\n",
    "# Define the operator to subtract, multiplied by (nu3+nu5)\n",
    "operator_to_subtract = sp.expand((nu3 + nu5)*grad_div_v)\n",
    "display(operator_to_subtract)"
   ],
   "id": "ead9ca4924aa2c9a",
   "outputs": [
    {
     "data": {
      "text/plain": [
       "Matrix([\n",
       "[nu3*Derivative(v_x(x, y), (x, 2)) + nu3*Derivative(v_y(x, y), x, y) + nu5*Derivative(v_x(x, y), (x, 2)) + nu5*Derivative(v_y(x, y), x, y)],\n",
       "[nu3*Derivative(v_y(x, y), (y, 2)) + nu3*Derivative(v_x(x, y), x, y) + nu5*Derivative(v_y(x, y), (y, 2)) + nu5*Derivative(v_x(x, y), x, y)]])"
      ],
      "text/latex": "$\\displaystyle \\left[\\begin{matrix}\\nu_{3} \\frac{\\partial^{2}}{\\partial x^{2}} v_{x}{\\left(x,y \\right)} + \\nu_{3} \\frac{\\partial^{2}}{\\partial y\\partial x} v_{y}{\\left(x,y \\right)} + \\nu_{5} \\frac{\\partial^{2}}{\\partial x^{2}} v_{x}{\\left(x,y \\right)} + \\nu_{5} \\frac{\\partial^{2}}{\\partial y\\partial x} v_{y}{\\left(x,y \\right)}\\\\\\nu_{3} \\frac{\\partial^{2}}{\\partial y^{2}} v_{y}{\\left(x,y \\right)} + \\nu_{3} \\frac{\\partial^{2}}{\\partial y\\partial x} v_{x}{\\left(x,y \\right)} + \\nu_{5} \\frac{\\partial^{2}}{\\partial y^{2}} v_{y}{\\left(x,y \\right)} + \\nu_{5} \\frac{\\partial^{2}}{\\partial y\\partial x} v_{x}{\\left(x,y \\right)}\\end{matrix}\\right]$"
     },
     "metadata": {},
     "output_type": "display_data"
    }
   ],
   "execution_count": 13
  },
  {
   "metadata": {},
   "cell_type": "markdown",
   "source": "Expand `del_sigma` to clear terms",
   "id": "d4a8f0eb001b2d6e"
  },
  {
   "metadata": {
    "ExecuteTime": {
     "end_time": "2025-03-25T09:34:50.219346Z",
     "start_time": "2025-03-25T09:34:50.171537Z"
    }
   },
   "cell_type": "code",
   "source": [
    "del_sigmaD_expand = sp.expand(del_sigmaD)\n",
    "del_sigmaD_simp = sp.simplify(del_sigmaD_expand + operator_to_subtract)"
   ],
   "id": "c7065dc9d04eb573",
   "outputs": [],
   "execution_count": 14
  },
  {
   "metadata": {},
   "cell_type": "markdown",
   "source": "Collect terms by $\\partial_{xx}$ and $\\partial_{yy}$",
   "id": "58ebd79f254ceb7d"
  },
  {
   "metadata": {
    "ExecuteTime": {
     "end_time": "2025-03-25T09:34:52.711577Z",
     "start_time": "2025-03-25T09:34:52.688595Z"
    }
   },
   "cell_type": "code",
   "source": [
    "del_sigmaD_0 = sp.collect(del_sigmaD_simp[0], sp.diff(v_x, (x,2)))\n",
    "del_sigmaD_1 = sp.collect(del_sigmaD_simp[1], sp.diff(v_y, (y,2)))\n",
    "del_sigmaD_final = sp.Matrix([\n",
    "    del_sigmaD_0,\n",
    "    del_sigmaD_1\n",
    "])\n",
    "display(del_sigmaD_final)"
   ],
   "id": "866c50882b82aea7",
   "outputs": [
    {
     "data": {
      "text/plain": [
       "Matrix([\n",
       "[-nu3*Derivative(v_x(x, y), (y, 2)) + (-2*nu1 - nu2 + nu3 + nu4 - nu5)*Derivative(v_x(x, y), (x, 2)) + Derivative(p(x, y), x)],\n",
       "[        -nu3*Derivative(v_y(x, y), (x, 2)) + (-nu2 + nu3 - nu4 + nu5)*Derivative(v_y(x, y), (y, 2)) + Derivative(p(x, y), y)]])"
      ],
      "text/latex": "$\\displaystyle \\left[\\begin{matrix}- \\nu_{3} \\frac{\\partial^{2}}{\\partial y^{2}} v_{x}{\\left(x,y \\right)} + \\left(- 2 \\nu_{1} - \\nu_{2} + \\nu_{3} + \\nu_{4} - \\nu_{5}\\right) \\frac{\\partial^{2}}{\\partial x^{2}} v_{x}{\\left(x,y \\right)} + \\frac{\\partial}{\\partial x} p{\\left(x,y \\right)}\\\\- \\nu_{3} \\frac{\\partial^{2}}{\\partial x^{2}} v_{y}{\\left(x,y \\right)} + \\left(- \\nu_{2} + \\nu_{3} - \\nu_{4} + \\nu_{5}\\right) \\frac{\\partial^{2}}{\\partial y^{2}} v_{y}{\\left(x,y \\right)} + \\frac{\\partial}{\\partial y} p{\\left(x,y \\right)}\\end{matrix}\\right]$"
     },
     "metadata": {},
     "output_type": "display_data"
    }
   ],
   "execution_count": 15
  },
  {
   "metadata": {},
   "cell_type": "markdown",
   "source": "### Forming a diagonal form of the friction tensor",
   "id": "57b1d04f93260217"
  },
  {
   "metadata": {},
   "cell_type": "markdown",
   "source": [
    "In the subsequent discussion, we examine the scenario of one of the principal axes of the friction tensor aligning with the nematic director. Thus, the friction tensor in our representation adopts a diagonal form,\n",
    "$$\n",
    "\\mathbf{M}_{\\text{diagonal}}=\\begin{pmatrix}\n",
    "m_{\\parallel}^2 & 0 \\\\\n",
    "0 & m_{\\perp}^2\n",
    "\\end{pmatrix}\\tag{7}\n",
    "$$"
   ],
   "id": "c324a1f6da1ed63a"
  },
  {
   "metadata": {
    "ExecuteTime": {
     "end_time": "2025-03-25T09:34:58.846764Z",
     "start_time": "2025-03-25T09:34:58.841217Z"
    }
   },
   "cell_type": "code",
   "source": [
    "m_parallel, m_perp = sp.symbols('m_∥ m_⊥', real=True, positive=True)\n",
    "M_diag = sp.Matrix([[m_parallel**2, 0],\n",
    "               [0, m_perp**2]])\n",
    "display(M_diag)"
   ],
   "id": "3e32cdf2eb0d0f63",
   "outputs": [
    {
     "data": {
      "text/plain": [
       "Matrix([\n",
       "[m_∥**2,      0],\n",
       "[     0, m_⊥**2]])"
      ],
      "text/latex": "$\\displaystyle \\left[\\begin{matrix}m_{∥}^{2} & 0\\\\0 & m_{⊥}^{2}\\end{matrix}\\right]$"
     },
     "metadata": {},
     "output_type": "display_data"
    }
   ],
   "execution_count": 16
  },
  {
   "metadata": {
    "ExecuteTime": {
     "end_time": "2025-03-25T09:35:01.239159Z",
     "start_time": "2025-03-25T09:35:01.207983Z"
    }
   },
   "cell_type": "code",
   "source": [
    "# Calculate the friction force per unit area as M_ij * v_j (matrix-vector multiplication)\n",
    "friction_force = M_diag * v\n",
    "\n",
    "# Combine them into the momentum conservation equation: div(sigma) + f_ext = 0\n",
    "built_eq = sp.Eq(del_sigmaD_final + friction_force, f_ext)\n",
    "display(built_eq)"
   ],
   "id": "5ff2b4f47f9f2479",
   "outputs": [
    {
     "data": {
      "text/plain": [
       "Eq(Matrix([\n",
       "[m_∥**2*v_x(x, y) - nu3*Derivative(v_x(x, y), (y, 2)) + (-2*nu1 - nu2 + nu3 + nu4 - nu5)*Derivative(v_x(x, y), (x, 2)) + Derivative(p(x, y), x)],\n",
       "[        m_⊥**2*v_y(x, y) - nu3*Derivative(v_y(x, y), (x, 2)) + (-nu2 + nu3 - nu4 + nu5)*Derivative(v_y(x, y), (y, 2)) + Derivative(p(x, y), y)]]), Matrix([\n",
       "[f_x(x, y)],\n",
       "[f_y(x, y)]]))"
      ],
      "text/latex": "$\\displaystyle \\left[\\begin{matrix}m_{∥}^{2} v_{x}{\\left(x,y \\right)} - \\nu_{3} \\frac{\\partial^{2}}{\\partial y^{2}} v_{x}{\\left(x,y \\right)} + \\left(- 2 \\nu_{1} - \\nu_{2} + \\nu_{3} + \\nu_{4} - \\nu_{5}\\right) \\frac{\\partial^{2}}{\\partial x^{2}} v_{x}{\\left(x,y \\right)} + \\frac{\\partial}{\\partial x} p{\\left(x,y \\right)}\\\\m_{⊥}^{2} v_{y}{\\left(x,y \\right)} - \\nu_{3} \\frac{\\partial^{2}}{\\partial x^{2}} v_{y}{\\left(x,y \\right)} + \\left(- \\nu_{2} + \\nu_{3} - \\nu_{4} + \\nu_{5}\\right) \\frac{\\partial^{2}}{\\partial y^{2}} v_{y}{\\left(x,y \\right)} + \\frac{\\partial}{\\partial y} p{\\left(x,y \\right)}\\end{matrix}\\right] = \\left[\\begin{matrix}f_{x}{\\left(x,y \\right)}\\\\f_{y}{\\left(x,y \\right)}\\end{matrix}\\right]$"
     },
     "metadata": {},
     "output_type": "display_data"
    }
   ],
   "execution_count": 17
  },
  {
   "metadata": {},
   "cell_type": "markdown",
   "source": "Which are Eqns $(8a)$ and $(8b)$",
   "id": "e4254c6cbaab2593"
  },
  {
   "metadata": {},
   "cell_type": "markdown",
   "source": "----",
   "id": "1ec0633a06111d5b"
  },
  {
   "metadata": {},
   "cell_type": "markdown",
   "source": "### Manipulate `built_eq` into the simplified form below",
   "id": "53bb32a9337206eb"
  },
  {
   "metadata": {},
   "cell_type": "markdown",
   "source": "![img](Figures/Eqns8.png)",
   "id": "8971d4eb35fb4c66"
  },
  {
   "metadata": {
    "ExecuteTime": {
     "end_time": "2025-03-25T09:35:04.236798Z",
     "start_time": "2025-03-25T09:35:04.222208Z"
    }
   },
   "cell_type": "code",
   "source": [
    "# Expand and isolate row 0 (the x‐component)\n",
    "expr_x = sp.expand(built_eq.lhs[0])\n",
    "\n",
    "modified_expr_x = 0\n",
    "for term in sp.Add.make_args(expr_x):\n",
    "    if term.has(m_parallel**2) or term.has(v_x.diff(x, 2)):\n",
    "        # Divide these particular terms by nu3\n",
    "        modified_expr_x += term / nu3\n",
    "    else:\n",
    "        # Keep the rest unchanged\n",
    "        modified_expr_x += term\n",
    "\n",
    "modified_expr_x_collect = sp.collect(modified_expr_x, sp.diff(v_x, (x,2)))"
   ],
   "id": "37c47a7603a7f2ff",
   "outputs": [],
   "execution_count": 18
  },
  {
   "metadata": {
    "ExecuteTime": {
     "end_time": "2025-03-25T09:35:06.233710Z",
     "start_time": "2025-03-25T09:35:06.219765Z"
    }
   },
   "cell_type": "code",
   "source": [
    "# Expand and isolate row 1 (the y‐component)\n",
    "expr_y = sp.expand(built_eq.lhs[1])\n",
    "\n",
    "modified_expr_y = 0\n",
    "for term in sp.Add.make_args(expr_y):\n",
    "    if term.has(m_perp**2) or term.has(v_y.diff(y, 2)):\n",
    "        modified_expr_y += term / nu3\n",
    "    else:\n",
    "        modified_expr_y += term\n",
    "\n",
    "modified_expr_y_collect = sp.collect(modified_expr_y, sp.diff(v_y, (y,2)))"
   ],
   "id": "8d17fa18b125b8",
   "outputs": [],
   "execution_count": 19
  },
  {
   "metadata": {
    "ExecuteTime": {
     "end_time": "2025-03-25T09:35:08.116763Z",
     "start_time": "2025-03-25T09:35:08.086968Z"
    }
   },
   "cell_type": "code",
   "source": [
    "built_eq_lhs = sp.Matrix([\n",
    "    modified_expr_x_collect,\n",
    "    modified_expr_y_collect\n",
    "])\n",
    "built_eq_factored = sp.Eq(built_eq_lhs, f_ext)\n",
    "display(built_eq_factored)"
   ],
   "id": "fe6f7dc6c5a5e096",
   "outputs": [
    {
     "data": {
      "text/plain": [
       "Eq(Matrix([\n",
       "[m_∥**2*v_x(x, y)/nu3 - nu3*Derivative(v_x(x, y), (y, 2)) + (-2*nu1/nu3 - nu2/nu3 + 1 + nu4/nu3 - nu5/nu3)*Derivative(v_x(x, y), (x, 2)) + Derivative(p(x, y), x)],\n",
       "[            m_⊥**2*v_y(x, y)/nu3 - nu3*Derivative(v_y(x, y), (x, 2)) + (-nu2/nu3 + 1 - nu4/nu3 + nu5/nu3)*Derivative(v_y(x, y), (y, 2)) + Derivative(p(x, y), y)]]), Matrix([\n",
       "[f_x(x, y)],\n",
       "[f_y(x, y)]]))"
      ],
      "text/latex": "$\\displaystyle \\left[\\begin{matrix}\\frac{m_{∥}^{2} v_{x}{\\left(x,y \\right)}}{\\nu_{3}} - \\nu_{3} \\frac{\\partial^{2}}{\\partial y^{2}} v_{x}{\\left(x,y \\right)} + \\left(- \\frac{2 \\nu_{1}}{\\nu_{3}} - \\frac{\\nu_{2}}{\\nu_{3}} + 1 + \\frac{\\nu_{4}}{\\nu_{3}} - \\frac{\\nu_{5}}{\\nu_{3}}\\right) \\frac{\\partial^{2}}{\\partial x^{2}} v_{x}{\\left(x,y \\right)} + \\frac{\\partial}{\\partial x} p{\\left(x,y \\right)}\\\\\\frac{m_{⊥}^{2} v_{y}{\\left(x,y \\right)}}{\\nu_{3}} - \\nu_{3} \\frac{\\partial^{2}}{\\partial x^{2}} v_{y}{\\left(x,y \\right)} + \\left(- \\frac{\\nu_{2}}{\\nu_{3}} + 1 - \\frac{\\nu_{4}}{\\nu_{3}} + \\frac{\\nu_{5}}{\\nu_{3}}\\right) \\frac{\\partial^{2}}{\\partial y^{2}} v_{y}{\\left(x,y \\right)} + \\frac{\\partial}{\\partial y} p{\\left(x,y \\right)}\\end{matrix}\\right] = \\left[\\begin{matrix}f_{x}{\\left(x,y \\right)}\\\\f_{y}{\\left(x,y \\right)}\\end{matrix}\\right]$"
     },
     "metadata": {},
     "output_type": "display_data"
    }
   ],
   "execution_count": 20
  },
  {
   "metadata": {},
   "cell_type": "markdown",
   "source": [
    "### Introducing dimensionless viscosities $\\zeta_1$ and $\\zeta_2$\n",
    "(and likewise rescaled friction coefficients)"
   ],
   "id": "a116fb770551b98b"
  },
  {
   "metadata": {
    "ExecuteTime": {
     "end_time": "2025-03-25T09:35:14.656774Z",
     "start_time": "2025-03-25T09:35:14.653159Z"
    }
   },
   "cell_type": "code",
   "source": [
    "zeta1, zeta2 = sp.symbols('zeta_1 zeta_2', real=True)\n",
    "alpha_par_sq, alpha_perp_sq = sp.symbols('alpha_∥^2 alpha_⊥^2', real=True)"
   ],
   "id": "bc21700b340020f1",
   "outputs": [],
   "execution_count": 21
  },
  {
   "metadata": {
    "ExecuteTime": {
     "end_time": "2025-03-25T09:35:16.357020Z",
     "start_time": "2025-03-25T09:35:16.352431Z"
    }
   },
   "cell_type": "code",
   "source": [
    "subs_dimensionless = {\n",
    "    # zeta1\n",
    "    (2*nu1/nu3 + nu2/nu3 - 1 - nu4/nu3 + nu5/nu3) : zeta1,\n",
    "    # zeta2\n",
    "    (nu2/nu3 - 1 + nu4/nu3 - nu5/nu3) : zeta2,\n",
    "    # alpha_parallel^2\n",
    "    (m_parallel**2/nu3): alpha_par_sq,\n",
    "    # alpha_perp^2\n",
    "    (m_perp**2/nu3): alpha_perp_sq\n",
    "}"
   ],
   "id": "e019122b900203f0",
   "outputs": [],
   "execution_count": 22
  },
  {
   "metadata": {
    "ExecuteTime": {
     "end_time": "2025-03-25T09:35:19.806810Z",
     "start_time": "2025-03-25T09:35:19.772545Z"
    }
   },
   "cell_type": "code",
   "source": [
    "built_eq_dimless = built_eq_factored.subs(subs_dimensionless)\n",
    "display(built_eq_dimless)"
   ],
   "id": "4899277e0ff101f3",
   "outputs": [
    {
     "data": {
      "text/plain": [
       "Eq(Matrix([\n",
       "[alpha_∥^2*v_x(x, y) - nu3*Derivative(v_x(x, y), (y, 2)) - zeta_1*Derivative(v_x(x, y), (x, 2)) + Derivative(p(x, y), x)],\n",
       "[alpha_⊥^2*v_y(x, y) - nu3*Derivative(v_y(x, y), (x, 2)) - zeta_2*Derivative(v_y(x, y), (y, 2)) + Derivative(p(x, y), y)]]), Matrix([\n",
       "[f_x(x, y)],\n",
       "[f_y(x, y)]]))"
      ],
      "text/latex": "$\\displaystyle \\left[\\begin{matrix}\\alpha^{2}_{∥} v_{x}{\\left(x,y \\right)} - \\nu_{3} \\frac{\\partial^{2}}{\\partial y^{2}} v_{x}{\\left(x,y \\right)} - \\zeta_{1} \\frac{\\partial^{2}}{\\partial x^{2}} v_{x}{\\left(x,y \\right)} + \\frac{\\partial}{\\partial x} p{\\left(x,y \\right)}\\\\\\alpha^{2}_{⊥} v_{y}{\\left(x,y \\right)} - \\nu_{3} \\frac{\\partial^{2}}{\\partial x^{2}} v_{y}{\\left(x,y \\right)} - \\zeta_{2} \\frac{\\partial^{2}}{\\partial y^{2}} v_{y}{\\left(x,y \\right)} + \\frac{\\partial}{\\partial y} p{\\left(x,y \\right)}\\end{matrix}\\right] = \\left[\\begin{matrix}f_{x}{\\left(x,y \\right)}\\\\f_{y}{\\left(x,y \\right)}\\end{matrix}\\right]$"
     },
     "metadata": {},
     "output_type": "display_data"
    }
   ],
   "execution_count": 23
  },
  {
   "metadata": {},
   "cell_type": "markdown",
   "source": [
    "**These are not Eqns $(8)$ because we have added an extra factor of $\\nu_3$**\n",
    "\n",
    "We now multiply those terms by $\\nu_3$"
   ],
   "id": "59080a67ff95a5b"
  },
  {
   "metadata": {
    "ExecuteTime": {
     "end_time": "2025-03-25T09:35:23.406955Z",
     "start_time": "2025-03-25T09:35:23.399587Z"
    }
   },
   "cell_type": "code",
   "source": [
    "# Expand and isolate row 0 (the x‐component)\n",
    "expr_x = sp.expand(built_eq_dimless.lhs[0])\n",
    "\n",
    "modified_expr_x = 0\n",
    "for term in sp.Add.make_args(expr_x):\n",
    "    if term.has(alpha_par_sq) or term.has(zeta1):\n",
    "        # Divide these particular terms by nu3\n",
    "        modified_expr_x += nu3 * term\n",
    "    else:\n",
    "        # Keep the rest unchanged\n",
    "        modified_expr_x += term\n",
    "\n",
    "modified_expr_x_collect = sp.collect(modified_expr_x, nu3)"
   ],
   "id": "a7daba54471ceb0",
   "outputs": [],
   "execution_count": 24
  },
  {
   "metadata": {
    "ExecuteTime": {
     "end_time": "2025-03-25T09:35:30.559585Z",
     "start_time": "2025-03-25T09:35:30.555542Z"
    }
   },
   "cell_type": "code",
   "source": [
    "# Expand and isolate row 0 (the x‐component)\n",
    "expr_y = sp.expand(built_eq_dimless.lhs[1])\n",
    "\n",
    "modified_expr_y = 0\n",
    "for term in sp.Add.make_args(expr_y):\n",
    "    if term.has(alpha_perp_sq) or term.has(zeta2):\n",
    "        # Divide these particular terms by nu3\n",
    "        modified_expr_y += nu3 * term\n",
    "    else:\n",
    "        # Keep the rest unchanged\n",
    "        modified_expr_y += term\n",
    "\n",
    "modified_expr_y_collect = sp.collect(modified_expr_y, nu3)"
   ],
   "id": "38e6a7aab3535e3a",
   "outputs": [],
   "execution_count": 25
  },
  {
   "metadata": {},
   "cell_type": "markdown",
   "source": "### Building into a new matrix equation",
   "id": "41e61e1b6dbc31b"
  },
  {
   "metadata": {
    "ExecuteTime": {
     "end_time": "2025-03-25T09:35:33.554156Z",
     "start_time": "2025-03-25T09:35:33.539821Z"
    }
   },
   "cell_type": "code",
   "source": [
    "built_eq_lhs = sp.Matrix([\n",
    "    modified_expr_x_collect,\n",
    "    modified_expr_y_collect\n",
    "])\n",
    "built_eq_final = sp.Eq(built_eq_lhs, f_ext)\n",
    "display(built_eq_final)"
   ],
   "id": "71337e1ac2abf792",
   "outputs": [
    {
     "data": {
      "text/plain": [
       "Eq(Matrix([\n",
       "[nu3*(alpha_∥^2*v_x(x, y) - zeta_1*Derivative(v_x(x, y), (x, 2)) - Derivative(v_x(x, y), (y, 2))) + Derivative(p(x, y), x)],\n",
       "[nu3*(alpha_⊥^2*v_y(x, y) - zeta_2*Derivative(v_y(x, y), (y, 2)) - Derivative(v_y(x, y), (x, 2))) + Derivative(p(x, y), y)]]), Matrix([\n",
       "[f_x(x, y)],\n",
       "[f_y(x, y)]]))"
      ],
      "text/latex": "$\\displaystyle \\left[\\begin{matrix}\\nu_{3} \\left(\\alpha^{2}_{∥} v_{x}{\\left(x,y \\right)} - \\zeta_{1} \\frac{\\partial^{2}}{\\partial x^{2}} v_{x}{\\left(x,y \\right)} - \\frac{\\partial^{2}}{\\partial y^{2}} v_{x}{\\left(x,y \\right)}\\right) + \\frac{\\partial}{\\partial x} p{\\left(x,y \\right)}\\\\\\nu_{3} \\left(\\alpha^{2}_{⊥} v_{y}{\\left(x,y \\right)} - \\zeta_{2} \\frac{\\partial^{2}}{\\partial y^{2}} v_{y}{\\left(x,y \\right)} - \\frac{\\partial^{2}}{\\partial x^{2}} v_{y}{\\left(x,y \\right)}\\right) + \\frac{\\partial}{\\partial y} p{\\left(x,y \\right)}\\end{matrix}\\right] = \\left[\\begin{matrix}f_{x}{\\left(x,y \\right)}\\\\f_{y}{\\left(x,y \\right)}\\end{matrix}\\right]$"
     },
     "metadata": {},
     "output_type": "display_data"
    }
   ],
   "execution_count": 26
  },
  {
   "metadata": {},
   "cell_type": "markdown",
   "source": [
    "Which are *actually* Eqns $(8a)$ and $(8b)$ where,\n",
    "- $\\displaystyle \\zeta_1 = \\frac{2\\nu_1+\\nu_2-\\nu_4+\\nu_5}{\\nu_3}-1$\n",
    "- $\\displaystyle\\zeta_2 = \\frac{\\nu_2+\\nu_4-\\nu_5}{\\nu_3}-1$\n",
    "- $\\displaystyle\\alpha_{\\parallel}^2 = \\frac{m_{\\parallel}^2}{\\nu_3}$\n",
    "- $\\displaystyle\\alpha_{\\perp}^2 = \\frac{m_{\\perp}^2}{\\nu_3}$\n",
    "\n",
    "Should we need to switch back to originals, we can define a reverse dictionary to act on `built_eq_final`\n"
   ],
   "id": "16fff44927a3b5c3"
  },
  {
   "metadata": {
    "ExecuteTime": {
     "end_time": "2025-03-25T09:36:03.672244Z",
     "start_time": "2025-03-25T09:36:03.603091Z"
    }
   },
   "cell_type": "code",
   "source": [
    "# Define the original viscosity coefficients in terms of the new, dimensionless ones:\n",
    "# Original substitutions were:\n",
    "#   zeta_1 = (2*nu1 + nu2 - nu3 - nu4 + nu5) / nu3\n",
    "#   zeta_2 = (nu2 - nu3 + nu4 - nu5) / nu3\n",
    "#   alpha_∥^2 = m_parallel**2 / nu3\n",
    "#   alpha_⊥^2 = m_perp**2 / nu3\n",
    "\n",
    "# To switch back, we simply revert these substitutions:\n",
    "subs_original = {\n",
    "    zeta1: (2*nu1 + nu2 - nu3 - nu4 + nu5) / nu3,\n",
    "    zeta2: (nu2 - nu3 + nu4 - nu5) / nu3,\n",
    "    alpha_par_sq: m_parallel**2 / nu3,\n",
    "    alpha_perp_sq: m_perp**2 / nu3\n",
    "}\n",
    "\n",
    "# revert back to the original nu coefficients:\n",
    "built_eq_original = sp.simplify(built_eq_final.subs(subs_original))\n",
    "display(built_eq_original)"
   ],
   "id": "281b04554d7926ca",
   "outputs": [
    {
     "data": {
      "text/plain": [
       "Eq(Matrix([\n",
       "[f_x(x, y)],\n",
       "[f_y(x, y)]]), Matrix([\n",
       "[m_∥**2*v_x(x, y) - nu3*Derivative(v_x(x, y), (y, 2)) - (2*nu1 + nu2 - nu3 - nu4 + nu5)*Derivative(v_x(x, y), (x, 2)) + Derivative(p(x, y), x)],\n",
       "[        m_⊥**2*v_y(x, y) - nu3*Derivative(v_y(x, y), (x, 2)) - (nu2 - nu3 + nu4 - nu5)*Derivative(v_y(x, y), (y, 2)) + Derivative(p(x, y), y)]]))"
      ],
      "text/latex": "$\\displaystyle \\left[\\begin{matrix}f_{x}{\\left(x,y \\right)}\\\\f_{y}{\\left(x,y \\right)}\\end{matrix}\\right] = \\left[\\begin{matrix}m_{∥}^{2} v_{x}{\\left(x,y \\right)} - \\nu_{3} \\frac{\\partial^{2}}{\\partial y^{2}} v_{x}{\\left(x,y \\right)} - \\left(2 \\nu_{1} + \\nu_{2} - \\nu_{3} - \\nu_{4} + \\nu_{5}\\right) \\frac{\\partial^{2}}{\\partial x^{2}} v_{x}{\\left(x,y \\right)} + \\frac{\\partial}{\\partial x} p{\\left(x,y \\right)}\\\\m_{⊥}^{2} v_{y}{\\left(x,y \\right)} - \\nu_{3} \\frac{\\partial^{2}}{\\partial x^{2}} v_{y}{\\left(x,y \\right)} - \\left(\\nu_{2} - \\nu_{3} + \\nu_{4} - \\nu_{5}\\right) \\frac{\\partial^{2}}{\\partial y^{2}} v_{y}{\\left(x,y \\right)} + \\frac{\\partial}{\\partial y} p{\\left(x,y \\right)}\\end{matrix}\\right]$"
     },
     "metadata": {},
     "output_type": "display_data"
    }
   ],
   "execution_count": 27
  },
  {
   "metadata": {},
   "cell_type": "markdown",
   "source": [
    "### Isotropic case\n",
    "\n",
    "We recover the classical Brinkman equation for the isotropic case, if $\\nu_1 = \\nu_2 = \\nu_3 = \\nu_4$ and $\\nu_5 = 0$."
   ],
   "id": "4b31667c2b18f413"
  },
  {
   "metadata": {
    "ExecuteTime": {
     "end_time": "2025-03-25T09:36:06.012703Z",
     "start_time": "2025-03-25T09:36:05.952877Z"
    }
   },
   "cell_type": "code",
   "source": [
    "# Define the substitution dictionary for the isotropic (Brinkman) case:\n",
    "nu = sp.Symbol('nu')\n",
    "\n",
    "subs_brinkman = {\n",
    "    nu1: nu,\n",
    "    nu2: nu,\n",
    "    nu3: nu,\n",
    "    nu4: nu,\n",
    "    nu5: 0\n",
    "}\n",
    "\n",
    "# Apply the substitution to built_eq_original\n",
    "built_eq_brinkman = sp.simplify(built_eq_original.subs(subs_brinkman))\n",
    "display(built_eq_brinkman)"
   ],
   "id": "4298f36feb2593dc",
   "outputs": [
    {
     "data": {
      "text/plain": [
       "Eq(Matrix([\n",
       "[f_x(x, y)],\n",
       "[f_y(x, y)]]), Matrix([\n",
       "[m_∥**2*v_x(x, y) - nu*Derivative(v_x(x, y), (x, 2)) - nu*Derivative(v_x(x, y), (y, 2)) + Derivative(p(x, y), x)],\n",
       "[m_⊥**2*v_y(x, y) - nu*Derivative(v_y(x, y), (x, 2)) - nu*Derivative(v_y(x, y), (y, 2)) + Derivative(p(x, y), y)]]))"
      ],
      "text/latex": "$\\displaystyle \\left[\\begin{matrix}f_{x}{\\left(x,y \\right)}\\\\f_{y}{\\left(x,y \\right)}\\end{matrix}\\right] = \\left[\\begin{matrix}m_{∥}^{2} v_{x}{\\left(x,y \\right)} - \\nu \\frac{\\partial^{2}}{\\partial x^{2}} v_{x}{\\left(x,y \\right)} - \\nu \\frac{\\partial^{2}}{\\partial y^{2}} v_{x}{\\left(x,y \\right)} + \\frac{\\partial}{\\partial x} p{\\left(x,y \\right)}\\\\m_{⊥}^{2} v_{y}{\\left(x,y \\right)} - \\nu \\frac{\\partial^{2}}{\\partial x^{2}} v_{y}{\\left(x,y \\right)} - \\nu \\frac{\\partial^{2}}{\\partial y^{2}} v_{y}{\\left(x,y \\right)} + \\frac{\\partial}{\\partial y} p{\\left(x,y \\right)}\\end{matrix}\\right]$"
     },
     "metadata": {},
     "output_type": "display_data"
    }
   ],
   "execution_count": 28
  },
  {
   "metadata": {},
   "cell_type": "markdown",
   "source": "$$\\text{FIN}$$",
   "id": "92df1c5902fc57de"
  },
  {
   "metadata": {},
   "cell_type": "markdown",
   "source": "----",
   "id": "3382931b862f61ad"
  }
 ],
 "metadata": {
  "kernelspec": {
   "display_name": "Python 3",
   "language": "python",
   "name": "python3"
  },
  "language_info": {
   "codemirror_mode": {
    "name": "ipython",
    "version": 2
   },
   "file_extension": ".py",
   "mimetype": "text/x-python",
   "name": "python",
   "nbconvert_exporter": "python",
   "pygments_lexer": "ipython2",
   "version": "2.7.6"
  }
 },
 "nbformat": 4,
 "nbformat_minor": 5
}
