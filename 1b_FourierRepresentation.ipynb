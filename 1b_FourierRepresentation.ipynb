{
 "cells": [
  {
   "metadata": {},
   "cell_type": "markdown",
   "source": [
    "# Hydrodynamics of a disk\n",
    "in a thin film of weakly nematic fluid subject to linear friction, [Abdallah Daddi-Moussa-Ider et al](https://iopscience.iop.org/article/10.1088/1361-648X/ad65ad)"
   ],
   "id": "7de16d278c4ef821"
  },
  {
   "cell_type": "code",
   "id": "initial_id",
   "metadata": {
    "collapsed": true,
    "ExecuteTime": {
     "end_time": "2025-03-25T18:26:09.159125Z",
     "start_time": "2025-03-25T18:26:08.956Z"
    }
   },
   "source": [
    "import sympy as sp\n",
    "\n",
    "from Backup.HydrodynamicsRework import momentum_eq\n",
    "from Scripts.stokes_flow_eqns import StokesEquations"
   ],
   "outputs": [],
   "execution_count": 1
  },
  {
   "metadata": {},
   "cell_type": "markdown",
   "source": "## 1a - Import Stokes flow equations",
   "id": "2b79dc599bced961"
  },
  {
   "metadata": {
    "ExecuteTime": {
     "end_time": "2025-03-25T18:26:09.165822Z",
     "start_time": "2025-03-25T18:26:09.161845Z"
    }
   },
   "cell_type": "code",
   "source": "SE = StokesEquations()",
   "id": "88dd0b741652a9c4",
   "outputs": [],
   "execution_count": 2
  },
  {
   "metadata": {},
   "cell_type": "markdown",
   "source": "### Using dimensionless viscosities",
   "id": "e13326e4bf227c75"
  },
  {
   "metadata": {
    "ExecuteTime": {
     "end_time": "2025-03-25T18:26:09.629273Z",
     "start_time": "2025-03-25T18:26:09.221729Z"
    }
   },
   "cell_type": "code",
   "source": "x_eq, y_eq = SE.get_xy_equations(nondimensional=True)",
   "id": "7091d4144097737d",
   "outputs": [],
   "execution_count": 3
  },
  {
   "metadata": {
    "ExecuteTime": {
     "end_time": "2025-03-25T18:54:32.262808Z",
     "start_time": "2025-03-25T18:54:32.256425Z"
    }
   },
   "cell_type": "code",
   "source": [
    "print(f\"Equation 8a:\\n\")\n",
    "display(x_eq)"
   ],
   "id": "53cab744e039f6a0",
   "outputs": [
    {
     "name": "stdout",
     "output_type": "stream",
     "text": [
      "Equation 8a:\n",
      "\n"
     ]
    },
    {
     "data": {
      "text/plain": [
       "Eq(alpha_∥^2*v_x(x, y) - nu3*Derivative(v_x(x, y), (y, 2)) - zeta_1*Derivative(v_x(x, y), (x, 2)) + Derivative(p(x, y), x), f_x(x, y))"
      ],
      "text/latex": "$\\displaystyle \\alpha^{2}_{∥} v_{x}{\\left(x,y \\right)} - \\nu_{3} \\frac{\\partial^{2}}{\\partial y^{2}} v_{x}{\\left(x,y \\right)} - \\zeta_{1} \\frac{\\partial^{2}}{\\partial x^{2}} v_{x}{\\left(x,y \\right)} + \\frac{\\partial}{\\partial x} p{\\left(x,y \\right)} = f_{x}{\\left(x,y \\right)}$"
     },
     "metadata": {},
     "output_type": "display_data"
    }
   ],
   "execution_count": 32
  },
  {
   "metadata": {},
   "cell_type": "markdown",
   "source": [
    "Where,\n",
    "- $\\displaystyle \\zeta_1 = \\frac{2\\nu_1+\\nu_2-\\nu_4+\\nu_5}{\\nu_3}-1$\n",
    "- $\\displaystyle\\alpha_{\\parallel}^2 = \\frac{m_{\\parallel}^2}{\\nu_3}$ (dimensions of inverse length squared)"
   ],
   "id": "96bb2b3a81f244bb"
  },
  {
   "metadata": {
    "ExecuteTime": {
     "end_time": "2025-03-25T18:54:37.580120Z",
     "start_time": "2025-03-25T18:54:37.572577Z"
    }
   },
   "cell_type": "code",
   "source": [
    "print(f\"Equation 8b:\\n\")\n",
    "display(y_eq)"
   ],
   "id": "8f3fe90a8d0e153f",
   "outputs": [
    {
     "name": "stdout",
     "output_type": "stream",
     "text": [
      "Equation 8b:\n",
      "\n"
     ]
    },
    {
     "data": {
      "text/plain": [
       "Eq(alpha_⊥^2*v_y(x, y) - nu3*Derivative(v_y(x, y), (x, 2)) - zeta_2*Derivative(v_y(x, y), (y, 2)) + Derivative(p(x, y), y), f_y(x, y))"
      ],
      "text/latex": "$\\displaystyle \\alpha^{2}_{⊥} v_{y}{\\left(x,y \\right)} - \\nu_{3} \\frac{\\partial^{2}}{\\partial x^{2}} v_{y}{\\left(x,y \\right)} - \\zeta_{2} \\frac{\\partial^{2}}{\\partial y^{2}} v_{y}{\\left(x,y \\right)} + \\frac{\\partial}{\\partial y} p{\\left(x,y \\right)} = f_{y}{\\left(x,y \\right)}$"
     },
     "metadata": {},
     "output_type": "display_data"
    }
   ],
   "execution_count": 33
  },
  {
   "metadata": {},
   "cell_type": "markdown",
   "source": [
    "Where,\n",
    "- $\\displaystyle\\zeta_2 = \\frac{\\nu_2+\\nu_4-\\nu_5}{\\nu_3}-1$\n",
    "- $\\displaystyle\\alpha_{\\perp}^2 = \\frac{m_{\\perp}^2}{\\nu_3}$ (dimensions of inverse length squared)"
   ],
   "id": "b143484e0e690b6a"
  },
  {
   "metadata": {},
   "cell_type": "markdown",
   "source": "### Using original viscosities",
   "id": "e24d930955b2fab5"
  },
  {
   "metadata": {
    "ExecuteTime": {
     "end_time": "2025-03-25T18:26:09.681100Z",
     "start_time": "2025-03-25T18:26:09.671105Z"
    }
   },
   "cell_type": "code",
   "source": [
    "x_eq_orig, y_eq_orig = SE.get_xy_equations(nondimensional=False)\n",
    "display(x_eq_orig)\n",
    "display(y_eq_orig)"
   ],
   "id": "7bf2e59ae25d5ad1",
   "outputs": [
    {
     "data": {
      "text/plain": [
       "Eq(m_∥**2*v_x(x, y) - nu3*Derivative(v_x(x, y), (y, 2)) + (-2*nu1 - nu2 + nu3 + nu4 - nu5)*Derivative(v_x(x, y), (x, 2)) + Derivative(p(x, y), x), f_x(x, y))"
      ],
      "text/latex": "$\\displaystyle m_{∥}^{2} v_{x}{\\left(x,y \\right)} - \\nu_{3} \\frac{\\partial^{2}}{\\partial y^{2}} v_{x}{\\left(x,y \\right)} + \\left(- 2 \\nu_{1} - \\nu_{2} + \\nu_{3} + \\nu_{4} - \\nu_{5}\\right) \\frac{\\partial^{2}}{\\partial x^{2}} v_{x}{\\left(x,y \\right)} + \\frac{\\partial}{\\partial x} p{\\left(x,y \\right)} = f_{x}{\\left(x,y \\right)}$"
     },
     "metadata": {},
     "output_type": "display_data"
    },
    {
     "data": {
      "text/plain": [
       "Eq(m_⊥**2*v_y(x, y) - nu3*Derivative(v_y(x, y), (x, 2)) + (-nu2 + nu3 - nu4 + nu5)*Derivative(v_y(x, y), (y, 2)) + Derivative(p(x, y), y), f_y(x, y))"
      ],
      "text/latex": "$\\displaystyle m_{⊥}^{2} v_{y}{\\left(x,y \\right)} - \\nu_{3} \\frac{\\partial^{2}}{\\partial x^{2}} v_{y}{\\left(x,y \\right)} + \\left(- \\nu_{2} + \\nu_{3} - \\nu_{4} + \\nu_{5}\\right) \\frac{\\partial^{2}}{\\partial y^{2}} v_{y}{\\left(x,y \\right)} + \\frac{\\partial}{\\partial y} p{\\left(x,y \\right)} = f_{y}{\\left(x,y \\right)}$"
     },
     "metadata": {},
     "output_type": "display_data"
    }
   ],
   "execution_count": 6
  },
  {
   "metadata": {},
   "cell_type": "markdown",
   "source": "### Isotropic case",
   "id": "b6f2f09c2729e57d"
  },
  {
   "metadata": {
    "ExecuteTime": {
     "end_time": "2025-03-25T18:46:16.255371Z",
     "start_time": "2025-03-25T18:46:16.192830Z"
    }
   },
   "cell_type": "code",
   "source": [
    "momentum_eq_brinkman = SE.isotropic_case()\n",
    "display(momentum_eq_brinkman)"
   ],
   "id": "1c328f912a9ee6b1",
   "outputs": [
    {
     "data": {
      "text/plain": [
       "Eq(Matrix([\n",
       "[f_x(x, y)],\n",
       "[f_y(x, y)]]), Matrix([\n",
       "[m_∥**2*v_x(x, y) - nu*Derivative(v_x(x, y), (x, 2)) - nu*Derivative(v_x(x, y), (y, 2)) + Derivative(p(x, y), x)],\n",
       "[m_⊥**2*v_y(x, y) - nu*Derivative(v_y(x, y), (x, 2)) - nu*Derivative(v_y(x, y), (y, 2)) + Derivative(p(x, y), y)]]))"
      ],
      "text/latex": "$\\displaystyle \\left[\\begin{matrix}f_{x}{\\left(x,y \\right)}\\\\f_{y}{\\left(x,y \\right)}\\end{matrix}\\right] = \\left[\\begin{matrix}m_{∥}^{2} v_{x}{\\left(x,y \\right)} - \\nu \\frac{\\partial^{2}}{\\partial x^{2}} v_{x}{\\left(x,y \\right)} - \\nu \\frac{\\partial^{2}}{\\partial y^{2}} v_{x}{\\left(x,y \\right)} + \\frac{\\partial}{\\partial x} p{\\left(x,y \\right)}\\\\m_{⊥}^{2} v_{y}{\\left(x,y \\right)} - \\nu \\frac{\\partial^{2}}{\\partial x^{2}} v_{y}{\\left(x,y \\right)} - \\nu \\frac{\\partial^{2}}{\\partial y^{2}} v_{y}{\\left(x,y \\right)} + \\frac{\\partial}{\\partial y} p{\\left(x,y \\right)}\\end{matrix}\\right]$"
     },
     "metadata": {},
     "output_type": "display_data"
    }
   ],
   "execution_count": 27
  },
  {
   "metadata": {},
   "cell_type": "markdown",
   "source": "----",
   "id": "a3d2122a65f9e470"
  },
  {
   "metadata": {},
   "cell_type": "markdown",
   "source": "### Parameters defined so far",
   "id": "a7f97031fc3bc476"
  },
  {
   "metadata": {},
   "cell_type": "markdown",
   "source": [
    "|             **Parameter**              |                                                **Definition**                                                |\n",
    "|:--------------------------------------:|:------------------------------------------------------------------------------------------------------------:|\n",
    "|       $\\displaystyle \\bar{\\nu}$        |                           $\\displaystyle 2\\,[\\nu_{1} + \\nu_{2} \\;-\\; 2\\,\\nu_{3}]$                            |\n",
    "|       $\\displaystyle \\zeta_{1}$        |           $\\displaystyle \\frac{2\\,\\nu_{1} + \\nu_{2} \\;-\\; \\nu_{4} \\;+\\; \\nu_{5}}{\\nu_{3}} \\;-\\; 1$           |\n",
    "|       $\\displaystyle \\zeta_{2}$        |                   $\\displaystyle \\frac{\\nu_{2} + \\nu_{4} \\;-\\; \\nu_{5}}{\\nu_{3}} \\;-\\; 1$                    |\n",
    "| $\\displaystyle \\alpha_{\\parallel}^{2}$ |                              $\\displaystyle \\frac{m_{\\parallel}^{2}}{\\nu_{3}}$                               |\n",
    "|   $\\displaystyle \\alpha_{\\perp}^{2}$   |                                $\\displaystyle \\frac{m_{\\perp}^{2}}{\\nu_{3}}$                                 |"
   ],
   "id": "1a89d431f3705726"
  },
  {
   "metadata": {},
   "cell_type": "markdown",
   "source": [
    "We have defined the signed dimensionless number\n",
    "$$A=\\frac{\\bar{\\nu}}{\\nu_3}\\tag{11}$$"
   ],
   "id": "486bfd1d4b5c39a7"
  },
  {
   "metadata": {
    "ExecuteTime": {
     "end_time": "2025-03-25T18:48:22.389929Z",
     "start_time": "2025-03-25T18:48:22.372093Z"
    }
   },
   "cell_type": "code",
   "source": [
    "# Define symbolically and substitute\n",
    "A = SE.nu_bar / SE.nu3\n",
    "A_subs = sp.simplify(A.subs(SE.nu_bar, 2 * (SE.nu1 + SE.nu2 - 2 * SE.nu3)))\n",
    "print(\"A:\")\n",
    "display(A)\n",
    "print(\"\\nA substituted:\")\n",
    "display(A_subs)"
   ],
   "id": "a8d30058c43d3ed9",
   "outputs": [
    {
     "name": "stdout",
     "output_type": "stream",
     "text": [
      "A:\n"
     ]
    },
    {
     "data": {
      "text/plain": [
       "nubar/nu3"
      ],
      "text/latex": "$\\displaystyle \\frac{\\bar{\\nu}}{\\nu_{3}}$"
     },
     "metadata": {},
     "output_type": "display_data"
    },
    {
     "name": "stdout",
     "output_type": "stream",
     "text": [
      "\n",
      "A substituted:\n"
     ]
    },
    {
     "data": {
      "text/plain": [
       "2*(nu1 + nu2 - 2*nu3)/nu3"
      ],
      "text/latex": "$\\displaystyle \\frac{2 \\left(\\nu_{1} + \\nu_{2} - 2 \\nu_{3}\\right)}{\\nu_{3}}$"
     },
     "metadata": {},
     "output_type": "display_data"
    }
   ],
   "execution_count": 29
  },
  {
   "metadata": {},
   "cell_type": "markdown",
   "source": "----",
   "id": "4e76383f80fb9569"
  },
  {
   "metadata": {},
   "cell_type": "markdown",
   "source": "## 1b - Fourier Representation",
   "id": "fdd9fc658a9b8285"
  },
  {
   "metadata": {},
   "cell_type": "markdown",
   "source": [
    "|             **Parameter**              |                                                **Definition**                                                |\n",
    "|:--------------------------------------:|:------------------------------------------------------------------------------------------------------------:|\n",
    "|           $\\displaystyle A$            |                          $\\displaystyle 1 \\;+\\; A\\,\\sin^{2}\\!\\phi\\,\\cos^{2}\\!\\phi$                           |\n",
    "|           $\\displaystyle B$            | $\\displaystyle \\alpha_{\\parallel}^{2}\\,\\sin^{2}\\!\\phi \\;+\\; \\alpha_{\\perp}^{2}\\,\\cos^{2}\\!\\phi \\;+\\; k^{2}B$ |\n",
    "|           $\\displaystyle H$            | $\\displaystyle \\alpha_{\\parallel}^{2}\\,\\sin^{2}\\!\\phi \\;+\\; \\alpha_{\\perp}^{2}\\,\\cos^{2}\\!\\phi \\;+\\; k^{2}B$ |"
   ],
   "id": "f595a4635c46d726"
  },
  {
   "metadata": {},
   "cell_type": "markdown",
   "source": "",
   "id": "946876972b1d33e5"
  },
  {
   "metadata": {},
   "cell_type": "code",
   "outputs": [],
   "execution_count": null,
   "source": "",
   "id": "3610526308e53348"
  }
 ],
 "metadata": {
  "kernelspec": {
   "display_name": "Python 3",
   "language": "python",
   "name": "python3"
  },
  "language_info": {
   "codemirror_mode": {
    "name": "ipython",
    "version": 2
   },
   "file_extension": ".py",
   "mimetype": "text/x-python",
   "name": "python",
   "nbconvert_exporter": "python",
   "pygments_lexer": "ipython2",
   "version": "2.7.6"
  }
 },
 "nbformat": 4,
 "nbformat_minor": 5
}
