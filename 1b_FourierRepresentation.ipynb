{
 "cells": [
  {
   "metadata": {},
   "cell_type": "markdown",
   "source": [
    "# Hydrodynamics of a disk\n",
    "in a thin film of weakly nematic fluid subject to linear friction, [Abdallah Daddi-Moussa-Ider et al](https://iopscience.iop.org/article/10.1088/1361-648X/ad65ad)"
   ],
   "id": "7de16d278c4ef821"
  },
  {
   "metadata": {},
   "cell_type": "markdown",
   "source": "## 1a - Import Stokes flow equations",
   "id": "2b79dc599bced961"
  },
  {
   "metadata": {
    "ExecuteTime": {
     "end_time": "2025-03-26T09:37:35.607750Z",
     "start_time": "2025-03-26T09:37:35.603732Z"
    }
   },
   "cell_type": "code",
   "source": [
    "import sympy as sp\n",
    "from Scripts.stokes_flow_eqns import StokesEquations\n",
    "SE = StokesEquations()"
   ],
   "id": "88dd0b741652a9c4",
   "outputs": [],
   "execution_count": 37
  },
  {
   "metadata": {},
   "cell_type": "markdown",
   "source": "Parameters defined so far:",
   "id": "229caa8fcdac5c92"
  },
  {
   "metadata": {},
   "cell_type": "markdown",
   "source": [
    "|             **Parameter**              |                                                **Definition**                                                |\n",
    "|:--------------------------------------:|:------------------------------------------------------------------------------------------------------------:|\n",
    "|       $\\displaystyle \\bar{\\nu}$        |                           $\\displaystyle 2\\,[\\nu_{1} + \\nu_{2} \\;-\\; 2\\,\\nu_{3}]$                            |\n",
    "|       $\\displaystyle \\zeta_{1}$        |           $\\displaystyle \\frac{2\\,\\nu_{1} + \\nu_{2} \\;-\\; \\nu_{4} \\;+\\; \\nu_{5}}{\\nu_{3}} \\;-\\; 1$           |\n",
    "|       $\\displaystyle \\zeta_{2}$        |                   $\\displaystyle \\frac{\\nu_{2} + \\nu_{4} \\;-\\; \\nu_{5}}{\\nu_{3}} \\;-\\; 1$                    |\n",
    "| $\\displaystyle \\alpha_{\\parallel}^{2}$ |                              $\\displaystyle \\frac{m_{\\parallel}^{2}}{\\nu_{3}}$                               |\n",
    "|   $\\displaystyle \\alpha_{\\perp}^{2}$   |                                $\\displaystyle \\frac{m_{\\perp}^{2}}{\\nu_{3}}$                                 |"
   ],
   "id": "d29ba2ee11e1dca6"
  },
  {
   "metadata": {},
   "cell_type": "markdown",
   "source": "### Using dimensionless viscosities",
   "id": "e13326e4bf227c75"
  },
  {
   "metadata": {
    "ExecuteTime": {
     "end_time": "2025-03-26T09:37:36.039323Z",
     "start_time": "2025-03-26T09:37:35.632916Z"
    }
   },
   "cell_type": "code",
   "source": "x_eq, y_eq = SE.get_xy_equations(nondimensional=True)",
   "id": "7091d4144097737d",
   "outputs": [],
   "execution_count": 38
  },
  {
   "metadata": {
    "ExecuteTime": {
     "end_time": "2025-03-26T09:37:36.054609Z",
     "start_time": "2025-03-26T09:37:36.047483Z"
    }
   },
   "cell_type": "code",
   "source": [
    "print(f\"Equation 8a:\\n\")\n",
    "display(x_eq)"
   ],
   "id": "53cab744e039f6a0",
   "outputs": [
    {
     "name": "stdout",
     "output_type": "stream",
     "text": [
      "Equation 8a:\n",
      "\n"
     ]
    },
    {
     "data": {
      "text/plain": [
       "Eq(nu3*(alpha_∥^2*v_x(x, y) - zeta_1*Derivative(v_x(x, y), (x, 2)) - Derivative(v_x(x, y), (y, 2))) + Derivative(p(x, y), x), f_x(x, y))"
      ],
      "text/latex": "$\\displaystyle \\nu_{3} \\left(\\alpha^{2}_{∥} v_{x}{\\left(x,y \\right)} - \\zeta_{1} \\frac{\\partial^{2}}{\\partial x^{2}} v_{x}{\\left(x,y \\right)} - \\frac{\\partial^{2}}{\\partial y^{2}} v_{x}{\\left(x,y \\right)}\\right) + \\frac{\\partial}{\\partial x} p{\\left(x,y \\right)} = f_{x}{\\left(x,y \\right)}$"
     },
     "metadata": {},
     "output_type": "display_data"
    }
   ],
   "execution_count": 39
  },
  {
   "metadata": {},
   "cell_type": "markdown",
   "source": [
    "Where,\n",
    "- $\\displaystyle \\zeta_1 = \\frac{2\\nu_1+\\nu_2-\\nu_4+\\nu_5}{\\nu_3}-1$\n",
    "- $\\displaystyle\\alpha_{\\parallel}^2 = \\frac{m_{\\parallel}^2}{\\nu_3}$ (dimensions of inverse length squared)"
   ],
   "id": "96bb2b3a81f244bb"
  },
  {
   "metadata": {
    "ExecuteTime": {
     "end_time": "2025-03-26T09:37:36.098119Z",
     "start_time": "2025-03-26T09:37:36.092062Z"
    }
   },
   "cell_type": "code",
   "source": [
    "print(f\"Equation 8b:\\n\")\n",
    "display(y_eq)"
   ],
   "id": "8f3fe90a8d0e153f",
   "outputs": [
    {
     "name": "stdout",
     "output_type": "stream",
     "text": [
      "Equation 8b:\n",
      "\n"
     ]
    },
    {
     "data": {
      "text/plain": [
       "Eq(nu3*(alpha_⊥^2*v_y(x, y) - zeta_2*Derivative(v_y(x, y), (y, 2)) - Derivative(v_y(x, y), (x, 2))) + Derivative(p(x, y), y), f_y(x, y))"
      ],
      "text/latex": "$\\displaystyle \\nu_{3} \\left(\\alpha^{2}_{⊥} v_{y}{\\left(x,y \\right)} - \\zeta_{2} \\frac{\\partial^{2}}{\\partial y^{2}} v_{y}{\\left(x,y \\right)} - \\frac{\\partial^{2}}{\\partial x^{2}} v_{y}{\\left(x,y \\right)}\\right) + \\frac{\\partial}{\\partial y} p{\\left(x,y \\right)} = f_{y}{\\left(x,y \\right)}$"
     },
     "metadata": {},
     "output_type": "display_data"
    }
   ],
   "execution_count": 40
  },
  {
   "metadata": {},
   "cell_type": "markdown",
   "source": [
    "Where,\n",
    "- $\\displaystyle\\zeta_2 = \\frac{\\nu_2+\\nu_4-\\nu_5}{\\nu_3}-1$\n",
    "- $\\displaystyle\\alpha_{\\perp}^2 = \\frac{m_{\\perp}^2}{\\nu_3}$ (dimensions of inverse length squared)"
   ],
   "id": "b143484e0e690b6a"
  },
  {
   "metadata": {},
   "cell_type": "markdown",
   "source": "### Vector Equations",
   "id": "44a108cda65e7024"
  },
  {
   "metadata": {
    "ExecuteTime": {
     "end_time": "2025-03-26T09:37:36.142773Z",
     "start_time": "2025-03-26T09:37:36.135240Z"
    }
   },
   "cell_type": "code",
   "source": [
    "momentum_eqns = SE.momentum_eq_dimless\n",
    "display(momentum_eqns)"
   ],
   "id": "1f5393ceecbd993a",
   "outputs": [
    {
     "data": {
      "text/plain": [
       "Eq(Matrix([\n",
       "[nu3*(alpha_∥^2*v_x(x, y) - zeta_1*Derivative(v_x(x, y), (x, 2)) - Derivative(v_x(x, y), (y, 2))) + Derivative(p(x, y), x)],\n",
       "[nu3*(alpha_⊥^2*v_y(x, y) - zeta_2*Derivative(v_y(x, y), (y, 2)) - Derivative(v_y(x, y), (x, 2))) + Derivative(p(x, y), y)]]), Matrix([\n",
       "[f_x(x, y)],\n",
       "[f_y(x, y)]]))"
      ],
      "text/latex": "$\\displaystyle \\left[\\begin{matrix}\\nu_{3} \\left(\\alpha^{2}_{∥} v_{x}{\\left(x,y \\right)} - \\zeta_{1} \\frac{\\partial^{2}}{\\partial x^{2}} v_{x}{\\left(x,y \\right)} - \\frac{\\partial^{2}}{\\partial y^{2}} v_{x}{\\left(x,y \\right)}\\right) + \\frac{\\partial}{\\partial x} p{\\left(x,y \\right)}\\\\\\nu_{3} \\left(\\alpha^{2}_{⊥} v_{y}{\\left(x,y \\right)} - \\zeta_{2} \\frac{\\partial^{2}}{\\partial y^{2}} v_{y}{\\left(x,y \\right)} - \\frac{\\partial^{2}}{\\partial x^{2}} v_{y}{\\left(x,y \\right)}\\right) + \\frac{\\partial}{\\partial y} p{\\left(x,y \\right)}\\end{matrix}\\right] = \\left[\\begin{matrix}f_{x}{\\left(x,y \\right)}\\\\f_{y}{\\left(x,y \\right)}\\end{matrix}\\right]$"
     },
     "metadata": {},
     "output_type": "display_data"
    }
   ],
   "execution_count": 41
  },
  {
   "metadata": {},
   "cell_type": "markdown",
   "source": "### Using original viscosities",
   "id": "e24d930955b2fab5"
  },
  {
   "metadata": {
    "ExecuteTime": {
     "end_time": "2025-03-26T09:37:36.183443Z",
     "start_time": "2025-03-26T09:37:36.168904Z"
    }
   },
   "cell_type": "code",
   "source": [
    "x_eq_orig, y_eq_orig = SE.get_xy_equations(nondimensional=False)\n",
    "display(x_eq_orig)\n",
    "display(y_eq_orig)"
   ],
   "id": "7bf2e59ae25d5ad1",
   "outputs": [
    {
     "data": {
      "text/plain": [
       "Eq(m_∥**2*v_x(x, y) - nu3*Derivative(v_x(x, y), (y, 2)) + (-2*nu1 - nu2 + nu3 + nu4 - nu5)*Derivative(v_x(x, y), (x, 2)) + Derivative(p(x, y), x), f_x(x, y))"
      ],
      "text/latex": "$\\displaystyle m_{∥}^{2} v_{x}{\\left(x,y \\right)} - \\nu_{3} \\frac{\\partial^{2}}{\\partial y^{2}} v_{x}{\\left(x,y \\right)} + \\left(- 2 \\nu_{1} - \\nu_{2} + \\nu_{3} + \\nu_{4} - \\nu_{5}\\right) \\frac{\\partial^{2}}{\\partial x^{2}} v_{x}{\\left(x,y \\right)} + \\frac{\\partial}{\\partial x} p{\\left(x,y \\right)} = f_{x}{\\left(x,y \\right)}$"
     },
     "metadata": {},
     "output_type": "display_data"
    },
    {
     "data": {
      "text/plain": [
       "Eq(m_⊥**2*v_y(x, y) - nu3*Derivative(v_y(x, y), (x, 2)) + (-nu2 + nu3 - nu4 + nu5)*Derivative(v_y(x, y), (y, 2)) + Derivative(p(x, y), y), f_y(x, y))"
      ],
      "text/latex": "$\\displaystyle m_{⊥}^{2} v_{y}{\\left(x,y \\right)} - \\nu_{3} \\frac{\\partial^{2}}{\\partial x^{2}} v_{y}{\\left(x,y \\right)} + \\left(- \\nu_{2} + \\nu_{3} - \\nu_{4} + \\nu_{5}\\right) \\frac{\\partial^{2}}{\\partial y^{2}} v_{y}{\\left(x,y \\right)} + \\frac{\\partial}{\\partial y} p{\\left(x,y \\right)} = f_{y}{\\left(x,y \\right)}$"
     },
     "metadata": {},
     "output_type": "display_data"
    }
   ],
   "execution_count": 42
  },
  {
   "metadata": {},
   "cell_type": "markdown",
   "source": "### Isotropic case",
   "id": "b6f2f09c2729e57d"
  },
  {
   "metadata": {
    "ExecuteTime": {
     "end_time": "2025-03-26T09:37:36.272326Z",
     "start_time": "2025-03-26T09:37:36.211839Z"
    }
   },
   "cell_type": "code",
   "source": [
    "momentum_eq_brinkman = SE.isotropic_case()\n",
    "display(momentum_eq_brinkman)"
   ],
   "id": "1c328f912a9ee6b1",
   "outputs": [
    {
     "data": {
      "text/plain": [
       "Eq(Matrix([\n",
       "[f_x(x, y)],\n",
       "[f_y(x, y)]]), Matrix([\n",
       "[m_∥**2*v_x(x, y) - nu*Derivative(v_x(x, y), (x, 2)) - nu*Derivative(v_x(x, y), (y, 2)) + Derivative(p(x, y), x)],\n",
       "[m_⊥**2*v_y(x, y) - nu*Derivative(v_y(x, y), (x, 2)) - nu*Derivative(v_y(x, y), (y, 2)) + Derivative(p(x, y), y)]]))"
      ],
      "text/latex": "$\\displaystyle \\left[\\begin{matrix}f_{x}{\\left(x,y \\right)}\\\\f_{y}{\\left(x,y \\right)}\\end{matrix}\\right] = \\left[\\begin{matrix}m_{∥}^{2} v_{x}{\\left(x,y \\right)} - \\nu \\frac{\\partial^{2}}{\\partial x^{2}} v_{x}{\\left(x,y \\right)} - \\nu \\frac{\\partial^{2}}{\\partial y^{2}} v_{x}{\\left(x,y \\right)} + \\frac{\\partial}{\\partial x} p{\\left(x,y \\right)}\\\\m_{⊥}^{2} v_{y}{\\left(x,y \\right)} - \\nu \\frac{\\partial^{2}}{\\partial x^{2}} v_{y}{\\left(x,y \\right)} - \\nu \\frac{\\partial^{2}}{\\partial y^{2}} v_{y}{\\left(x,y \\right)} + \\frac{\\partial}{\\partial y} p{\\left(x,y \\right)}\\end{matrix}\\right]$"
     },
     "metadata": {},
     "output_type": "display_data"
    }
   ],
   "execution_count": 43
  },
  {
   "metadata": {},
   "cell_type": "markdown",
   "source": "----",
   "id": "a3d2122a65f9e470"
  },
  {
   "metadata": {},
   "cell_type": "markdown",
   "source": "## 1b - Fourier Representation",
   "id": "fdd9fc658a9b8285"
  },
  {
   "metadata": {},
   "cell_type": "markdown",
   "source": [
    "|             **Parameter**              |                                                **Definition**                                                |\n",
    "|:--------------------------------------:|:------------------------------------------------------------------------------------------------------------:|\n",
    "|           $\\displaystyle A$            |                                   $\\displaystyle \\frac{\\bar{\\nu}}{\\nu_3}$                                    |\n",
    "|           $\\displaystyle B$            |                            $\\displaystyle 1 + A\\,\\sin^{2}\\!\\phi\\,\\cos^{2}\\!\\phi$                             |\n",
    "|           $\\displaystyle H$            | $\\displaystyle \\alpha_{\\parallel}^{2}\\,\\sin^{2}\\!\\phi \\;+\\; \\alpha_{\\perp}^{2}\\,\\cos^{2}\\!\\phi \\;+\\; k^{2}B$ |"
   ],
   "id": "f595a4635c46d726"
  },
  {
   "metadata": {},
   "cell_type": "markdown",
   "source": [
    "To obtain the solution for the flow velocity and pressure fields, a two-dimensional Fourier transformation along both the $x$ and $y$ directions is employed. We define the forward Fourier transformation of a given function $g(\\rho)$ as,\n",
    "$$\n",
    "\\widetilde{g}(\\mathbf{k}) \\;=\\; \\mathcal{F}\\{g(\\boldsymbol{\\rho})\\}\n",
    "\\;=\\;\n",
    "\\int_{\\mathbb{R}^2}\n",
    "g(\\boldsymbol{\\rho})\\, \\exp(-\\,\\text{i}\\,\\mathbf{k}\\,\\cdot\\,\\boldsymbol{\\rho}) \\,\\text{d}^2\\rho\n",
    "\\tag{9}\n",
    "$$\n",
    "\n",
    "where $\\mathbf{k}$ represents the wavevector, and its inverse as\n",
    "\n",
    "$$\n",
    "g(\\boldsymbol{\\rho})\n",
    "\\;=\\;\n",
    "\\mathcal{F}^{-1}\\{\\widetilde{g}(\\mathbf{k})\\}\n",
    "\\;=\\;\n",
    "\\frac{1}{(2\\pi)^2}\\,\n",
    "\\int_{\\mathbb{R}^2}\n",
    "\\widetilde{g}(\\mathbf{k})\\, \\exp(\\,\\text{i}\\,\\mathbf{k}\\,\\cdot\\,\\boldsymbol{\\rho}) \\,\\text{d}^2k\n",
    "\\tag{10}\n",
    "$$\n",
    "\n",
    "In these expressions, $\\rho = (x,y)$ denotes the position vector. Furthermore, we introduce the wavenumber $k = |\\mathbf{k}|$ and the unit wavevector $\\widehat{\\mathbf{k}} = \\mathbf{k}/k$.\n",
    "\n",
    "We employ a polar coordinate system to express $\\widehat{\\mathbf{k}} = (k_x, k_y) \\;=\\; \\bigl(\\cos\\phi,\\;\\sin\\phi\\bigr)$"
   ],
   "id": "946876972b1d33e5"
  },
  {
   "metadata": {},
   "cell_type": "markdown",
   "source": [
    "**Fourier transform implications**\n",
    "\n",
    "The solution for the velocity field in Fourier space can be obtained by taking the Fourier transformations of Eqns $(8)$. Subsequently, we apply the divergence-free condition of the velocity field to eliminate the pressure field from these equations.\n",
    "\n",
    "A Fourier transform of spatial derivatives converts differentiation into multiplication by factors of the wave vector $\\mathbf{k}$\n",
    "\n",
    "- A first (odd) derivative, like $\\partial/\\partial x$, becomes multiplication by $\\text{i} k_x$. The factor $\\text{i}$ makes it a complex multiplier. `(the pressure field)`\n",
    "- A second (even) derivative, such as in the Laplacian $\\nabla^2$, becomes multiplication by $-|\\mathbf{k}|^2$, which is a real number (assuming $\\mathbf{k}$ is real). `(the velocity field)`"
   ],
   "id": "340b6a9a5b95b557"
  },
  {
   "metadata": {
    "ExecuteTime": {
     "end_time": "2025-03-26T09:37:36.294812Z",
     "start_time": "2025-03-26T09:37:36.291528Z"
    }
   },
   "cell_type": "code",
   "source": [
    "# Define polar variables\n",
    "r, theta = sp.symbols('r theta', real=True, nonnegative=True)\n",
    "k, phi   = sp.symbols('k phi',   real=True, nonnegative=True)\n",
    "I = sp.I  # imaginary unit\n",
    "\n",
    "def fourier_transform_2d_polar(f_r_theta):\n",
    "    \"\"\"\n",
    "    Computes the 2D Fourier transform in polar coordinates:\n",
    "      F(k, phi) = ∫₀^∞ ∫₀^(2π) f(r,θ) e^{-i k r cos(θ - φ)} r dθ dr\n",
    "    Returns a Sympy expression in terms of (k, phi).\n",
    "    \"\"\"\n",
    "    return sp.integrate(\n",
    "        sp.integrate(\n",
    "            f_r_theta * sp.exp(-I*k*r*sp.cos(theta - phi)) * r,\n",
    "            (theta, 0, 2*sp.pi)\n",
    "        ),\n",
    "        (r, 0, sp.oo)\n",
    "    )\n",
    "\n",
    "def inverse_fourier_transform_2d_polar(F_k_phi):\n",
    "    \"\"\"\n",
    "    Computes the inverse 2D Fourier transform in polar coordinates:\n",
    "      f(r, θ) = (1/(2π)²) ∫₀^∞ ∫₀^(2π) F(k, φ) e^{i k r cos(θ - φ)} k dφ dk\n",
    "    Returns a Sympy expression in terms of (r, θ).\n",
    "    \"\"\"\n",
    "    return (1/(2*sp.pi)**2) * sp.integrate(\n",
    "        sp.integrate(\n",
    "            F_k_phi * sp.exp(I*k*r*sp.cos(theta - phi)) * k,\n",
    "            (phi, 0, 2*sp.pi)\n",
    "        ),\n",
    "        (k, 0, sp.oo)\n",
    "    )"
   ],
   "id": "c89aae8fe6aa576d",
   "outputs": [],
   "execution_count": 44
  },
  {
   "metadata": {},
   "cell_type": "markdown",
   "source": "**Example**: A radially symmetric Gaussian",
   "id": "3ebad1ce9dc469a9"
  },
  {
   "metadata": {
    "ExecuteTime": {
     "end_time": "2025-03-26T09:37:48.245714Z",
     "start_time": "2025-03-26T09:37:36.318315Z"
    }
   },
   "cell_type": "code",
   "source": [
    "alpha = sp.Symbol('alpha', positive=True)\n",
    "f_r_theta = sp.exp(-alpha*r**2)  # does not depend on theta\n",
    "\n",
    "# Forward transform to F(k, phi)\n",
    "F_k_phi_expr = fourier_transform_2d_polar(f_r_theta)\n",
    "\n",
    "# In many cases, you might see that F does not actually depend on φ if f is radially symmetric.\n",
    "F_k_phi_simpl = sp.simplify(F_k_phi_expr)\n",
    "\n",
    "print(\"Forward transform in polar coords, F(k, phi) =\")\n",
    "display(F_k_phi_simpl)\n",
    "\n",
    "# If you want, attempt the inverse transform\n",
    "f_r_theta_inverted = inverse_fourier_transform_2d_polar(F_k_phi_simpl)\n",
    "f_r_theta_inverted_simpl = sp.simplify(f_r_theta_inverted)\n",
    "\n",
    "print(\"\\nRecovered f(r, theta) =\")\n",
    "display(f_r_theta_inverted_simpl)"
   ],
   "id": "63de8c6c70529d0a",
   "outputs": [
    {
     "name": "stdout",
     "output_type": "stream",
     "text": [
      "Forward transform in polar coords, F(k, phi) =\n"
     ]
    },
    {
     "data": {
      "text/plain": [
       "Integral(r*exp(-alpha*r**2)*Integral(exp(-I*k*r*cos(phi - theta)), (theta, 0, 2*pi)), (r, 0, oo))"
      ],
      "text/latex": "$\\displaystyle \\int\\limits_{0}^{\\infty} r e^{- \\alpha r^{2}} \\int\\limits_{0}^{2 \\pi} e^{- i k r \\cos{\\left(\\phi - \\theta \\right)}}\\, d\\theta\\, dr$"
     },
     "metadata": {},
     "output_type": "display_data"
    },
    {
     "name": "stdout",
     "output_type": "stream",
     "text": [
      "\n",
      "Recovered f(r, theta) =\n"
     ]
    },
    {
     "data": {
      "text/plain": [
       "Integral(k*Integral(exp(I*k*r*cos(phi - theta))*Integral(r*exp(-alpha*r**2)*Integral(exp(-I*k*r*cos(phi - theta)), (theta, 0, 2*pi)), (r, 0, oo)), (phi, 0, 2*pi)), (k, 0, oo))/(4*pi**2)"
      ],
      "text/latex": "$\\displaystyle \\frac{\\int\\limits_{0}^{\\infty} k \\int\\limits_{0}^{2 \\pi} e^{i k r \\cos{\\left(\\phi - \\theta \\right)}} \\int\\limits_{0}^{\\infty} r e^{- \\alpha r^{2}} \\int\\limits_{0}^{2 \\pi} e^{- i k r \\cos{\\left(\\phi - \\theta \\right)}}\\, d\\theta\\, dr\\, d\\phi\\, dk}{4 \\pi^{2}}$"
     },
     "metadata": {},
     "output_type": "display_data"
    }
   ],
   "execution_count": 45
  },
  {
   "metadata": {},
   "cell_type": "markdown",
   "source": [
    "**Dead End**: *Caveat*\n",
    "\n",
    "*We can do the above but fundamentally, we want to avoid the brute‐force double integral in $(r,\\theta)$ and instead use expansions in Bessel and Fourier series*.\n",
    "\n",
    "We leverage known integrals of exponentials in polar form. For example:\n",
    "$$\\int_{0}^{2\\pi} \\exp\\!\\bigl[-\\text{i}\\,k\\,r\\,\\cos(\\theta - \\phi)\\bigr] \\,\\text{d}\\theta\\;=\\;2\\pi \\,J_0(k\\,r)$$\n",
    "Radially symmetric functions $f(r)$ (independent of $\\theta$) reduce to a Hankel transform of order zero:\n",
    "$$F(k) = 2\\pi \\int_{0}^{\\infty} f(r)\\,r\\,J_0(k\\,r)\\,\\text{d}r$$"
   ],
   "id": "2a469e0a3125ff9a"
  },
  {
   "metadata": {},
   "cell_type": "markdown",
   "source": "### Green's function",
   "id": "33d6bb9ad5b6b252"
  },
  {
   "metadata": {},
   "cell_type": "markdown",
   "source": [
    "A Green’s function $G(\\mathbf{r}-\\mathbf{r}^{\\prime})$ for a linear operator $\\mathcal{L}$ satisfies\n",
    "$$\\mathcal{L}\\bigl\\{G(\\mathbf{r}-\\mathbf{r}{\\prime})\\bigr\\} \\;=\\; \\delta(\\mathbf{r}-\\mathbf{r}^{\\prime})$$\n",
    "and thus the solution to\n",
    "$$\\mathcal{L}\\{\\mathbf{v}(\\mathbf{r})\\} \\;=\\; \\mathbf{f}(\\mathbf{r})$$\n",
    "is given by the convolution\n",
    "$$\\mathbf{v}(\\mathbf{r})\n",
    "\\;=\\;\n",
    "\\int_{\\mathbb{R}^2} G(\\mathbf{r}-\\mathbf{r}^{\\prime})\\,\\mathbf{f}(\\mathbf{r}^{\\prime})\\,\\text{d}^2\\mathbf{r}^{\\prime}$$\n",
    "\n",
    "In Fourier space, this becomes a simple multiplication:\n",
    "\n",
    "$$\\widetilde{\\mathbf{v}}(\\mathbf{k})\n",
    "\\;=\\;\n",
    "\\widetilde{G}(\\mathbf{k})\\cdot\\widetilde{\\mathbf{f}}(\\mathbf{k})$$\n",
    "where $\\widehat{G}(\\mathbf{k})$ is the Fourier transform of the Green’s function."
   ],
   "id": "c3a0b7378993954c"
  },
  {
   "metadata": {},
   "cell_type": "markdown",
   "source": "----",
   "id": "e59f9d0bee73f8f0"
  },
  {
   "metadata": {},
   "cell_type": "markdown",
   "source": [
    "We define the signed dimensionless number\n",
    "$$A=\\frac{\\bar{\\nu}}{\\nu_3}\\tag{11}$$\n",
    "It is related to the degree of anisotropy of the uniaxial, nematic fluid. $A = 0$ in the isotropic case."
   ],
   "id": "17c152af9cd4103c"
  },
  {
   "metadata": {
    "ExecuteTime": {
     "end_time": "2025-03-26T08:54:57.502155Z",
     "start_time": "2025-03-26T08:54:57.488905Z"
    }
   },
   "cell_type": "code",
   "source": [
    "# Define symbolically and substitute\n",
    "A = SE.nu_bar / SE.nu3\n",
    "A_subs = sp.simplify(A.subs(SE.nu_bar, 2 * (SE.nu1 + SE.nu2 - 2 * SE.nu3)))\n",
    "print(\"A substituted:\")\n",
    "display(A_subs)"
   ],
   "id": "3610526308e53348",
   "outputs": [
    {
     "name": "stdout",
     "output_type": "stream",
     "text": [
      "A substituted:\n"
     ]
    },
    {
     "data": {
      "text/plain": [
       "2*(nu1 + nu2 - 2*nu3)/nu3"
      ],
      "text/latex": "$\\displaystyle \\frac{2 \\left(\\nu_{1} + \\nu_{2} - 2 \\nu_{3}\\right)}{\\nu_{3}}$"
     },
     "metadata": {},
     "output_type": "display_data"
    }
   ],
   "execution_count": 19
  },
  {
   "metadata": {
    "ExecuteTime": {
     "end_time": "2025-03-26T08:54:59.610218Z",
     "start_time": "2025-03-26T08:54:59.607066Z"
    }
   },
   "cell_type": "code",
   "source": [
    "k = sp.Symbol('k', real=True, nonnegative=True)\n",
    "phi = sp.Symbol('phi', real=True)\n",
    "alpha_para_sq = SE.alpha_par_sq\n",
    "alpha_perp_sq = SE.alpha_perp_sq"
   ],
   "id": "918d6ea8ce3075ba",
   "outputs": [],
   "execution_count": 20
  },
  {
   "metadata": {
    "ExecuteTime": {
     "end_time": "2025-03-26T08:55:02.226641Z",
     "start_time": "2025-03-26T08:55:01.629308Z"
    }
   },
   "cell_type": "code",
   "source": [
    "B = 1 + A * sp.sin(phi)**2 * sp.cos(phi)**2\n",
    "H = alpha_para_sq * sp.sin(phi)**2 + alpha_perp_sq * sp.cos(phi)**2 + k**2 * B\n",
    "G = sp.Matrix([\n",
    "    [sp.sin(phi)**2,            -sp.sin(phi)*sp.cos(phi)],\n",
    "    [-sp.sin(phi)*sp.cos(phi),  sp.cos(phi)**2          ]\n",
    "])\n",
    "G_tilde = (1 / (SE.nu3 * H)) * G\n",
    "display(G_tilde)\n",
    "print(f\"\\nSimplified:\")\n",
    "display(sp.simplify(G_tilde))"
   ],
   "id": "deb9ca69db171904",
   "outputs": [
    {
     "data": {
      "text/plain": [
       "Matrix([\n",
       "[       sin(phi)**2/(nu3*(alpha_∥^2*sin(phi)**2 + alpha_⊥^2*cos(phi)**2 + k**2*(1 + nubar*sin(phi)**2*cos(phi)**2/nu3))), -sin(phi)*cos(phi)/(nu3*(alpha_∥^2*sin(phi)**2 + alpha_⊥^2*cos(phi)**2 + k**2*(1 + nubar*sin(phi)**2*cos(phi)**2/nu3)))],\n",
       "[-sin(phi)*cos(phi)/(nu3*(alpha_∥^2*sin(phi)**2 + alpha_⊥^2*cos(phi)**2 + k**2*(1 + nubar*sin(phi)**2*cos(phi)**2/nu3))),        cos(phi)**2/(nu3*(alpha_∥^2*sin(phi)**2 + alpha_⊥^2*cos(phi)**2 + k**2*(1 + nubar*sin(phi)**2*cos(phi)**2/nu3)))]])"
      ],
      "text/latex": "$\\displaystyle \\left[\\begin{matrix}\\frac{\\sin^{2}{\\left(\\phi \\right)}}{\\nu_{3} \\left(\\alpha^{2}_{∥} \\sin^{2}{\\left(\\phi \\right)} + \\alpha^{2}_{⊥} \\cos^{2}{\\left(\\phi \\right)} + k^{2} \\left(1 + \\frac{\\bar{\\nu} \\sin^{2}{\\left(\\phi \\right)} \\cos^{2}{\\left(\\phi \\right)}}{\\nu_{3}}\\right)\\right)} & - \\frac{\\sin{\\left(\\phi \\right)} \\cos{\\left(\\phi \\right)}}{\\nu_{3} \\left(\\alpha^{2}_{∥} \\sin^{2}{\\left(\\phi \\right)} + \\alpha^{2}_{⊥} \\cos^{2}{\\left(\\phi \\right)} + k^{2} \\left(1 + \\frac{\\bar{\\nu} \\sin^{2}{\\left(\\phi \\right)} \\cos^{2}{\\left(\\phi \\right)}}{\\nu_{3}}\\right)\\right)}\\\\- \\frac{\\sin{\\left(\\phi \\right)} \\cos{\\left(\\phi \\right)}}{\\nu_{3} \\left(\\alpha^{2}_{∥} \\sin^{2}{\\left(\\phi \\right)} + \\alpha^{2}_{⊥} \\cos^{2}{\\left(\\phi \\right)} + k^{2} \\left(1 + \\frac{\\bar{\\nu} \\sin^{2}{\\left(\\phi \\right)} \\cos^{2}{\\left(\\phi \\right)}}{\\nu_{3}}\\right)\\right)} & \\frac{\\cos^{2}{\\left(\\phi \\right)}}{\\nu_{3} \\left(\\alpha^{2}_{∥} \\sin^{2}{\\left(\\phi \\right)} + \\alpha^{2}_{⊥} \\cos^{2}{\\left(\\phi \\right)} + k^{2} \\left(1 + \\frac{\\bar{\\nu} \\sin^{2}{\\left(\\phi \\right)} \\cos^{2}{\\left(\\phi \\right)}}{\\nu_{3}}\\right)\\right)}\\end{matrix}\\right]$"
     },
     "metadata": {},
     "output_type": "display_data"
    },
    {
     "name": "stdout",
     "output_type": "stream",
     "text": [
      "\n",
      "Simplified:\n"
     ]
    },
    {
     "data": {
      "text/plain": [
       "Matrix([\n",
       "[       sin(phi)**2/(k**2*(nu3 + nubar*(1 - cos(4*phi))/8) + nu3*(alpha_∥^2*sin(phi)**2 + alpha_⊥^2*cos(phi)**2)), -sin(phi)*cos(phi)/(k**2*(nu3 - nubar*(cos(4*phi) - 1)/8) + nu3*(alpha_∥^2*sin(phi)**2 + alpha_⊥^2*cos(phi)**2))],\n",
       "[-sin(phi)*cos(phi)/(k**2*(nu3 - nubar*(cos(4*phi) - 1)/8) + nu3*(alpha_∥^2*sin(phi)**2 + alpha_⊥^2*cos(phi)**2)),        cos(phi)**2/(k**2*(nu3 + nubar*(1 - cos(4*phi))/8) + nu3*(alpha_∥^2*sin(phi)**2 + alpha_⊥^2*cos(phi)**2))]])"
      ],
      "text/latex": "$\\displaystyle \\left[\\begin{matrix}\\frac{\\sin^{2}{\\left(\\phi \\right)}}{k^{2} \\left(\\nu_{3} + \\frac{\\bar{\\nu} \\left(1 - \\cos{\\left(4 \\phi \\right)}\\right)}{8}\\right) + \\nu_{3} \\left(\\alpha^{2}_{∥} \\sin^{2}{\\left(\\phi \\right)} + \\alpha^{2}_{⊥} \\cos^{2}{\\left(\\phi \\right)}\\right)} & - \\frac{\\sin{\\left(\\phi \\right)} \\cos{\\left(\\phi \\right)}}{k^{2} \\left(\\nu_{3} - \\frac{\\bar{\\nu} \\left(\\cos{\\left(4 \\phi \\right)} - 1\\right)}{8}\\right) + \\nu_{3} \\left(\\alpha^{2}_{∥} \\sin^{2}{\\left(\\phi \\right)} + \\alpha^{2}_{⊥} \\cos^{2}{\\left(\\phi \\right)}\\right)}\\\\- \\frac{\\sin{\\left(\\phi \\right)} \\cos{\\left(\\phi \\right)}}{k^{2} \\left(\\nu_{3} - \\frac{\\bar{\\nu} \\left(\\cos{\\left(4 \\phi \\right)} - 1\\right)}{8}\\right) + \\nu_{3} \\left(\\alpha^{2}_{∥} \\sin^{2}{\\left(\\phi \\right)} + \\alpha^{2}_{⊥} \\cos^{2}{\\left(\\phi \\right)}\\right)} & \\frac{\\cos^{2}{\\left(\\phi \\right)}}{k^{2} \\left(\\nu_{3} + \\frac{\\bar{\\nu} \\left(1 - \\cos{\\left(4 \\phi \\right)}\\right)}{8}\\right) + \\nu_{3} \\left(\\alpha^{2}_{∥} \\sin^{2}{\\left(\\phi \\right)} + \\alpha^{2}_{⊥} \\cos^{2}{\\left(\\phi \\right)}\\right)}\\end{matrix}\\right]$"
     },
     "metadata": {},
     "output_type": "display_data"
    }
   ],
   "execution_count": 21
  },
  {
   "metadata": {},
   "cell_type": "code",
   "outputs": [],
   "execution_count": null,
   "source": "",
   "id": "fc9564f66aecbf90"
  }
 ],
 "metadata": {
  "kernelspec": {
   "display_name": "Python 3",
   "language": "python",
   "name": "python3"
  },
  "language_info": {
   "codemirror_mode": {
    "name": "ipython",
    "version": 2
   },
   "file_extension": ".py",
   "mimetype": "text/x-python",
   "name": "python",
   "nbconvert_exporter": "python",
   "pygments_lexer": "ipython2",
   "version": "2.7.6"
  }
 },
 "nbformat": 4,
 "nbformat_minor": 5
}
