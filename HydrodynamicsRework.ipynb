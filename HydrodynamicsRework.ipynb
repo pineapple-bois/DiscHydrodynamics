{
 "cells": [
  {
   "metadata": {},
   "cell_type": "markdown",
   "source": "\\newpage",
   "id": "3772f2027718326b"
  },
  {
   "metadata": {},
   "cell_type": "markdown",
   "source": [
    "# Hydrodynamics of a disk\n",
    "in a thin film of weakly nematic fluid subject to linear friction, [Abdallah Daddi-Moussa-Ider et al](https://iopscience.iop.org/article/10.1088/1361-648X/ad65ad)"
   ],
   "id": "8832a7a958e5035b"
  },
  {
   "cell_type": "code",
   "id": "initial_id",
   "metadata": {
    "collapsed": true,
    "ExecuteTime": {
     "end_time": "2025-03-07T17:29:00.174518Z",
     "start_time": "2025-03-07T17:29:00.172185Z"
    }
   },
   "source": "import sympy as sp",
   "outputs": [],
   "execution_count": 170
  },
  {
   "metadata": {},
   "cell_type": "markdown",
   "source": "## Section 2",
   "id": "53dd6e5032f8569d"
  },
  {
   "metadata": {},
   "cell_type": "markdown",
   "source": [
    "\n",
    "For flows at low Reynolds numbers, viscous contributions dominate inertial ones. Under these conditions, the dynam- ics of the surrounding fluid are predominantly governed by the Stokes equation. We here study an extension of this equation to take into account possible friction with the surrounding.\n",
    "\n",
    "In reality, such friction may arise from a sub- strate and possibly by an additional cover slide confining a thin, basically two-dimensional fluid layer, or, possibly and to some approximation, from the friction with a surrounding fluid. Consequently, the flow equation can be generally expressed as\n",
    "\n",
    "We attempt to derive the following flow equation,\n",
    "$$\\nabla_j\\,\\sigma_{ij}(\\mathbf{r})+\\mathbf{M}_{ij}\\,v_j(\\mathbf{r})=f_i(\\mathbf{r})\\tag{1}$$"
   ],
   "id": "38eaa6cd260f82e9"
  },
  {
   "metadata": {},
   "cell_type": "markdown",
   "source": [
    "### Momentum conservation in a fluid\n",
    "\n",
    "For a fluid of density $\\rho$, the momentum balance is given by\n",
    "$$\\rho \\left(\\partial_t v_i + v_j\\,\\nabla_j v_i\\right) = \\nabla_j \\sigma_{ij} + f^{\\rm ext}_i$$\n",
    "\n",
    "where:\n",
    "\n",
    "- $v_i(\\mathbf{r})$  is the velocity field,\n",
    "- $\\sigma_{ij}$  is the stress tensor,\n",
    "- $f^{\\rm ext}_i$  represents any external force density.\n",
    "\n",
    "At low Reynolds numbers, the inertial terms (those involving $\\rho$) become negligible compared to viscous effects.\n",
    "\n",
    "This simplifies our momentum balance to,\n",
    "$$\\nabla_j \\sigma_{ij} + f^{\\rm ext}_i = 0$$"
   ],
   "id": "f87e5151067e5e84"
  },
  {
   "metadata": {},
   "cell_type": "markdown",
   "source": "Components and functions depend on both position and time",
   "id": "cb03c0ea34b61f58"
  },
  {
   "metadata": {
    "ExecuteTime": {
     "end_time": "2025-03-07T17:29:00.189238Z",
     "start_time": "2025-03-07T17:29:00.185225Z"
    }
   },
   "cell_type": "code",
   "source": [
    "# Define symbols for space and time\n",
    "x, y, t = sp.symbols('x y t')\n",
    "\n",
    "# Define functions for the velocity field components v1 and v2\n",
    "v1 = sp.Function('v1')(x, y, t)\n",
    "v2 = sp.Function('v2')(x, y, t)\n",
    "# Velocity vector\n",
    "v = sp.Matrix([v1, v2])\n",
    "\n",
    "# Define functions for the external force components f1 and f2 (f^ext)\n",
    "f1 = sp.Function('f1')(x, y, t)\n",
    "f2 = sp.Function('f2')(x, y, t)\n",
    "# External force vector\n",
    "f_ext = sp.Matrix([f1, f2])\n",
    "\n",
    "# Define functions for the stress tensor components sigma_ij\n",
    "sigma11 = sp.Function('sigma11')(x, y, t)\n",
    "sigma12 = sp.Function('sigma12')(x, y, t)\n",
    "sigma21 = sp.Function('sigma21')(x, y, t)\n",
    "sigma22 = sp.Function('sigma22')(x, y, t)"
   ],
   "id": "15abfbc0e395aa0e",
   "outputs": [],
   "execution_count": 171
  },
  {
   "metadata": {},
   "cell_type": "markdown",
   "source": "The stress tensor is a second-order tensor, i.e., **perhaps treating as a $2\\times 2$ matrix in 2D is sufficient?** `YES`",
   "id": "9760b49d6c746ff4"
  },
  {
   "metadata": {
    "ExecuteTime": {
     "end_time": "2025-03-07T17:29:00.228447Z",
     "start_time": "2025-03-07T17:29:00.225030Z"
    }
   },
   "cell_type": "code",
   "source": [
    "# Build the stress tensor as a 2x2 matrix\n",
    "sigma_tensor = sp.Matrix([[sigma11, sigma12],\n",
    "                          [sigma21, sigma22]])\n",
    "display(sigma_tensor)"
   ],
   "id": "e5df858f21cfaa62",
   "outputs": [
    {
     "data": {
      "text/plain": [
       "Matrix([\n",
       "[sigma11(x, y, t), sigma12(x, y, t)],\n",
       "[sigma21(x, y, t), sigma22(x, y, t)]])"
      ],
      "text/latex": "$\\displaystyle \\left[\\begin{matrix}\\sigma_{11}{\\left(x,y,t \\right)} & \\sigma_{12}{\\left(x,y,t \\right)}\\\\\\sigma_{21}{\\left(x,y,t \\right)} & \\sigma_{22}{\\left(x,y,t \\right)}\\end{matrix}\\right]$"
     },
     "metadata": {},
     "output_type": "display_data"
    }
   ],
   "execution_count": 172
  },
  {
   "metadata": {},
   "cell_type": "markdown",
   "source": "### Index notation",
   "id": "5c8bf3a4b60e1cef"
  },
  {
   "metadata": {},
   "cell_type": "markdown",
   "source": [
    "Index  $i$:\n",
    "\n",
    "- This is a free index that specifies the component of the vector equation considered.\n",
    "- In the term  $f^{\\rm ext}_i$, it indicates the $i$-th component of the external force per unit volume acting on the fluid.\n",
    "\n",
    "Index $j$:\n",
    "\n",
    "- This index is summed over (according to Einstein’s summation convention), meaning we sum the contributions from all spatial directions.\n",
    "- In the term  $\\nabla_j \\sigma_{ij}$, $j$ indicates the coordinate direction along which you take the derivative of the stress tensor component $\\sigma_{ij}$.\n",
    "- Essentially, it sums the changes in the stress components in all directions to give the net force per unit volume in the $i$-th direction."
   ],
   "id": "51d17fa967a42540"
  },
  {
   "metadata": {
    "ExecuteTime": {
     "end_time": "2025-03-07T17:29:00.261281Z",
     "start_time": "2025-03-07T17:29:00.257371Z"
    }
   },
   "cell_type": "code",
   "source": [
    "# The momentum conservation equation in index notation is:\n",
    "#   del_j sigma_{ij} + f_i^ext = 0.\n",
    "\n",
    "# For i=1 (the x-component), this becomes:\n",
    "eq1 = sp.Eq(sp.diff(sigma11, x) + sp.diff(sigma12, y) + f1, 0)\n",
    "\n",
    "# For i=2 (the y-component), it is:\n",
    "eq2 = sp.Eq(sp.diff(sigma21, x) + sp.diff(sigma22, y) + f2, 0)"
   ],
   "id": "74342db5fb581ddd",
   "outputs": [],
   "execution_count": 173
  },
  {
   "metadata": {
    "ExecuteTime": {
     "end_time": "2025-03-07T17:29:00.295825Z",
     "start_time": "2025-03-07T17:29:00.292014Z"
    }
   },
   "cell_type": "code",
   "source": [
    "# Display the equations\n",
    "print(\"Momentum conservation (x-component):\")\n",
    "display(eq1)\n",
    "print(\"\\nMomentum conservation (y-component):\")\n",
    "display(eq2)"
   ],
   "id": "60b496bf863b1652",
   "outputs": [
    {
     "name": "stdout",
     "output_type": "stream",
     "text": [
      "Momentum conservation (x-component):\n"
     ]
    },
    {
     "data": {
      "text/plain": [
       "Eq(f1(x, y, t) + Derivative(sigma11(x, y, t), x) + Derivative(sigma12(x, y, t), y), 0)"
      ],
      "text/latex": "$\\displaystyle f_{1}{\\left(x,y,t \\right)} + \\frac{\\partial}{\\partial x} \\sigma_{11}{\\left(x,y,t \\right)} + \\frac{\\partial}{\\partial y} \\sigma_{12}{\\left(x,y,t \\right)} = 0$"
     },
     "metadata": {},
     "output_type": "display_data"
    },
    {
     "name": "stdout",
     "output_type": "stream",
     "text": [
      "\n",
      "Momentum conservation (y-component):\n"
     ]
    },
    {
     "data": {
      "text/plain": [
       "Eq(f2(x, y, t) + Derivative(sigma21(x, y, t), x) + Derivative(sigma22(x, y, t), y), 0)"
      ],
      "text/latex": "$\\displaystyle f_{2}{\\left(x,y,t \\right)} + \\frac{\\partial}{\\partial x} \\sigma_{21}{\\left(x,y,t \\right)} + \\frac{\\partial}{\\partial y} \\sigma_{22}{\\left(x,y,t \\right)} = 0$"
     },
     "metadata": {},
     "output_type": "display_data"
    }
   ],
   "execution_count": 174
  },
  {
   "metadata": {},
   "cell_type": "markdown",
   "source": "----",
   "id": "764030b0194226c8"
  },
  {
   "metadata": {},
   "cell_type": "markdown",
   "source": [
    "### Incorporating Frictional Effects\n",
    "\n",
    "In many realistic situations, such as a thin film confined by a substrate or cover slide, or even friction with a surrounding fluid—there is an additional frictional force. Microscopically, this friction arises because the moving fluid exerts a force on the substrate, which in turn reacts with a force proportional to the local velocity. To model this effect, we introduce a friction term:\n",
    "\n",
    "$$\\text{Friction force per unit area} = \\mathbf{M}_{ij}\\,v_j$$\n",
    "\n",
    "where $\\mathbf{M}_{ij}$ is a friction tensor. For isotropic friction, this might simply be $\\Gamma\\,\\delta_{ij}$ (with $\\Gamma$ being a friction coefficient), but in a more general case the friction can be anisotropic.\n",
    "\n"
   ],
   "id": "d917ffc1b3fe98a"
  },
  {
   "metadata": {
    "ExecuteTime": {
     "end_time": "2025-03-07T17:29:00.387561Z",
     "start_time": "2025-03-07T17:29:00.375414Z"
    }
   },
   "cell_type": "code",
   "source": [
    "# Define the friction tensor M_ij as a 2x2 matrix.\n",
    "# For the most general case, we allow each component to be a function.\n",
    "M11 = sp.Function('M11')(x, y, t)\n",
    "M12 = sp.Function('M12')(x, y, t)\n",
    "M21 = sp.Function('M21')(x, y, t)\n",
    "M22 = sp.Function('M22')(x, y, t)\n",
    "\n",
    "M_tensor = sp.Matrix([[M11, M12],\n",
    "                      [M21, M22]])\n",
    "\n",
    "print(\"Friction tensor\")\n",
    "display(M_tensor)\n",
    "\n",
    "# Alternatively, if friction is isotropic, we might use a constant friction coefficient Gamma:\n",
    "Gamma = sp.symbols('Gamma', real=True, positive=True)\n",
    "M_constant = Gamma * sp.eye(2)\n",
    "print(\"\\nIsotropic friction tensor\")\n",
    "display(M_constant)"
   ],
   "id": "db47db1a1cdc2574",
   "outputs": [
    {
     "name": "stdout",
     "output_type": "stream",
     "text": [
      "Friction tensor\n"
     ]
    },
    {
     "data": {
      "text/plain": [
       "Matrix([\n",
       "[M11(x, y, t), M12(x, y, t)],\n",
       "[M21(x, y, t), M22(x, y, t)]])"
      ],
      "text/latex": "$\\displaystyle \\left[\\begin{matrix}M_{11}{\\left(x,y,t \\right)} & M_{12}{\\left(x,y,t \\right)}\\\\M_{21}{\\left(x,y,t \\right)} & M_{22}{\\left(x,y,t \\right)}\\end{matrix}\\right]$"
     },
     "metadata": {},
     "output_type": "display_data"
    },
    {
     "name": "stdout",
     "output_type": "stream",
     "text": [
      "\n",
      "Isotropic friction tensor\n"
     ]
    },
    {
     "data": {
      "text/plain": [
       "Matrix([\n",
       "[Gamma,     0],\n",
       "[    0, Gamma]])"
      ],
      "text/latex": "$\\displaystyle \\left[\\begin{matrix}\\Gamma & 0\\\\0 & \\Gamma\\end{matrix}\\right]$"
     },
     "metadata": {},
     "output_type": "display_data"
    }
   ],
   "execution_count": 175
  },
  {
   "metadata": {},
   "cell_type": "markdown",
   "source": [
    "Adding either of these friction terms to our force balance, we have\n",
    "$$\\nabla_j \\sigma_{ij} + \\mathbf{M}_{ij}\\,v_j + f^{\\rm ext}_i = 0$$"
   ],
   "id": "e1063887a760690b"
  },
  {
   "metadata": {
    "ExecuteTime": {
     "end_time": "2025-03-07T17:29:00.406967Z",
     "start_time": "2025-03-07T17:29:00.394977Z"
    }
   },
   "cell_type": "code",
   "source": [
    "# Compute the divergence of the stress tensor as a vector:\n",
    "# (dee_x sigma_11 + dee_y sigma_12,  dee_x sigma_21 + dee_y sigma_22)\n",
    "div_sigma = sp.Matrix([\n",
    "    sp.diff(sigma11, x) + sp.diff(sigma12, y),\n",
    "    sp.diff(sigma21, x) + sp.diff(sigma22, y)\n",
    "])\n",
    "\n",
    "# Calculate the friction force per unit area as M_ij * v_j (matrix-vector multiplication)\n",
    "friction_force = M_tensor * v\n",
    "\n",
    "# Combine them into the momentum conservation equation: div(sigma) + f_ext = 0\n",
    "momentum_eq = sp.Eq(div_sigma + friction_force + f_ext, sp.Matrix([0, 0]))\n",
    "display(momentum_eq)"
   ],
   "id": "41e4f71421c01c8a",
   "outputs": [
    {
     "data": {
      "text/plain": [
       "Eq(Matrix([\n",
       "[M11(x, y, t)*v1(x, y, t) + M12(x, y, t)*v2(x, y, t) + f1(x, y, t) + Derivative(sigma11(x, y, t), x) + Derivative(sigma12(x, y, t), y)],\n",
       "[M21(x, y, t)*v1(x, y, t) + M22(x, y, t)*v2(x, y, t) + f2(x, y, t) + Derivative(sigma21(x, y, t), x) + Derivative(sigma22(x, y, t), y)]]), Matrix([\n",
       "[0],\n",
       "[0]]))"
      ],
      "text/latex": "$\\displaystyle \\left[\\begin{matrix}M_{11}{\\left(x,y,t \\right)} v_{1}{\\left(x,y,t \\right)} + M_{12}{\\left(x,y,t \\right)} v_{2}{\\left(x,y,t \\right)} + f_{1}{\\left(x,y,t \\right)} + \\frac{\\partial}{\\partial x} \\sigma_{11}{\\left(x,y,t \\right)} + \\frac{\\partial}{\\partial y} \\sigma_{12}{\\left(x,y,t \\right)}\\\\M_{21}{\\left(x,y,t \\right)} v_{1}{\\left(x,y,t \\right)} + M_{22}{\\left(x,y,t \\right)} v_{2}{\\left(x,y,t \\right)} + f_{2}{\\left(x,y,t \\right)} + \\frac{\\partial}{\\partial x} \\sigma_{21}{\\left(x,y,t \\right)} + \\frac{\\partial}{\\partial y} \\sigma_{22}{\\left(x,y,t \\right)}\\end{matrix}\\right] = \\left[\\begin{matrix}0\\\\0\\end{matrix}\\right]$"
     },
     "metadata": {},
     "output_type": "display_data"
    }
   ],
   "execution_count": 176
  },
  {
   "metadata": {},
   "cell_type": "markdown",
   "source": [
    "If we now define the net external force as\n",
    "\n",
    "$$f_i(\\mathbf{r}) \\equiv - f^{\\rm ext}_i$$\n",
    "\n",
    "the equation becomes\n",
    "\n",
    "$$\\nabla_j\\,\\sigma_{ij}(\\mathbf{r}) + \\mathbf{M}_{ij}\\,v_j(\\mathbf{r}) = f_i(\\mathbf{r})$$\n",
    "\n",
    "which is the form of equation (1).\n",
    "\n",
    "($f_i(\\mathbf{r})$ in two dimensions signifies a force density acting on the fluid, and summation over repeated indices is implied following Einstein’s notation)."
   ],
   "id": "70b578f77a0f643"
  },
  {
   "metadata": {},
   "cell_type": "markdown",
   "source": "----",
   "id": "3f3c394d52853a8b"
  },
  {
   "metadata": {},
   "cell_type": "markdown",
   "source": [
    "### Incorporating the total stress tensor $\\sigma_{ij}(\\mathbf{r})$\n",
    "\n",
    "Assuming $i, j \\in \\{x, y\\}$, equation $(1)$,\n",
    "$$\\sigma_{ij}(\\mathbf{r})=p(\\mathbf{r})\\,\\delta_{ij}+\\tilde{\\sigma}_{ij}(\\mathbf{r})$$\n",
    "\n",
    "represents the components of the stress tensor where,\n",
    "\n",
    "- $p(\\mathbf{r})$ is the pressure field\n",
    "- The Kronecker delta $\\delta_{ij} = \\begin{cases} 1 & \\text{if } i = j \\\\0 & \\text{if } i \\neq j\\end{cases}$"
   ],
   "id": "6ace41a99d64ff8d"
  },
  {
   "metadata": {},
   "cell_type": "markdown",
   "source": [
    "##### Dead End - Including for fidelity\n",
    "\n",
    "To have the isotropic part carry the same overall weight as the full stress, we equate,\n",
    "$$2p = \\sigma_{xx} + \\sigma_{yy}$$\n",
    "`NOTE`: Here we see a variation in sign convention in the paper - Ultimately this doesn't appear to matter"
   ],
   "id": "8ace01370e2701f6"
  },
  {
   "metadata": {
    "ExecuteTime": {
     "end_time": "2025-03-07T17:29:00.467956Z",
     "start_time": "2025-03-07T17:29:00.460960Z"
    }
   },
   "cell_type": "code",
   "source": [
    "# Trace of sigma\n",
    "trace_sigma = sigma_tensor.trace()\n",
    "\n",
    "p = sp.Rational(1,2)*trace_sigma\n",
    "I2 = sp.eye(2)\n",
    "\n",
    "# Decompose:\n",
    "# note the plus sign because p was defined with a minus\n",
    "sigma_tilde = sigma_tensor.copy() - p*I2\n",
    "# Then sigma = p I + sigma_tilde\n",
    "\n",
    "display(sigma_tilde)\n",
    "print(f\"Type: {type(sigma_tilde)}\")\n",
    "assert sigma_tilde.trace() == 0, \"isotropic pressure not separated as required\""
   ],
   "id": "a1f0da937d6e0be5",
   "outputs": [
    {
     "data": {
      "text/plain": [
       "Matrix([\n",
       "[sigma11(x, y, t)/2 - sigma22(x, y, t)/2,                         sigma12(x, y, t)],\n",
       "[                       sigma21(x, y, t), -sigma11(x, y, t)/2 + sigma22(x, y, t)/2]])"
      ],
      "text/latex": "$\\displaystyle \\left[\\begin{matrix}\\frac{\\sigma_{11}{\\left(x,y,t \\right)}}{2} - \\frac{\\sigma_{22}{\\left(x,y,t \\right)}}{2} & \\sigma_{12}{\\left(x,y,t \\right)}\\\\\\sigma_{21}{\\left(x,y,t \\right)} & - \\frac{\\sigma_{11}{\\left(x,y,t \\right)}}{2} + \\frac{\\sigma_{22}{\\left(x,y,t \\right)}}{2}\\end{matrix}\\right]$"
     },
     "metadata": {},
     "output_type": "display_data"
    },
    {
     "name": "stdout",
     "output_type": "stream",
     "text": [
      "Type: <class 'sympy.matrices.dense.MutableDenseMatrix'>\n"
     ]
    }
   ],
   "execution_count": 177
  },
  {
   "metadata": {},
   "cell_type": "markdown",
   "source": [
    "$\\tilde{\\sigma}_{ij}$ is traceless meaning the isotropic pressure part has been successfully separated.\n",
    "\n",
    "We substitute component wise into the `momentum_eq`"
   ],
   "id": "9fe96fec9061b160"
  },
  {
   "metadata": {
    "ExecuteTime": {
     "end_time": "2025-03-07T17:29:00.567417Z",
     "start_time": "2025-03-07T17:29:00.560837Z"
    }
   },
   "cell_type": "code",
   "source": [
    "momentum_eq_subst = momentum_eq.subs({\n",
    "    sigma11: sigma_tilde[0,0],\n",
    "    sigma12: sigma_tilde[0,1],\n",
    "    sigma21: sigma_tilde[1,0],\n",
    "    sigma22: sigma_tilde[1,1]\n",
    "})\n",
    "display(momentum_eq_subst)"
   ],
   "id": "269d4d5af0660edb",
   "outputs": [
    {
     "data": {
      "text/plain": [
       "Eq(Matrix([\n",
       "[M11(x, y, t)*v1(x, y, t) + M12(x, y, t)*v2(x, y, t) + f1(x, y, t) + Derivative(3*sigma11(x, y, t)/4 - sigma22(x, y, t)/4, x) + Derivative(sigma12(x, y, t), y)],\n",
       "[ M21(x, y, t)*v1(x, y, t) + M22(x, y, t)*v2(x, y, t) + f2(x, y, t) + Derivative(-sigma11(x, y, t)/2 + sigma22(x, y, t)/2, y) + Derivative(sigma21(x, y, t), x)]]), Matrix([\n",
       "[0],\n",
       "[0]]))"
      ],
      "text/latex": "$\\displaystyle \\left[\\begin{matrix}M_{11}{\\left(x,y,t \\right)} v_{1}{\\left(x,y,t \\right)} + M_{12}{\\left(x,y,t \\right)} v_{2}{\\left(x,y,t \\right)} + f_{1}{\\left(x,y,t \\right)} + \\frac{\\partial}{\\partial x} \\left(\\frac{3 \\sigma_{11}{\\left(x,y,t \\right)}}{4} - \\frac{\\sigma_{22}{\\left(x,y,t \\right)}}{4}\\right) + \\frac{\\partial}{\\partial y} \\sigma_{12}{\\left(x,y,t \\right)}\\\\M_{21}{\\left(x,y,t \\right)} v_{1}{\\left(x,y,t \\right)} + M_{22}{\\left(x,y,t \\right)} v_{2}{\\left(x,y,t \\right)} + f_{2}{\\left(x,y,t \\right)} + \\frac{\\partial}{\\partial y} \\left(- \\frac{\\sigma_{11}{\\left(x,y,t \\right)}}{2} + \\frac{\\sigma_{22}{\\left(x,y,t \\right)}}{2}\\right) + \\frac{\\partial}{\\partial x} \\sigma_{21}{\\left(x,y,t \\right)}\\end{matrix}\\right] = \\left[\\begin{matrix}0\\\\0\\end{matrix}\\right]$"
     },
     "metadata": {},
     "output_type": "display_data"
    }
   ],
   "execution_count": 178
  },
  {
   "metadata": {},
   "cell_type": "markdown",
   "source": [
    "The $\\frac{\\partial}{\\partial x}\\sigma_{11}$ and $\\frac{\\partial}{\\partial y}\\sigma_{22}$ coefficients are wrong\n",
    "\n",
    "The problem here is our definition of the derived stress,\n",
    "$$\\tilde{\\sigma}_{ij} = \\sigma_{ij} - p\\,\\delta_{ij}, \\quad \\text{with } p = \\frac{1}{2}\\mathrm{tr}(\\sigma)$$\n",
    "creates circular dependency. The pressure $p$ is defined in terms of the very components $\\sigma_{11}$ and $\\sigma_{22}$ that we try to substitute out in favour of $\\tilde{\\sigma}_{ij}$."
   ],
   "id": "e31bdeb7850f4329"
  },
  {
   "metadata": {},
   "cell_type": "markdown",
   "source": "##### Amendment",
   "id": "141fa6a962697a4c"
  },
  {
   "metadata": {},
   "cell_type": "markdown",
   "source": "Instead of computing $p$ from the trace of $\\sigma$, we define it as a function",
   "id": "c7de10400ce2b223"
  },
  {
   "metadata": {
    "ExecuteTime": {
     "end_time": "2025-03-07T17:29:00.576147Z",
     "start_time": "2025-03-07T17:29:00.573183Z"
    }
   },
   "cell_type": "code",
   "source": [
    "# Define pressure field as an independent function\n",
    "p_field = sp.Function('p')(x, y, t)"
   ],
   "id": "27bdf39efdfe620a",
   "outputs": [],
   "execution_count": 179
  },
  {
   "metadata": {},
   "cell_type": "markdown",
   "source": "Define the independent components functions for the deviatoric stress",
   "id": "82542c0bb62860bc"
  },
  {
   "metadata": {
    "ExecuteTime": {
     "end_time": "2025-03-07T17:29:00.642020Z",
     "start_time": "2025-03-07T17:29:00.639286Z"
    }
   },
   "cell_type": "code",
   "source": [
    "# We define three functions: tilde_sigma_11, tilde_sigma_12, tilde_sigma_21,\n",
    "# and set tilde_sigma_22 to enforce tracelessness.\n",
    "sigmatilde_11 = sp.Function('sigmatilde_11')(x, y, t)\n",
    "sigmatilde_12 = sp.Function('sigmatilde_12')(x, y, t)\n",
    "sigmatilde_21 = sp.Function('sigmatilde_21')(x, y, t)\n",
    "sigmatilde_22_expr = -sigmatilde_11  # Enforce tilde_sigma.trace() = 0\n",
    "\n",
    "# Build the deviatoric stress tensor using the tilde notation\n",
    "sigma_tilde = sp.Matrix([\n",
    "    [sigmatilde_11, sigmatilde_12],\n",
    "    [sigmatilde_21, sigmatilde_22_expr]\n",
    "])"
   ],
   "id": "8cd8220524a36711",
   "outputs": [],
   "execution_count": 180
  },
  {
   "metadata": {},
   "cell_type": "markdown",
   "source": "Reconstruct the full stress tensor",
   "id": "e238d784b350ddaf"
  },
  {
   "metadata": {
    "ExecuteTime": {
     "end_time": "2025-03-07T17:29:00.650710Z",
     "start_time": "2025-03-07T17:29:00.645977Z"
    }
   },
   "cell_type": "code",
   "source": [
    "I2 = sp.eye(2)\n",
    "sigma_tensor_p = p_field * I2 + sigma_tilde\n",
    "display(sigma_tensor_p)"
   ],
   "id": "e382f0fa10853d99",
   "outputs": [
    {
     "data": {
      "text/plain": [
       "Matrix([\n",
       "[p(x, y, t) + sigmatilde_11(x, y, t),              sigmatilde_12(x, y, t)],\n",
       "[             sigmatilde_21(x, y, t), p(x, y, t) - sigmatilde_11(x, y, t)]])"
      ],
      "text/latex": "$\\displaystyle \\left[\\begin{matrix}p{\\left(x,y,t \\right)} + \\tilde{\\sigma}_{11}{\\left(x,y,t \\right)} & \\tilde{\\sigma}_{12}{\\left(x,y,t \\right)}\\\\\\tilde{\\sigma}_{21}{\\left(x,y,t \\right)} & p{\\left(x,y,t \\right)} - \\tilde{\\sigma}_{11}{\\left(x,y,t \\right)}\\end{matrix}\\right]$"
     },
     "metadata": {},
     "output_type": "display_data"
    }
   ],
   "execution_count": 181
  },
  {
   "metadata": {
    "ExecuteTime": {
     "end_time": "2025-03-07T17:29:00.695700Z",
     "start_time": "2025-03-07T17:29:00.688639Z"
    }
   },
   "cell_type": "code",
   "source": [
    "# Recompute p from the full stress tensor:\n",
    "p_from_sigma = sp.Rational(1, 2) * sigma_tensor_p.trace()\n",
    "assert sp.simplify(p_from_sigma - p_field) == 0, \"Pressure mismatch!\"\n",
    "\n",
    "# Now, compute sigma - p*I2:\n",
    "sigma_decomp = sp.simplify(sigma_tensor_p - p_from_sigma * I2)\n",
    "assert sp.simplify(sigma_decomp - sigma_tilde) == sp.zeros(2), \"Decomposition does not hold!\""
   ],
   "id": "e2aaa92861653572",
   "outputs": [],
   "execution_count": 182
  },
  {
   "metadata": {},
   "cell_type": "markdown",
   "source": "Now we can substitute component wise into the `momentum_eq`",
   "id": "36b0dbe821b18dc"
  },
  {
   "metadata": {
    "ExecuteTime": {
     "end_time": "2025-03-07T17:29:00.736751Z",
     "start_time": "2025-03-07T17:29:00.731493Z"
    }
   },
   "cell_type": "code",
   "source": [
    "momentum_eq_tilde = momentum_eq.subs({\n",
    "    sigma11: sigma_tensor_p[0,0],\n",
    "    sigma12: sigma_tensor_p[0,1],\n",
    "    sigma21: sigma_tensor_p[1,0],\n",
    "    sigma22: sigma_tensor_p[1,1]\n",
    "})\n",
    "display(momentum_eq_tilde)"
   ],
   "id": "91098fba2214094",
   "outputs": [
    {
     "data": {
      "text/plain": [
       "Eq(Matrix([\n",
       "[M11(x, y, t)*v1(x, y, t) + M12(x, y, t)*v2(x, y, t) + f1(x, y, t) + Derivative(p(x, y, t) + sigmatilde_11(x, y, t), x) + Derivative(sigmatilde_12(x, y, t), y)],\n",
       "[M21(x, y, t)*v1(x, y, t) + M22(x, y, t)*v2(x, y, t) + f2(x, y, t) + Derivative(p(x, y, t) - sigmatilde_11(x, y, t), y) + Derivative(sigmatilde_21(x, y, t), x)]]), Matrix([\n",
       "[0],\n",
       "[0]]))"
      ],
      "text/latex": "$\\displaystyle \\left[\\begin{matrix}M_{11}{\\left(x,y,t \\right)} v_{1}{\\left(x,y,t \\right)} + M_{12}{\\left(x,y,t \\right)} v_{2}{\\left(x,y,t \\right)} + f_{1}{\\left(x,y,t \\right)} + \\frac{\\partial}{\\partial x} \\left(p{\\left(x,y,t \\right)} + \\tilde{\\sigma}_{11}{\\left(x,y,t \\right)}\\right) + \\frac{\\partial}{\\partial y} \\tilde{\\sigma}_{12}{\\left(x,y,t \\right)}\\\\M_{21}{\\left(x,y,t \\right)} v_{1}{\\left(x,y,t \\right)} + M_{22}{\\left(x,y,t \\right)} v_{2}{\\left(x,y,t \\right)} + f_{2}{\\left(x,y,t \\right)} + \\frac{\\partial}{\\partial y} \\left(p{\\left(x,y,t \\right)} - \\tilde{\\sigma}_{11}{\\left(x,y,t \\right)}\\right) + \\frac{\\partial}{\\partial x} \\tilde{\\sigma}_{21}{\\left(x,y,t \\right)}\\end{matrix}\\right] = \\left[\\begin{matrix}0\\\\0\\end{matrix}\\right]$"
     },
     "metadata": {},
     "output_type": "display_data"
    }
   ],
   "execution_count": 183
  },
  {
   "metadata": {},
   "cell_type": "markdown",
   "source": "----",
   "id": "4d4a4a937a09a92e"
  },
  {
   "metadata": {},
   "cell_type": "markdown",
   "source": [
    "### 4 Simplify stress tensor to 'pure dissipative stress'\n",
    "\n",
    "We now need to show that,\n",
    "$$\\tilde{\\sigma}_{ij}=\\sigma_{ij}^{\\text{D}}=-\\nu_{ijkl}\\nabla_l\\,v_k\\tag{2}$$\n",
    "\n",
    "`NOTE`: assuming the $\\text{D}$ subscript means \" dissipative stress - *search for some concrete definition* \"\n",
    "\n",
    "`NOTE`: assumed that the expression $\\nu_{ijkl}$ is \" some rank-4 tensor \""
   ],
   "id": "e57f2c4d66e4d739"
  },
  {
   "metadata": {},
   "cell_type": "markdown",
   "source": [
    "In the Appendix of `Reference 80`: \"Pleiner H and Brand H R 1996 Hydrodynamics and electrohydrodynamics of liquid crystals Pattern Formation in Liquid Crystals ed A Buka and L Kramer (Springer)\n",
    "p 15–67\" I found,\n",
    "\n",
    "![img](Figures/Ref80.png)"
   ],
   "id": "58baae430335f171"
  },
  {
   "metadata": {},
   "cell_type": "markdown",
   "source": [
    "Which is equation $(3)$, simplified by equation $(4)$. Why do we have 5 viscosity components?\n",
    "\n",
    "- \"The paper by Pleiner and Brand demonstrates that 5 are sufficient\".\n",
    "- 5 distinct viscosities defines an anisotropic fluid medium.\n",
    "- We examine scenario of the director being consistently and uniformly orientated along a single global axis."
   ],
   "id": "677771d06e438807"
  },
  {
   "metadata": {},
   "cell_type": "markdown",
   "source": "### 4b Derivation",
   "id": "d43e57e2e544d21f"
  },
  {
   "metadata": {},
   "cell_type": "markdown",
   "source": [
    "We build $\\nu_{ijkl}$ as a linear combination of all distinct tensor contractions allowed by the uniaxial symmetry around some director $\\mathbf{n}=\\begin{pmatrix}n_x & n_y\\end{pmatrix}^T$\n",
    "\n",
    "`Note`: we probably need to normalise as a unit vector"
   ],
   "id": "c7157ad76e90a616"
  },
  {
   "metadata": {
    "ExecuteTime": {
     "end_time": "2025-03-07T17:29:00.806229Z",
     "start_time": "2025-03-07T17:29:00.803869Z"
    }
   },
   "cell_type": "code",
   "source": [
    "n_x, n_y = sp.symbols('n_x n_y', real=True)\n",
    "# Optionally enforce n_x^2 + n_y^2 = 1:\n",
    "# constraints = [sp.Eq(n_x**2 + n_y**2, 1)]\n",
    "n = (n_x, n_y)"
   ],
   "id": "6a879d52aa2537ac",
   "outputs": [],
   "execution_count": 184
  },
  {
   "metadata": {},
   "cell_type": "markdown",
   "source": "Define multiple viscosity coefficients",
   "id": "b2044e2b8572be1e"
  },
  {
   "metadata": {
    "ExecuteTime": {
     "end_time": "2025-03-07T17:29:00.839284Z",
     "start_time": "2025-03-07T17:29:00.837601Z"
    }
   },
   "cell_type": "code",
   "source": [
    "# Five viscosity parameters\n",
    "nu1, nu2, nu3, nu4, nu5 = sp.symbols('nu1 nu2 nu3 nu4 nu5', real=True)"
   ],
   "id": "1f34e7e26367fc15",
   "outputs": [],
   "execution_count": 185
  },
  {
   "metadata": {},
   "cell_type": "markdown",
   "source": [
    "### Einstein summation in the tensor construction\n",
    "\n",
    "We have a tensor expression of the form,\n",
    "\n",
    "$$\n",
    "\\nu_{ijkl} = \\nu_2,\\Bigl(\\delta_{ik},\\delta_{jl} + \\delta_{il},\\delta_{jk}\\Bigr) + \\bigl[\\dots\\bigr],\\delta_{ik},n_k,n_l + \\dots\n",
    "$$\n",
    "\n",
    "In this expression, the term $\\delta_{ik}\\,n_k$ has a repeated index $k$. By the Einstein summation convention, a repeated index implies a sum over that index. That is,\n",
    "\n",
    "$$\n",
    "\\delta_{ik},n_k = \\sum_{k=0}^{1} \\delta_{ik},n_k = n_i ,.\n",
    "$$\n",
    "\n",
    "Thus, whenever we see $\\delta_{ik}\\,n_k$, it simplifies to $n_i$, meaning it selects the $i$th component of the vector $\\mathbf{n}$"
   ],
   "id": "1c1731b9be7bb019"
  },
  {
   "metadata": {
    "ExecuteTime": {
     "end_time": "2025-03-07T17:29:01.014119Z",
     "start_time": "2025-03-07T17:29:00.842309Z"
    }
   },
   "cell_type": "code",
   "source": [
    "nu_tensor = {}\n",
    "for i in range(2):\n",
    "    for j in range(2):\n",
    "        for k in range(2):\n",
    "            for l in range(2):\n",
    "                val = 0\n",
    "\n",
    "                # 1) Isotropic-like part:\n",
    "                #    nu2 * (delta_{ik} delta_{jl} + delta_{il} delta_{jk})\n",
    "                val += nu2 * (\n",
    "                    sp.KroneckerDelta(i, k) * sp.KroneckerDelta(j, l) +\n",
    "                    sp.KroneckerDelta(i, l) * sp.KroneckerDelta(j, k)\n",
    "                )\n",
    "\n",
    "                # 2) The n_i n_j n_k n_l part:\n",
    "                #    2*(nu1 + nu2 - 2*nu3)* n[i]*n[j]*n[k]*n[l]\n",
    "                val += 2 * (nu1 + nu2 - 2*nu3) * n[i] * n[j] * n[k] * n[l]\n",
    "\n",
    "                # 3) (nu3 - nu2)*(...) with 4 terms:\n",
    "                #    n_i n_k delta_{jl} + n_j n_l delta_{ik}\n",
    "                #    + n_i n_l delta_{jk} + n_j n_k delta_{il}\n",
    "                val += (nu3 - nu2) * (\n",
    "                    n[i] * n[k] * sp.KroneckerDelta(j, l) +\n",
    "                    n[j] * n[l] * sp.KroneckerDelta(i, k) +\n",
    "                    n[i] * n[l] * sp.KroneckerDelta(j, k) +\n",
    "                    n[j] * n[k] * sp.KroneckerDelta(i, l)\n",
    "                )\n",
    "\n",
    "                # 4) (nu4 - nu2)* ( delta_{ij} n_k n_l + delta_{kl} n_i n_j )\n",
    "                val += (nu4 - nu2) * (\n",
    "                    sp.KroneckerDelta(i, j) * n[k] * n[l] +\n",
    "                    sp.KroneckerDelta(k, l) * n[i] * n[j]\n",
    "                )\n",
    "\n",
    "                # 5) (nu5 - nu4 + nu2)* ( delta_{ik} n_j n_l + delta_{jl} n_i n_k )\n",
    "                val += (nu5 - nu4 + nu2) * (\n",
    "                    sp.KroneckerDelta(i, k) * n[j] * n[l] +\n",
    "                    sp.KroneckerDelta(j, l) * n[i] * n[k]\n",
    "                )\n",
    "\n",
    "                nu_tensor[(i, j, k, l)] = sp.simplify(val)"
   ],
   "id": "5cf785f787aaae4c",
   "outputs": [],
   "execution_count": 186
  },
  {
   "metadata": {
    "ExecuteTime": {
     "end_time": "2025-03-07T17:29:01.046750Z",
     "start_time": "2025-03-07T17:29:01.042883Z"
    }
   },
   "cell_type": "code",
   "source": [
    "dv = sp.zeros(2,2)\n",
    "# Indices: j=0 -> derivative w.r.t x, j=1 -> derivative w.r.t y\n",
    "#          k=0 -> v1, k=1 -> v2\n",
    "dv[0,0] = v1.diff(x)  # dee(v1)/dee x\n",
    "dv[0,1] = v2.diff(x)  # dee(v2)/dee x\n",
    "dv[1,0] = v1.diff(y)  # dee(v1)/dee y\n",
    "dv[1,1] = v2.diff(y)  # dee(v2)/dee y\n",
    "\n",
    "print(\"Velocity gradients dv\")\n",
    "display(dv)"
   ],
   "id": "be95191868204dff",
   "outputs": [
    {
     "name": "stdout",
     "output_type": "stream",
     "text": [
      "Velocity gradients dv\n"
     ]
    },
    {
     "data": {
      "text/plain": [
       "Matrix([\n",
       "[Derivative(v1(x, y, t), x), Derivative(v2(x, y, t), x)],\n",
       "[Derivative(v1(x, y, t), y), Derivative(v2(x, y, t), y)]])"
      ],
      "text/latex": "$\\displaystyle \\left[\\begin{matrix}\\frac{\\partial}{\\partial x} v_{1}{\\left(x,y,t \\right)} & \\frac{\\partial}{\\partial x} v_{2}{\\left(x,y,t \\right)}\\\\\\frac{\\partial}{\\partial y} v_{1}{\\left(x,y,t \\right)} & \\frac{\\partial}{\\partial y} v_{2}{\\left(x,y,t \\right)}\\end{matrix}\\right]$"
     },
     "metadata": {},
     "output_type": "display_data"
    }
   ],
   "execution_count": 187
  },
  {
   "metadata": {},
   "cell_type": "markdown",
   "source": "----",
   "id": "cdce2c84e590b53f"
  },
  {
   "metadata": {},
   "cell_type": "markdown",
   "source": "### 5 Simplification by continuity equation",
   "id": "671a489c87b41f50"
  },
  {
   "metadata": {},
   "cell_type": "markdown",
   "source": [
    "We incorporate the common assumption made in similar analyses of fluid flows, namely, local volume conservation and constant density of the fluid. As a result, the continuity equation simplifies to\n",
    "$$\\nabla\\cdot\\mathbf{v}=0\\tag{5}$$\n",
    "\n",
    "Under the given circumstances, the director $\\widehat{\\mathbf{n}}$ introduces uniaxial anisotropy to the viscosity tensor. Without loss of generality, we choose\n",
    "$$\\widehat{\\mathbf{n}}\\,\\|\\,\\widehat{\\mathbf{x}}\\implies\\widehat{\\mathbf{n}}=(1, 0)$$\n",
    "\n",
    "**Effect on the Viscosity Tensor**\n",
    "\n",
    "In our uniaxial tensor $\\nu_{ijkl}$, any factor like `n[i]` or `n[j]` becomes zero unless $i=0$ (the “x” index). Concretely;\n",
    "\n",
    "- `n[0]` = 1\n",
    "- `n[1]` = 0\n",
    "\n",
    "So any product `n[i]*n[j]*...` will vanish unless $i=j=0$. Concretely:\n",
    "- `n[i]*n[j]` = $1$ only if $i=j=0$; otherwise $0$.\n",
    "- `n[i]*n[j]*n[k]*n[l]` is 1 only if $i=j=k=l=0$; else $0$.\n",
    "\n",
    "**Incompressibility**\n",
    "\n",
    "Using the original notation we set (which will be amended later) by equation $(5)$ we have,\n",
    "$$v_1\\equiv v_x, \\quad  v_2\\equiv v_y$$\n",
    "Therefore\n",
    "$$\\frac{\\partial v_1}{\\partial x}=-\\frac{\\partial v_2}{\\partial y}$$"
   ],
   "id": "e8a82bed44118895"
  },
  {
   "metadata": {},
   "cell_type": "markdown",
   "source": [
    "Once we have $\\nu_{ijkl}$, the dissipative (deviatoric) stress is given by\n",
    "$$\\sigma^{\\text{D}}_{i j} = -\\sum_{k=0}^1\\sum_{\\ell=0}^1\\nu_{i j k \\ell}\\,\\nabla_j v_k$$"
   ],
   "id": "12392d48a3e4f95c"
  },
  {
   "metadata": {
    "ExecuteTime": {
     "end_time": "2025-03-07T17:29:01.133151Z",
     "start_time": "2025-03-07T17:29:01.073535Z"
    }
   },
   "cell_type": "code",
   "source": [
    "# dv is a 2x2 matrix: dv[j,k] = dee(v_k)/dee(x_j)\n",
    "sigmaD = sp.zeros(2, 2)\n",
    "for i in range(2):\n",
    "    for j in range(2):\n",
    "        expr = 0\n",
    "        for k in range(2):\n",
    "            for l in range(2):\n",
    "                expr += -nu_tensor[(i, j, k, l)] * dv[l, k]\n",
    "        # Apply substitutions:\n",
    "        #   - Set the director components: n_x = 1 and n_y = 0\n",
    "        #   - Use the incompressibility condition: dv[0,0] = -dv[1,1]\n",
    "        sigmaD[i, j] = sp.simplify(expr.subs({ n_x: 1, n_y: 0, dv[0,0]: -dv[1,1] }))\n",
    "\n",
    "# Simplify the entire matrix, take negative\n",
    "sigmaD = sp.simplify(sigmaD)\n",
    "\n",
    "print(\"Dissipative Stress Tensor Components:\")\n",
    "display(sigmaD)"
   ],
   "id": "9d4af2b0dca079e9",
   "outputs": [
    {
     "name": "stdout",
     "output_type": "stream",
     "text": [
      "Dissipative Stress Tensor Components:\n"
     ]
    },
    {
     "data": {
      "text/plain": [
       "Matrix([\n",
       "[                              (2*nu1 + nu2 - nu4 + 2*nu5)*Derivative(v2(x, y, t), y), -nu3*Derivative(v2(x, y, t), x) - (nu2 + nu3 - nu4 + nu5)*Derivative(v1(x, y, t), y)],\n",
       "[-nu3*Derivative(v1(x, y, t), y) - (nu2 + nu3 - nu4 + nu5)*Derivative(v2(x, y, t), x),                                            (-3*nu2 + nu4)*Derivative(v2(x, y, t), y)]])"
      ],
      "text/latex": "$\\displaystyle \\left[\\begin{matrix}\\left(2 \\nu_{1} + \\nu_{2} - \\nu_{4} + 2 \\nu_{5}\\right) \\frac{\\partial}{\\partial y} v_{2}{\\left(x,y,t \\right)} & - \\nu_{3} \\frac{\\partial}{\\partial x} v_{2}{\\left(x,y,t \\right)} - \\left(\\nu_{2} + \\nu_{3} - \\nu_{4} + \\nu_{5}\\right) \\frac{\\partial}{\\partial y} v_{1}{\\left(x,y,t \\right)}\\\\- \\nu_{3} \\frac{\\partial}{\\partial y} v_{1}{\\left(x,y,t \\right)} - \\left(\\nu_{2} + \\nu_{3} - \\nu_{4} + \\nu_{5}\\right) \\frac{\\partial}{\\partial x} v_{2}{\\left(x,y,t \\right)} & \\left(- 3 \\nu_{2} + \\nu_{4}\\right) \\frac{\\partial}{\\partial y} v_{2}{\\left(x,y,t \\right)}\\end{matrix}\\right]$"
     },
     "metadata": {},
     "output_type": "display_data"
    }
   ],
   "execution_count": 188
  },
  {
   "metadata": {},
   "cell_type": "markdown",
   "source": "----",
   "id": "1efbfd6ab485117c"
  },
  {
   "metadata": {},
   "cell_type": "markdown",
   "source": "### 6 Forming a diagonal form of the friction tensor",
   "id": "e9bc3cbedb897b7d"
  },
  {
   "metadata": {},
   "cell_type": "markdown",
   "source": [
    "In the subsequent discussion, we examine the scenario of one of the principal axes of the friction tensor aligning with the nematic director. Thus, the friction tensor in our representation adopts a diagonal form,\n",
    "$$\n",
    "\\mathbf{M}_{\\text{diagonal}}=\\begin{pmatrix}\n",
    "m_{\\parallel}^2 & 0 \\\\\n",
    "0 & m_{\\perp}^2\n",
    "\\end{pmatrix}\\tag{7}\n",
    "$$"
   ],
   "id": "174bc69577f4050d"
  },
  {
   "metadata": {
    "ExecuteTime": {
     "end_time": "2025-03-07T17:29:01.164376Z",
     "start_time": "2025-03-07T17:29:01.161958Z"
    }
   },
   "cell_type": "code",
   "source": [
    "m_parallel, m_perp = sp.symbols('m_∥ m_⊥', real=True, positive=True)\n",
    "M_diag = sp.Matrix([[m_parallel**2, 0],\n",
    "               [0, m_perp**2]])\n",
    "display(M_diag)"
   ],
   "id": "e035bfdcceaf1324",
   "outputs": [
    {
     "data": {
      "text/plain": [
       "Matrix([\n",
       "[m_∥**2,      0],\n",
       "[     0, m_⊥**2]])"
      ],
      "text/latex": "$\\displaystyle \\left[\\begin{matrix}m_{∥}^{2} & 0\\\\0 & m_{⊥}^{2}\\end{matrix}\\right]$"
     },
     "metadata": {},
     "output_type": "display_data"
    }
   ],
   "execution_count": 189
  },
  {
   "metadata": {},
   "cell_type": "markdown",
   "source": "----",
   "id": "bd3c09cde3530906"
  },
  {
   "metadata": {},
   "cell_type": "markdown",
   "source": "### 7 Performing substitutions",
   "id": "8ca246b2a74c8773"
  },
  {
   "metadata": {},
   "cell_type": "markdown",
   "source": [
    "We now substitute `sigmaD` and `M_diag` component wise into equation $(1)$ as previously augmented by\n",
    "$$\\tilde{\\sigma}_{ij} = \\sigma_{ij} - p\\,\\delta_{ij}, \\quad \\text{with } p = \\frac{1}{2}\\mathrm{tr}(\\sigma)$$"
   ],
   "id": "878376e4b7b9aa17"
  },
  {
   "metadata": {
    "ExecuteTime": {
     "end_time": "2025-03-07T17:29:01.196922Z",
     "start_time": "2025-03-07T17:29:01.191126Z"
    }
   },
   "cell_type": "code",
   "source": "display(momentum_eq_tilde)",
   "id": "b6c38288dedb6fbf",
   "outputs": [
    {
     "data": {
      "text/plain": [
       "Eq(Matrix([\n",
       "[M11(x, y, t)*v1(x, y, t) + M12(x, y, t)*v2(x, y, t) + f1(x, y, t) + Derivative(p(x, y, t) + sigmatilde_11(x, y, t), x) + Derivative(sigmatilde_12(x, y, t), y)],\n",
       "[M21(x, y, t)*v1(x, y, t) + M22(x, y, t)*v2(x, y, t) + f2(x, y, t) + Derivative(p(x, y, t) - sigmatilde_11(x, y, t), y) + Derivative(sigmatilde_21(x, y, t), x)]]), Matrix([\n",
       "[0],\n",
       "[0]]))"
      ],
      "text/latex": "$\\displaystyle \\left[\\begin{matrix}M_{11}{\\left(x,y,t \\right)} v_{1}{\\left(x,y,t \\right)} + M_{12}{\\left(x,y,t \\right)} v_{2}{\\left(x,y,t \\right)} + f_{1}{\\left(x,y,t \\right)} + \\frac{\\partial}{\\partial x} \\left(p{\\left(x,y,t \\right)} + \\tilde{\\sigma}_{11}{\\left(x,y,t \\right)}\\right) + \\frac{\\partial}{\\partial y} \\tilde{\\sigma}_{12}{\\left(x,y,t \\right)}\\\\M_{21}{\\left(x,y,t \\right)} v_{1}{\\left(x,y,t \\right)} + M_{22}{\\left(x,y,t \\right)} v_{2}{\\left(x,y,t \\right)} + f_{2}{\\left(x,y,t \\right)} + \\frac{\\partial}{\\partial y} \\left(p{\\left(x,y,t \\right)} - \\tilde{\\sigma}_{11}{\\left(x,y,t \\right)}\\right) + \\frac{\\partial}{\\partial x} \\tilde{\\sigma}_{21}{\\left(x,y,t \\right)}\\end{matrix}\\right] = \\left[\\begin{matrix}0\\\\0\\end{matrix}\\right]$"
     },
     "metadata": {},
     "output_type": "display_data"
    }
   ],
   "execution_count": 190
  },
  {
   "metadata": {},
   "cell_type": "markdown",
   "source": "Build a dictionary that pairs each symbolic placeholder with the final expression and call `.subs()`",
   "id": "519784238a5ff532"
  },
  {
   "metadata": {
    "ExecuteTime": {
     "end_time": "2025-03-07T17:29:01.316278Z",
     "start_time": "2025-03-07T17:29:01.228948Z"
    }
   },
   "cell_type": "code",
   "source": [
    "subs_dict = {\n",
    "    sigmatilde_11: sigmaD[0,0],\n",
    "    sigmatilde_12: sigmaD[0,1],\n",
    "    sigmatilde_21: sigmaD[1,0],\n",
    "    M11: M_diag[0,0],\n",
    "    M12: M_diag[0,1],\n",
    "    M21: M_diag[1,0],\n",
    "    M22: M_diag[1,1]\n",
    "}\n",
    "\n",
    "momentum_eq_sub = sp.simplify(momentum_eq_tilde.subs(subs_dict))\n",
    "display(momentum_eq_sub)"
   ],
   "id": "98a9b9b8c58c6da6",
   "outputs": [
    {
     "data": {
      "text/plain": [
       "Eq(Matrix([\n",
       "[0],\n",
       "[0]]), Matrix([\n",
       "[  m_∥**2*v1(x, y, t) - nu3*Derivative(v2(x, y, t), x, y) + (2*nu1 + nu2 - nu4 + 2*nu5)*Derivative(v2(x, y, t), x, y) - (nu2 + nu3 - nu4 + nu5)*Derivative(v1(x, y, t), (y, 2)) + f1(x, y, t) + Derivative(p(x, y, t), x)],\n",
       "[m_⊥**2*v2(x, y, t) - nu3*Derivative(v1(x, y, t), x, y) - (2*nu1 + nu2 - nu4 + 2*nu5)*Derivative(v2(x, y, t), (y, 2)) - (nu2 + nu3 - nu4 + nu5)*Derivative(v2(x, y, t), (x, 2)) + f2(x, y, t) + Derivative(p(x, y, t), y)]]))"
      ],
      "text/latex": "$\\displaystyle \\left[\\begin{matrix}0\\\\0\\end{matrix}\\right] = \\left[\\begin{matrix}m_{∥}^{2} v_{1}{\\left(x,y,t \\right)} - \\nu_{3} \\frac{\\partial^{2}}{\\partial y\\partial x} v_{2}{\\left(x,y,t \\right)} + \\left(2 \\nu_{1} + \\nu_{2} - \\nu_{4} + 2 \\nu_{5}\\right) \\frac{\\partial^{2}}{\\partial y\\partial x} v_{2}{\\left(x,y,t \\right)} - \\left(\\nu_{2} + \\nu_{3} - \\nu_{4} + \\nu_{5}\\right) \\frac{\\partial^{2}}{\\partial y^{2}} v_{1}{\\left(x,y,t \\right)} + f_{1}{\\left(x,y,t \\right)} + \\frac{\\partial}{\\partial x} p{\\left(x,y,t \\right)}\\\\m_{⊥}^{2} v_{2}{\\left(x,y,t \\right)} - \\nu_{3} \\frac{\\partial^{2}}{\\partial y\\partial x} v_{1}{\\left(x,y,t \\right)} - \\left(2 \\nu_{1} + \\nu_{2} - \\nu_{4} + 2 \\nu_{5}\\right) \\frac{\\partial^{2}}{\\partial y^{2}} v_{2}{\\left(x,y,t \\right)} - \\left(\\nu_{2} + \\nu_{3} - \\nu_{4} + \\nu_{5}\\right) \\frac{\\partial^{2}}{\\partial x^{2}} v_{2}{\\left(x,y,t \\right)} + f_{2}{\\left(x,y,t \\right)} + \\frac{\\partial}{\\partial y} p{\\left(x,y,t \\right)}\\end{matrix}\\right]$"
     },
     "metadata": {},
     "output_type": "display_data"
    }
   ],
   "execution_count": 191
  },
  {
   "metadata": {},
   "cell_type": "markdown",
   "source": "-----",
   "id": "33a431249eaff8f6"
  },
  {
   "metadata": {},
   "cell_type": "markdown",
   "source": "### 8 Clearing the mixed partials",
   "id": "6503ce7c9b66010d"
  },
  {
   "metadata": {},
   "cell_type": "markdown",
   "source": [
    "We have second-order straight and mixed partials here. By the paper, we now subtract\n",
    "$$(\\nu_3 + \\nu_5)\\nabla(\\nabla\\cdot\\mathbf{v})=0$$\n",
    "Perhaps this is a nice handwaving step as this term is $0$ in incompressible flow. It should rearrange second derivatives to remove cross derivatives.\n",
    "\n",
    "We must enfore $\\nabla\\cdot\\mathbf{v}=0$ and $\\nabla(\\nabla\\cdot\\mathbf{v})=0$ in SymPy to actually clear these terms."
   ],
   "id": "363f317870b9981c"
  },
  {
   "metadata": {},
   "cell_type": "markdown",
   "source": "**First idea - Without expansion as hard to recollect the terms**",
   "id": "d11ee18a56068735"
  },
  {
   "metadata": {
    "ExecuteTime": {
     "end_time": "2025-03-07T17:29:03.059749Z",
     "start_time": "2025-03-07T17:29:03.055140Z"
    }
   },
   "cell_type": "code",
   "source": [
    "# Define the divergence of v\n",
    "div_v = sp.diff(v1, x) + sp.diff(v2, y)\n",
    "\n",
    "# Define the gradient of the divergence\n",
    "grad_div_v = sp.Matrix([sp.diff(div_v, x), sp.diff(div_v, y)])\n",
    "\n",
    "# Define the operator to subtract, multiplied by (nu3+nu5)\n",
    "operator_to_subtract = (nu3 + nu5)*grad_div_v"
   ],
   "id": "22b6432b6076a3e1",
   "outputs": [],
   "execution_count": 192
  },
  {
   "metadata": {
    "ExecuteTime": {
     "end_time": "2025-03-07T17:30:17.408092Z",
     "start_time": "2025-03-07T17:30:17.288565Z"
    }
   },
   "cell_type": "code",
   "source": [
    "# Now, if your momentum equation is stored in 'momentum_eq_simpl',\n",
    "# you can subtract this operator (component-wise) from it.\n",
    "# For example, if the left-hand side of momentum_eq_simpl is LHS, then:\n",
    "new_RHS = sp.simplify(momentum_eq_sub.rhs - operator_to_subtract)\n",
    "final_eq  = sp.Eq(momentum_eq_sub.lhs, new_RHS)\n",
    "display(sp.simplify(final_eq))"
   ],
   "id": "c72adf1bdee3f068",
   "outputs": [
    {
     "data": {
      "text/plain": [
       "Eq(Matrix([\n",
       "[0],\n",
       "[0]]), Matrix([\n",
       "[  m_∥**2*v1(x, y, t) - nu3*Derivative(v2(x, y, t), x, y) - (nu3 + nu5)*(Derivative(v1(x, y, t), (x, 2)) + Derivative(v2(x, y, t), x, y)) + (2*nu1 + nu2 - nu4 + 2*nu5)*Derivative(v2(x, y, t), x, y) - (nu2 + nu3 - nu4 + nu5)*Derivative(v1(x, y, t), (y, 2)) + f1(x, y, t) + Derivative(p(x, y, t), x)],\n",
       "[m_⊥**2*v2(x, y, t) - nu3*Derivative(v1(x, y, t), x, y) - (nu3 + nu5)*(Derivative(v2(x, y, t), (y, 2)) + Derivative(v1(x, y, t), x, y)) - (2*nu1 + nu2 - nu4 + 2*nu5)*Derivative(v2(x, y, t), (y, 2)) - (nu2 + nu3 - nu4 + nu5)*Derivative(v2(x, y, t), (x, 2)) + f2(x, y, t) + Derivative(p(x, y, t), y)]]))"
      ],
      "text/latex": "$\\displaystyle \\left[\\begin{matrix}0\\\\0\\end{matrix}\\right] = \\left[\\begin{matrix}m_{∥}^{2} v_{1}{\\left(x,y,t \\right)} - \\nu_{3} \\frac{\\partial^{2}}{\\partial y\\partial x} v_{2}{\\left(x,y,t \\right)} - \\left(\\nu_{3} + \\nu_{5}\\right) \\left(\\frac{\\partial^{2}}{\\partial x^{2}} v_{1}{\\left(x,y,t \\right)} + \\frac{\\partial^{2}}{\\partial y\\partial x} v_{2}{\\left(x,y,t \\right)}\\right) + \\left(2 \\nu_{1} + \\nu_{2} - \\nu_{4} + 2 \\nu_{5}\\right) \\frac{\\partial^{2}}{\\partial y\\partial x} v_{2}{\\left(x,y,t \\right)} - \\left(\\nu_{2} + \\nu_{3} - \\nu_{4} + \\nu_{5}\\right) \\frac{\\partial^{2}}{\\partial y^{2}} v_{1}{\\left(x,y,t \\right)} + f_{1}{\\left(x,y,t \\right)} + \\frac{\\partial}{\\partial x} p{\\left(x,y,t \\right)}\\\\m_{⊥}^{2} v_{2}{\\left(x,y,t \\right)} - \\nu_{3} \\frac{\\partial^{2}}{\\partial y\\partial x} v_{1}{\\left(x,y,t \\right)} - \\left(\\nu_{3} + \\nu_{5}\\right) \\left(\\frac{\\partial^{2}}{\\partial y^{2}} v_{2}{\\left(x,y,t \\right)} + \\frac{\\partial^{2}}{\\partial y\\partial x} v_{1}{\\left(x,y,t \\right)}\\right) - \\left(2 \\nu_{1} + \\nu_{2} - \\nu_{4} + 2 \\nu_{5}\\right) \\frac{\\partial^{2}}{\\partial y^{2}} v_{2}{\\left(x,y,t \\right)} - \\left(\\nu_{2} + \\nu_{3} - \\nu_{4} + \\nu_{5}\\right) \\frac{\\partial^{2}}{\\partial x^{2}} v_{2}{\\left(x,y,t \\right)} + f_{2}{\\left(x,y,t \\right)} + \\frac{\\partial}{\\partial y} p{\\left(x,y,t \\right)}\\end{matrix}\\right]$"
     },
     "metadata": {},
     "output_type": "display_data"
    }
   ],
   "execution_count": 194
  },
  {
   "metadata": {},
   "cell_type": "markdown",
   "source": "Not below but right track...",
   "id": "14e1c3ce2e7fdbba"
  },
  {
   "metadata": {
    "ExecuteTime": {
     "end_time": "2025-03-07T17:45:51.987128Z",
     "start_time": "2025-03-07T17:45:51.923019Z"
    }
   },
   "cell_type": "code",
   "source": [
    "# 2) Then explicitly set div_v = 0, and diff(div_v, x)=0, diff(div_v, y)=0:\n",
    "new_eq_incomp = final_eq.subs({\n",
    "    div_v: 0,\n",
    "    sp.diff(div_v, x): 0,\n",
    "    sp.diff(div_v, y): 0\n",
    "})\n",
    "\n",
    "# 3) Simplify\n",
    "final_expr = sp.simplify(new_eq_incomp)\n",
    "display(final_expr)"
   ],
   "id": "74b05adfcce650d8",
   "outputs": [
    {
     "data": {
      "text/plain": [
       "Eq(Matrix([\n",
       "[0],\n",
       "[0]]), Matrix([\n",
       "[  m_∥**2*v1(x, y, t) - nu3*Derivative(v2(x, y, t), x, y) + (2*nu1 + nu2 - nu4 + 2*nu5)*Derivative(v2(x, y, t), x, y) - (nu2 + nu3 - nu4 + nu5)*Derivative(v1(x, y, t), (y, 2)) + f1(x, y, t) + Derivative(p(x, y, t), x)],\n",
       "[m_⊥**2*v2(x, y, t) - nu3*Derivative(v1(x, y, t), x, y) - (2*nu1 + nu2 - nu4 + 2*nu5)*Derivative(v2(x, y, t), (y, 2)) - (nu2 + nu3 - nu4 + nu5)*Derivative(v2(x, y, t), (x, 2)) + f2(x, y, t) + Derivative(p(x, y, t), y)]]))"
      ],
      "text/latex": "$\\displaystyle \\left[\\begin{matrix}0\\\\0\\end{matrix}\\right] = \\left[\\begin{matrix}m_{∥}^{2} v_{1}{\\left(x,y,t \\right)} - \\nu_{3} \\frac{\\partial^{2}}{\\partial y\\partial x} v_{2}{\\left(x,y,t \\right)} + \\left(2 \\nu_{1} + \\nu_{2} - \\nu_{4} + 2 \\nu_{5}\\right) \\frac{\\partial^{2}}{\\partial y\\partial x} v_{2}{\\left(x,y,t \\right)} - \\left(\\nu_{2} + \\nu_{3} - \\nu_{4} + \\nu_{5}\\right) \\frac{\\partial^{2}}{\\partial y^{2}} v_{1}{\\left(x,y,t \\right)} + f_{1}{\\left(x,y,t \\right)} + \\frac{\\partial}{\\partial x} p{\\left(x,y,t \\right)}\\\\m_{⊥}^{2} v_{2}{\\left(x,y,t \\right)} - \\nu_{3} \\frac{\\partial^{2}}{\\partial y\\partial x} v_{1}{\\left(x,y,t \\right)} - \\left(2 \\nu_{1} + \\nu_{2} - \\nu_{4} + 2 \\nu_{5}\\right) \\frac{\\partial^{2}}{\\partial y^{2}} v_{2}{\\left(x,y,t \\right)} - \\left(\\nu_{2} + \\nu_{3} - \\nu_{4} + \\nu_{5}\\right) \\frac{\\partial^{2}}{\\partial x^{2}} v_{2}{\\left(x,y,t \\right)} + f_{2}{\\left(x,y,t \\right)} + \\frac{\\partial}{\\partial y} p{\\left(x,y,t \\right)}\\end{matrix}\\right]$"
     },
     "metadata": {},
     "output_type": "display_data"
    }
   ],
   "execution_count": 195
  },
  {
   "metadata": {},
   "cell_type": "markdown",
   "source": "How do we get rid of the mixed partials. Clearly mistakes somewhere...",
   "id": "a50b1c9da046928e"
  }
 ],
 "metadata": {
  "kernelspec": {
   "display_name": "Python 3",
   "language": "python",
   "name": "python3"
  },
  "language_info": {
   "codemirror_mode": {
    "name": "ipython",
    "version": 2
   },
   "file_extension": ".py",
   "mimetype": "text/x-python",
   "name": "python",
   "nbconvert_exporter": "python",
   "pygments_lexer": "ipython2",
   "version": "2.7.6"
  }
 },
 "nbformat": 4,
 "nbformat_minor": 5
}
