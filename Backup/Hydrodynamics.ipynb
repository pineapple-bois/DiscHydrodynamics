{
 "cells": [
  {
   "metadata": {},
   "cell_type": "markdown",
   "source": "\\newpage",
   "id": "3772f2027718326b"
  },
  {
   "metadata": {},
   "cell_type": "markdown",
   "source": [
    "# Hydrodynamics of a disk\n",
    "in a thin film of weakly nematic fluid subject to linear friction, [Abdallah Daddi-Moussa-Ider et al](https://iopscience.iop.org/article/10.1088/1361-648X/ad65ad)"
   ],
   "id": "8832a7a958e5035b"
  },
  {
   "cell_type": "code",
   "id": "initial_id",
   "metadata": {
    "collapsed": true,
    "ExecuteTime": {
     "end_time": "2025-02-27T16:24:57.757576Z",
     "start_time": "2025-02-27T16:24:57.754655Z"
    }
   },
   "source": "import sympy as sp",
   "outputs": [],
   "execution_count": 34
  },
  {
   "metadata": {},
   "cell_type": "markdown",
   "source": "## Section 2",
   "id": "53dd6e5032f8569d"
  },
  {
   "metadata": {},
   "cell_type": "markdown",
   "source": [
    "\n",
    "For flows at low Reynolds numbers, viscous contributions dominate inertial ones. Under these conditions, the dynam- ics of the surrounding fluid are predominantly governed by the Stokes equation. We here study an extension of this equation to take into account possible friction with the surrounding.\n",
    "\n",
    "In reality, such friction may arise from a sub- strate and possibly by an additional cover slide confining a thin, basically two-dimensional fluid layer, or, possibly and to some approximation, from the friction with a surrounding fluid. Consequently, the flow equation can be generally expressed as\n",
    "\n",
    "We attempt to derive the following flow equation,\n",
    "$$\\nabla_j\\,\\sigma_{ij}(\\mathbf{r})+\\mathbf{M}_{ij}\\,v_j(\\mathbf{r})=f_i(\\mathbf{r})\\tag{1}$$"
   ],
   "id": "38eaa6cd260f82e9"
  },
  {
   "metadata": {},
   "cell_type": "markdown",
   "source": [
    "### Momentum conservation in a fluid\n",
    "\n",
    "For a fluid of density $\\rho$, the momentum balance is given by\n",
    "$$\\rho \\left(\\partial_t v_i + v_j\\,\\nabla_j v_i\\right) = \\nabla_j \\sigma_{ij} + f^{\\rm ext}_i$$\n",
    "\n",
    "where:\n",
    "\n",
    "- $v_i(\\mathbf{r})$  is the velocity field,\n",
    "- $\\sigma_{ij}$  is the stress tensor,\n",
    "- $f^{\\rm ext}_i$  represents any external force density.\n",
    "\n",
    "At low Reynolds numbers, the inertial terms (those involving $\\rho$) become negligible compared to viscous effects.\n",
    "\n",
    "This simplifies our momentum balance to,\n",
    "$$\\nabla_j \\sigma_{ij} + f^{\\rm ext}_i = 0$$"
   ],
   "id": "f87e5151067e5e84"
  },
  {
   "metadata": {},
   "cell_type": "markdown",
   "source": "Components and functions depend on both position and time",
   "id": "cb03c0ea34b61f58"
  },
  {
   "metadata": {
    "ExecuteTime": {
     "end_time": "2025-02-27T16:24:57.781423Z",
     "start_time": "2025-02-27T16:24:57.778392Z"
    }
   },
   "cell_type": "code",
   "source": [
    "# Define symbols for space and time\n",
    "x, y, t = sp.symbols('x y t')\n",
    "\n",
    "# Define functions for the velocity field components v1 and v2\n",
    "v1 = sp.Function('v1')(x, y, t)\n",
    "v2 = sp.Function('v2')(x, y, t)\n",
    "# Velocity vector\n",
    "v = sp.Matrix([v1, v2])\n",
    "\n",
    "# Define functions for the external force components f1 and f2 (f^ext)\n",
    "f1 = sp.Function('f1')(x, y, t)\n",
    "f2 = sp.Function('f2')(x, y, t)\n",
    "# External force vector\n",
    "f_ext = sp.Matrix([f1, f2])\n",
    "\n",
    "# Define functions for the stress tensor components sigma_ij\n",
    "sigma11 = sp.Function('sigma11')(x, y, t)\n",
    "sigma12 = sp.Function('sigma12')(x, y, t)\n",
    "sigma21 = sp.Function('sigma21')(x, y, t)\n",
    "sigma22 = sp.Function('sigma22')(x, y, t)"
   ],
   "id": "15abfbc0e395aa0e",
   "outputs": [],
   "execution_count": 35
  },
  {
   "metadata": {},
   "cell_type": "markdown",
   "source": "The stress tensor is a second-order tensor, i.e., **perhaps treating as a $2\\times 2$ matrix in 2D is sufficient?**",
   "id": "9760b49d6c746ff4"
  },
  {
   "metadata": {
    "ExecuteTime": {
     "end_time": "2025-02-27T16:24:57.792608Z",
     "start_time": "2025-02-27T16:24:57.787853Z"
    }
   },
   "cell_type": "code",
   "source": [
    "# Build the stress tensor as a 2x2 matrix\n",
    "sigma_tensor = sp.Matrix([[sigma11, sigma12],\n",
    "                          [sigma21, sigma22]])\n",
    "display(sigma_tensor)"
   ],
   "id": "e5df858f21cfaa62",
   "outputs": [
    {
     "data": {
      "text/plain": [
       "Matrix([\n",
       "[sigma11(x, y, t), sigma12(x, y, t)],\n",
       "[sigma21(x, y, t), sigma22(x, y, t)]])"
      ],
      "text/latex": "$\\displaystyle \\left[\\begin{matrix}\\sigma_{11}{\\left(x,y,t \\right)} & \\sigma_{12}{\\left(x,y,t \\right)}\\\\\\sigma_{21}{\\left(x,y,t \\right)} & \\sigma_{22}{\\left(x,y,t \\right)}\\end{matrix}\\right]$"
     },
     "metadata": {},
     "output_type": "display_data"
    }
   ],
   "execution_count": 36
  },
  {
   "metadata": {},
   "cell_type": "markdown",
   "source": "### Index notation",
   "id": "5c8bf3a4b60e1cef"
  },
  {
   "metadata": {},
   "cell_type": "markdown",
   "source": [
    "Index  $i$:\n",
    "\n",
    "- This is a free index that specifies the component of the vector equation considered.\n",
    "- In the term  $f^{\\rm ext}_i$, it indicates the $i$-th component of the external force per unit volume acting on the fluid.\n",
    "\n",
    "Index $j$:\n",
    "\n",
    "- This index is summed over (according to Einstein’s summation convention), meaning we sum the contributions from all spatial directions.\n",
    "- In the term  $\\nabla_j \\sigma_{ij}$, $j$ indicates the coordinate direction along which you take the derivative of the stress tensor component $\\sigma_{ij}$.\n",
    "- Essentially, it sums the changes in the stress components in all directions to give the net force per unit volume in the $i$-th direction."
   ],
   "id": "51d17fa967a42540"
  },
  {
   "metadata": {
    "ExecuteTime": {
     "end_time": "2025-02-27T16:24:57.821082Z",
     "start_time": "2025-02-27T16:24:57.817177Z"
    }
   },
   "cell_type": "code",
   "source": [
    "# The momentum conservation equation in index notation is:\n",
    "#   del_j sigma_{ij} + f_i^ext = 0.\n",
    "\n",
    "# For i=1 (the x-component), this becomes:\n",
    "eq1 = sp.Eq(sp.diff(sigma11, x) + sp.diff(sigma12, y) + f1, 0)\n",
    "\n",
    "# For i=2 (the y-component), it is:\n",
    "eq2 = sp.Eq(sp.diff(sigma21, x) + sp.diff(sigma22, y) + f2, 0)"
   ],
   "id": "74342db5fb581ddd",
   "outputs": [],
   "execution_count": 37
  },
  {
   "metadata": {
    "ExecuteTime": {
     "end_time": "2025-02-27T16:24:57.841750Z",
     "start_time": "2025-02-27T16:24:57.835822Z"
    }
   },
   "cell_type": "code",
   "source": [
    "# Display the equations\n",
    "print(\"Momentum conservation (x-component):\")\n",
    "display(eq1)\n",
    "print(\"\\nMomentum conservation (y-component):\")\n",
    "display(eq2)"
   ],
   "id": "60b496bf863b1652",
   "outputs": [
    {
     "name": "stdout",
     "output_type": "stream",
     "text": [
      "Momentum conservation (x-component):\n"
     ]
    },
    {
     "data": {
      "text/plain": [
       "Eq(f1(x, y, t) + Derivative(sigma11(x, y, t), x) + Derivative(sigma12(x, y, t), y), 0)"
      ],
      "text/latex": "$\\displaystyle f_{1}{\\left(x,y,t \\right)} + \\frac{\\partial}{\\partial x} \\sigma_{11}{\\left(x,y,t \\right)} + \\frac{\\partial}{\\partial y} \\sigma_{12}{\\left(x,y,t \\right)} = 0$"
     },
     "metadata": {},
     "output_type": "display_data"
    },
    {
     "name": "stdout",
     "output_type": "stream",
     "text": [
      "\n",
      "Momentum conservation (y-component):\n"
     ]
    },
    {
     "data": {
      "text/plain": [
       "Eq(f2(x, y, t) + Derivative(sigma21(x, y, t), x) + Derivative(sigma22(x, y, t), y), 0)"
      ],
      "text/latex": "$\\displaystyle f_{2}{\\left(x,y,t \\right)} + \\frac{\\partial}{\\partial x} \\sigma_{21}{\\left(x,y,t \\right)} + \\frac{\\partial}{\\partial y} \\sigma_{22}{\\left(x,y,t \\right)} = 0$"
     },
     "metadata": {},
     "output_type": "display_data"
    }
   ],
   "execution_count": 38
  },
  {
   "metadata": {},
   "cell_type": "markdown",
   "source": "----",
   "id": "764030b0194226c8"
  },
  {
   "metadata": {},
   "cell_type": "markdown",
   "source": [
    "### Incorporating Frictional Effects\n",
    "\n",
    "In many realistic situations, such as a thin film confined by a substrate or cover slide, or even friction with a surrounding fluid—there is an additional frictional force. Microscopically, this friction arises because the moving fluid exerts a force on the substrate, which in turn reacts with a force proportional to the local velocity. To model this effect, we introduce a friction term:\n",
    "\n",
    "$$\\text{Friction force per unit area} = \\mathbf{M}_{ij}\\,v_j$$\n",
    "\n",
    "where $\\mathbf{M}_{ij}$ is a friction tensor. For isotropic friction, this might simply be $\\Gamma\\,\\delta_{ij}$ (with $\\Gamma$ being a friction coefficient), but in a more general case the friction can be anisotropic.\n",
    "\n"
   ],
   "id": "d917ffc1b3fe98a"
  },
  {
   "metadata": {
    "ExecuteTime": {
     "end_time": "2025-02-27T16:24:57.890547Z",
     "start_time": "2025-02-27T16:24:57.882569Z"
    }
   },
   "cell_type": "code",
   "source": [
    "# Define the friction tensor M_ij as a 2x2 matrix.\n",
    "# For the most general case, we allow each component to be a function.\n",
    "M11 = sp.Function('M11')(x, y, t)\n",
    "M12 = sp.Function('M12')(x, y, t)\n",
    "M21 = sp.Function('M21')(x, y, t)\n",
    "M22 = sp.Function('M22')(x, y, t)\n",
    "\n",
    "M_tensor = sp.Matrix([[M11, M12],\n",
    "                      [M21, M22]])\n",
    "\n",
    "print(\"Friction tensor\")\n",
    "display(M_tensor)\n",
    "\n",
    "# Alternatively, if friction is isotropic, we might use a constant friction coefficient Gamma:\n",
    "Gamma = sp.symbols('Gamma', real=True, positive=True)\n",
    "M_constant = Gamma * sp.eye(2)\n",
    "print(\"\\nIsotropic friction tensor\")\n",
    "display(M_constant)"
   ],
   "id": "db47db1a1cdc2574",
   "outputs": [
    {
     "name": "stdout",
     "output_type": "stream",
     "text": [
      "Friction tensor\n"
     ]
    },
    {
     "data": {
      "text/plain": [
       "Matrix([\n",
       "[M11(x, y, t), M12(x, y, t)],\n",
       "[M21(x, y, t), M22(x, y, t)]])"
      ],
      "text/latex": "$\\displaystyle \\left[\\begin{matrix}M_{11}{\\left(x,y,t \\right)} & M_{12}{\\left(x,y,t \\right)}\\\\M_{21}{\\left(x,y,t \\right)} & M_{22}{\\left(x,y,t \\right)}\\end{matrix}\\right]$"
     },
     "metadata": {},
     "output_type": "display_data"
    },
    {
     "name": "stdout",
     "output_type": "stream",
     "text": [
      "\n",
      "Isotropic friction tensor\n"
     ]
    },
    {
     "data": {
      "text/plain": [
       "Matrix([\n",
       "[Gamma,     0],\n",
       "[    0, Gamma]])"
      ],
      "text/latex": "$\\displaystyle \\left[\\begin{matrix}\\Gamma & 0\\\\0 & \\Gamma\\end{matrix}\\right]$"
     },
     "metadata": {},
     "output_type": "display_data"
    }
   ],
   "execution_count": 39
  },
  {
   "metadata": {},
   "cell_type": "markdown",
   "source": [
    "Adding either of these friction terms to our force balance, we have\n",
    "$$\\nabla_j \\sigma_{ij} + \\mathbf{M}_{ij}\\,v_j + f^{\\rm ext}_i = 0$$"
   ],
   "id": "e1063887a760690b"
  },
  {
   "metadata": {
    "ExecuteTime": {
     "end_time": "2025-02-27T16:24:57.946853Z",
     "start_time": "2025-02-27T16:24:57.929028Z"
    }
   },
   "cell_type": "code",
   "source": [
    "# Compute the divergence of the stress tensor as a vector:\n",
    "# (dee_x sigma_11 + dee_y sigma_12,  dee_x sigma_21 + dee_y sigma_22)\n",
    "div_sigma = sp.Matrix([\n",
    "    sp.diff(sigma11, x) + sp.diff(sigma12, y),\n",
    "    sp.diff(sigma21, x) + sp.diff(sigma22, y)\n",
    "])\n",
    "\n",
    "# Calculate the friction force per unit area as M_ij * v_j (matrix-vector multiplication)\n",
    "friction_force = M_tensor * v\n",
    "\n",
    "# Combine them into the momentum conservation equation: div(sigma) + f_ext = 0\n",
    "momentum_eq = sp.Eq(div_sigma + friction_force + f_ext, sp.Matrix([0, 0]))\n",
    "display(momentum_eq)"
   ],
   "id": "41e4f71421c01c8a",
   "outputs": [
    {
     "data": {
      "text/plain": [
       "Eq(Matrix([\n",
       "[M11(x, y, t)*v1(x, y, t) + M12(x, y, t)*v2(x, y, t) + f1(x, y, t) + Derivative(sigma11(x, y, t), x) + Derivative(sigma12(x, y, t), y)],\n",
       "[M21(x, y, t)*v1(x, y, t) + M22(x, y, t)*v2(x, y, t) + f2(x, y, t) + Derivative(sigma21(x, y, t), x) + Derivative(sigma22(x, y, t), y)]]), Matrix([\n",
       "[0],\n",
       "[0]]))"
      ],
      "text/latex": "$\\displaystyle \\left[\\begin{matrix}M_{11}{\\left(x,y,t \\right)} v_{1}{\\left(x,y,t \\right)} + M_{12}{\\left(x,y,t \\right)} v_{2}{\\left(x,y,t \\right)} + f_{1}{\\left(x,y,t \\right)} + \\frac{\\partial}{\\partial x} \\sigma_{11}{\\left(x,y,t \\right)} + \\frac{\\partial}{\\partial y} \\sigma_{12}{\\left(x,y,t \\right)}\\\\M_{21}{\\left(x,y,t \\right)} v_{1}{\\left(x,y,t \\right)} + M_{22}{\\left(x,y,t \\right)} v_{2}{\\left(x,y,t \\right)} + f_{2}{\\left(x,y,t \\right)} + \\frac{\\partial}{\\partial x} \\sigma_{21}{\\left(x,y,t \\right)} + \\frac{\\partial}{\\partial y} \\sigma_{22}{\\left(x,y,t \\right)}\\end{matrix}\\right] = \\left[\\begin{matrix}0\\\\0\\end{matrix}\\right]$"
     },
     "metadata": {},
     "output_type": "display_data"
    }
   ],
   "execution_count": 40
  },
  {
   "metadata": {},
   "cell_type": "markdown",
   "source": [
    "If we now define the net external force as\n",
    "\n",
    "$$f_i(\\mathbf{r}) \\equiv - f^{\\rm ext}_i$$\n",
    "\n",
    "the equation becomes\n",
    "\n",
    "$$\\nabla_j\\,\\sigma_{ij}(\\mathbf{r}) + \\mathbf{M}_{ij}\\,v_j(\\mathbf{r}) = f_i(\\mathbf{r})$$\n",
    "\n",
    "which is the form of equation (1).\n",
    "\n",
    "($f_i(\\mathbf{r})$ in two dimensions signifies a force density acting on the fluid, and summation over repeated indices is implied following Einstein’s notation)."
   ],
   "id": "70b578f77a0f643"
  },
  {
   "metadata": {},
   "cell_type": "markdown",
   "source": "----",
   "id": "3f3c394d52853a8b"
  },
  {
   "metadata": {},
   "cell_type": "markdown",
   "source": [
    "### Incorporating the total stress tensor $\\sigma_{ij}(\\mathbf{r})$\n",
    "\n",
    "Assuming $i, j \\in \\{x, y\\}$, equation $(1)$,\n",
    "$$\\sigma_{ij}(\\mathbf{r})=p(\\mathbf{r})\\,\\delta_{ij}+\\tilde{\\sigma}_{ij}(\\mathbf{r})$$\n",
    "\n",
    "represents the components of the stress tensor where,\n",
    "\n",
    "- $p(\\mathbf{r})$ is the pressure field\n",
    "- The Kronecker delta $\\delta_{ij} = \\begin{cases} 1 & \\text{if } i = j \\\\0 & \\text{if } i \\neq j\\end{cases}$"
   ],
   "id": "6ace41a99d64ff8d"
  },
  {
   "metadata": {},
   "cell_type": "markdown",
   "source": [
    "##### Dead End - Including for fidelity\n",
    "\n",
    "To have the isotropic part carry the same overall weight as the full stress, we equate,\n",
    "$$2p = \\sigma_{xx} + \\sigma_{yy}$$\n",
    "`NOTE`: Here we see a variation in sign convention in the paper - Ultimately this doesn't appear to matter"
   ],
   "id": "8ace01370e2701f6"
  },
  {
   "metadata": {
    "ExecuteTime": {
     "end_time": "2025-02-27T16:24:57.969950Z",
     "start_time": "2025-02-27T16:24:57.964300Z"
    }
   },
   "cell_type": "code",
   "source": [
    "# Trace of sigma\n",
    "trace_sigma = sigma_tensor.trace()\n",
    "\n",
    "p = sp.Rational(1,2)*trace_sigma\n",
    "I2 = sp.eye(2)\n",
    "\n",
    "# Decompose:\n",
    "# note the plus sign because p was defined with a minus\n",
    "sigma_tilde = sigma_tensor.copy() - p*I2\n",
    "# Then sigma = p I + sigma_tilde\n",
    "\n",
    "display(sigma_tilde)\n",
    "print(f\"Type: {type(sigma_tilde)}\")\n",
    "assert sigma_tilde.trace() == 0, \"isotropic pressure not separated as required\""
   ],
   "id": "a1f0da937d6e0be5",
   "outputs": [
    {
     "data": {
      "text/plain": [
       "Matrix([\n",
       "[sigma11(x, y, t)/2 - sigma22(x, y, t)/2,                         sigma12(x, y, t)],\n",
       "[                       sigma21(x, y, t), -sigma11(x, y, t)/2 + sigma22(x, y, t)/2]])"
      ],
      "text/latex": "$\\displaystyle \\left[\\begin{matrix}\\frac{\\sigma_{11}{\\left(x,y,t \\right)}}{2} - \\frac{\\sigma_{22}{\\left(x,y,t \\right)}}{2} & \\sigma_{12}{\\left(x,y,t \\right)}\\\\\\sigma_{21}{\\left(x,y,t \\right)} & - \\frac{\\sigma_{11}{\\left(x,y,t \\right)}}{2} + \\frac{\\sigma_{22}{\\left(x,y,t \\right)}}{2}\\end{matrix}\\right]$"
     },
     "metadata": {},
     "output_type": "display_data"
    },
    {
     "name": "stdout",
     "output_type": "stream",
     "text": [
      "Type: <class 'sympy.matrices.dense.MutableDenseMatrix'>\n"
     ]
    }
   ],
   "execution_count": 41
  },
  {
   "metadata": {},
   "cell_type": "markdown",
   "source": "$\\tilde{\\sigma}_{ij}$ is traceless meaning the isotropic pressure part has been successfully separated",
   "id": "9fe96fec9061b160"
  },
  {
   "metadata": {},
   "cell_type": "markdown",
   "source": "We substitute component wise into the `momentum_eq`",
   "id": "8a4f6a57aa278dfc"
  },
  {
   "metadata": {
    "ExecuteTime": {
     "end_time": "2025-02-27T16:24:58.004937Z",
     "start_time": "2025-02-27T16:24:57.987428Z"
    }
   },
   "cell_type": "code",
   "source": [
    "momentum_eq_subst = momentum_eq.subs({\n",
    "    sigma11: sigma_tilde[0,0],\n",
    "    sigma12: sigma_tilde[0,1],\n",
    "    sigma21: sigma_tilde[1,0],\n",
    "    sigma22: sigma_tilde[1,1]\n",
    "})\n",
    "display(momentum_eq_subst)"
   ],
   "id": "269d4d5af0660edb",
   "outputs": [
    {
     "data": {
      "text/plain": [
       "Eq(Matrix([\n",
       "[M11(x, y, t)*v1(x, y, t) + M12(x, y, t)*v2(x, y, t) + f1(x, y, t) + Derivative(3*sigma11(x, y, t)/4 - sigma22(x, y, t)/4, x) + Derivative(sigma12(x, y, t), y)],\n",
       "[ M21(x, y, t)*v1(x, y, t) + M22(x, y, t)*v2(x, y, t) + f2(x, y, t) + Derivative(-sigma11(x, y, t)/2 + sigma22(x, y, t)/2, y) + Derivative(sigma21(x, y, t), x)]]), Matrix([\n",
       "[0],\n",
       "[0]]))"
      ],
      "text/latex": "$\\displaystyle \\left[\\begin{matrix}M_{11}{\\left(x,y,t \\right)} v_{1}{\\left(x,y,t \\right)} + M_{12}{\\left(x,y,t \\right)} v_{2}{\\left(x,y,t \\right)} + f_{1}{\\left(x,y,t \\right)} + \\frac{\\partial}{\\partial x} \\left(\\frac{3 \\sigma_{11}{\\left(x,y,t \\right)}}{4} - \\frac{\\sigma_{22}{\\left(x,y,t \\right)}}{4}\\right) + \\frac{\\partial}{\\partial y} \\sigma_{12}{\\left(x,y,t \\right)}\\\\M_{21}{\\left(x,y,t \\right)} v_{1}{\\left(x,y,t \\right)} + M_{22}{\\left(x,y,t \\right)} v_{2}{\\left(x,y,t \\right)} + f_{2}{\\left(x,y,t \\right)} + \\frac{\\partial}{\\partial y} \\left(- \\frac{\\sigma_{11}{\\left(x,y,t \\right)}}{2} + \\frac{\\sigma_{22}{\\left(x,y,t \\right)}}{2}\\right) + \\frac{\\partial}{\\partial x} \\sigma_{21}{\\left(x,y,t \\right)}\\end{matrix}\\right] = \\left[\\begin{matrix}0\\\\0\\end{matrix}\\right]$"
     },
     "metadata": {},
     "output_type": "display_data"
    }
   ],
   "execution_count": 42
  },
  {
   "metadata": {},
   "cell_type": "markdown",
   "source": [
    "The $\\frac{\\partial}{\\partial x}\\sigma_{11}$ and $\\frac{\\partial}{\\partial y}\\sigma_{22}$ coefficients are wrong\n",
    "\n",
    "The problem here is our definition of the derived stress,\n",
    "$$\\tilde{\\sigma}_{ij} = \\sigma_{ij} - p\\,\\delta_{ij}, \\quad \\text{with } p = \\frac{1}{2}\\mathrm{tr}(\\sigma)$$\n",
    "creates circular dependency. The pressure $p$ is defined in terms of the very components $\\sigma_{11}$ and $\\sigma_{22}$ that we try to substitute out in favour of $\\tilde{\\sigma}_{ij}$."
   ],
   "id": "e31bdeb7850f4329"
  },
  {
   "metadata": {},
   "cell_type": "markdown",
   "source": "##### Amendment",
   "id": "141fa6a962697a4c"
  },
  {
   "metadata": {},
   "cell_type": "markdown",
   "source": "Instead of computing $p$ from the trace of $\\sigma$, we define it as a function",
   "id": "c7de10400ce2b223"
  },
  {
   "metadata": {
    "ExecuteTime": {
     "end_time": "2025-02-27T16:24:58.024397Z",
     "start_time": "2025-02-27T16:24:58.022600Z"
    }
   },
   "cell_type": "code",
   "source": [
    "# Define pressure field as an independent function\n",
    "p_field = sp.Function('p')(x, y, t)"
   ],
   "id": "27bdf39efdfe620a",
   "outputs": [],
   "execution_count": 43
  },
  {
   "metadata": {},
   "cell_type": "markdown",
   "source": "Define the independent components functions for the deviatoric stress",
   "id": "82542c0bb62860bc"
  },
  {
   "metadata": {
    "ExecuteTime": {
     "end_time": "2025-02-27T16:24:58.063819Z",
     "start_time": "2025-02-27T16:24:58.060970Z"
    }
   },
   "cell_type": "code",
   "source": [
    "# We define three functions: tilde_sigma_11, tilde_sigma_12, tilde_sigma_21,\n",
    "# and set tilde_sigma_22 to enforce tracelessness.\n",
    "sigmatilde_11 = sp.Function('sigmatilde_11')(x, y, t)\n",
    "sigmatilde_12 = sp.Function('sigmatilde_12')(x, y, t)\n",
    "sigmatilde_21 = sp.Function('sigmatilde_21')(x, y, t)\n",
    "sigmatilde_22 = -sigmatilde_11  # Enforce tilde_sigma.trace() = 0\n",
    "\n",
    "# Build the deviatoric stress tensor using the tilde notation\n",
    "sigma_tilde = sp.Matrix([\n",
    "    [sigmatilde_11, sigmatilde_12],\n",
    "    [sigmatilde_21, sigmatilde_22]\n",
    "])"
   ],
   "id": "8cd8220524a36711",
   "outputs": [],
   "execution_count": 44
  },
  {
   "metadata": {},
   "cell_type": "markdown",
   "source": "Reconstruct the full stress tensor",
   "id": "e238d784b350ddaf"
  },
  {
   "metadata": {
    "ExecuteTime": {
     "end_time": "2025-02-27T16:20:58.725470Z",
     "start_time": "2025-02-27T16:20:58.718032Z"
    }
   },
   "cell_type": "code",
   "source": [
    "I2 = sp.eye(2)\n",
    "sigma_tensor_p = p_field * I2 + sigma_tilde\n",
    "display(sigma_tensor_p)"
   ],
   "id": "e382f0fa10853d99",
   "outputs": [
    {
     "data": {
      "text/plain": [
       "Matrix([\n",
       "[p(x, y, t) + sigmatilde_11(x, y, t),              sigmatilde_12(x, y, t)],\n",
       "[             sigmatilde_21(x, y, t), p(x, y, t) - sigmatilde_11(x, y, t)]])"
      ],
      "text/latex": "$\\displaystyle \\left[\\begin{matrix}p{\\left(x,y,t \\right)} + \\tilde{\\sigma}_{11}{\\left(x,y,t \\right)} & \\tilde{\\sigma}_{12}{\\left(x,y,t \\right)}\\\\\\tilde{\\sigma}_{21}{\\left(x,y,t \\right)} & p{\\left(x,y,t \\right)} - \\tilde{\\sigma}_{11}{\\left(x,y,t \\right)}\\end{matrix}\\right]$"
     },
     "metadata": {},
     "output_type": "display_data"
    }
   ],
   "execution_count": 32
  },
  {
   "metadata": {
    "ExecuteTime": {
     "end_time": "2025-02-27T16:26:17.743092Z",
     "start_time": "2025-02-27T16:26:17.735386Z"
    }
   },
   "cell_type": "code",
   "source": [
    "# Recompute p from the full stress tensor:\n",
    "p_from_sigma = sp.Rational(1, 2) * sigma_tensor_p.trace()\n",
    "assert sp.simplify(p_from_sigma - p_field) == 0, \"Pressure mismatch!\"\n",
    "\n",
    "# Now, compute sigma - p*I2:\n",
    "sigma_decomp = sp.simplify(sigma_tensor_p - p_from_sigma * I2)\n",
    "assert sp.simplify(sigma_decomp - sigma_tilde) == sp.zeros(2), \"Decomposition does not hold!\""
   ],
   "id": "e2aaa92861653572",
   "outputs": [],
   "execution_count": 46
  },
  {
   "metadata": {},
   "cell_type": "markdown",
   "source": "Now we can substitute component wise into the `momentum_eq`",
   "id": "36b0dbe821b18dc"
  },
  {
   "metadata": {
    "ExecuteTime": {
     "end_time": "2025-02-27T16:29:34.898466Z",
     "start_time": "2025-02-27T16:29:34.871948Z"
    }
   },
   "cell_type": "code",
   "source": [
    "momentum_eq_tilde = momentum_eq.subs({\n",
    "    sigma11: sigma_tensor_p[0,0],\n",
    "    sigma12: sigma_tensor_p[0,1],\n",
    "    sigma21: sigma_tensor_p[1,0],\n",
    "    sigma22: sigma_tensor_p[1,1]\n",
    "})\n",
    "display(momentum_eq_tilde)"
   ],
   "id": "91098fba2214094",
   "outputs": [
    {
     "data": {
      "text/plain": [
       "Eq(Matrix([\n",
       "[M11(x, y, t)*v1(x, y, t) + M12(x, y, t)*v2(x, y, t) + f1(x, y, t) + Derivative(p(x, y, t) + sigmatilde_11(x, y, t), x) + Derivative(sigmatilde_12(x, y, t), y)],\n",
       "[M21(x, y, t)*v1(x, y, t) + M22(x, y, t)*v2(x, y, t) + f2(x, y, t) + Derivative(p(x, y, t) - sigmatilde_11(x, y, t), y) + Derivative(sigmatilde_21(x, y, t), x)]]), Matrix([\n",
       "[0],\n",
       "[0]]))"
      ],
      "text/latex": "$\\displaystyle \\left[\\begin{matrix}M_{11}{\\left(x,y,t \\right)} v_{1}{\\left(x,y,t \\right)} + M_{12}{\\left(x,y,t \\right)} v_{2}{\\left(x,y,t \\right)} + f_{1}{\\left(x,y,t \\right)} + \\frac{\\partial}{\\partial x} \\left(p{\\left(x,y,t \\right)} + \\tilde{\\sigma}_{11}{\\left(x,y,t \\right)}\\right) + \\frac{\\partial}{\\partial y} \\tilde{\\sigma}_{12}{\\left(x,y,t \\right)}\\\\M_{21}{\\left(x,y,t \\right)} v_{1}{\\left(x,y,t \\right)} + M_{22}{\\left(x,y,t \\right)} v_{2}{\\left(x,y,t \\right)} + f_{2}{\\left(x,y,t \\right)} + \\frac{\\partial}{\\partial y} \\left(p{\\left(x,y,t \\right)} - \\tilde{\\sigma}_{11}{\\left(x,y,t \\right)}\\right) + \\frac{\\partial}{\\partial x} \\tilde{\\sigma}_{21}{\\left(x,y,t \\right)}\\end{matrix}\\right] = \\left[\\begin{matrix}0\\\\0\\end{matrix}\\right]$"
     },
     "metadata": {},
     "output_type": "display_data"
    }
   ],
   "execution_count": 47
  },
  {
   "metadata": {},
   "cell_type": "markdown",
   "source": "----",
   "id": "4d4a4a937a09a92e"
  },
  {
   "metadata": {},
   "cell_type": "markdown",
   "source": [
    "### 4 Simplify stress tensor to 'pure dissipative stress'\n",
    "\n",
    "We now need to show that,\n",
    "$$\\tilde{\\sigma}_{ij}=\\sigma_{ij}^{\\text{D}}=-\\nu_{ijkl}\\nabla_l\\,v_k\\tag{2}$$\n",
    "\n",
    "`NOTE`: assuming the $\\text{D}$ subscript means \" dissipative stress - *further definition required* \"\n",
    "\n",
    "`NOTE`: assumed that the expression $\\nu_{ijkl}$ is \" some rank-4 tensor \""
   ],
   "id": "e57f2c4d66e4d739"
  },
  {
   "metadata": {},
   "cell_type": "markdown",
   "source": [
    "In the Appendix of `Reference 80`: \"Pleiner H and Brand H R 1996 Hydrodynamics and electrohydrodynamics of liquid crystals Pattern Formation in Liquid Crystals ed A Buka and L Kramer (Springer)\n",
    "p 15–67\" I found,\n",
    "\n",
    "![img](../Figures/Ref80.png)"
   ],
   "id": "58baae430335f171"
  },
  {
   "metadata": {},
   "cell_type": "markdown",
   "source": [
    "Which is equation $(3)$, simplified by equation $(4)$. Why do we have 5 viscosity components?\n",
    "\n",
    "- \"The paper by Pleiner and Brand demonstrates that 5 are sufficient\".\n",
    "- 5 distinct viscosities defines an anisotropic fluid medium.\n",
    "- We examine scenario of the director being consistently and uniformly orientated along a single global axis."
   ],
   "id": "677771d06e438807"
  },
  {
   "metadata": {},
   "cell_type": "markdown",
   "source": "### 4b Derivation",
   "id": "d43e57e2e544d21f"
  },
  {
   "metadata": {},
   "cell_type": "markdown",
   "source": "We build $\\nu_{ijkl}$ as a linear combination of all distinct tensor contractions allowed by the uniaxial symmetry around some director $\\mathbf{n}=\\begin{pmatrix}n_x & n_y\\end{pmatrix}^T$",
   "id": "c7157ad76e90a616"
  },
  {
   "metadata": {},
   "cell_type": "markdown",
   "source": "`Note`: we probably need to normalise as a unit vector",
   "id": "e884a72b10c38c47"
  },
  {
   "metadata": {
    "ExecuteTime": {
     "end_time": "2025-02-27T17:38:40.008205Z",
     "start_time": "2025-02-27T17:38:40.001267Z"
    }
   },
   "cell_type": "code",
   "source": [
    "n_x, n_y = sp.symbols('n_x n_y', real=True)\n",
    "# Optionally enforce n_x^2 + n_y^2 = 1:\n",
    "# constraints = [sp.Eq(n_x**2 + n_y**2, 1)]\n",
    "n = (n_x, n_y)"
   ],
   "id": "6a879d52aa2537ac",
   "outputs": [],
   "execution_count": 48
  },
  {
   "metadata": {},
   "cell_type": "markdown",
   "source": "Define multiple viscosity coefficients",
   "id": "b2044e2b8572be1e"
  },
  {
   "metadata": {
    "ExecuteTime": {
     "end_time": "2025-02-27T17:38:42.635134Z",
     "start_time": "2025-02-27T17:38:42.631313Z"
    }
   },
   "cell_type": "code",
   "source": [
    "# Five viscosity parameters\n",
    "nu1, nu2, nu3, nu4, nu5 = sp.symbols('nu1 nu2 nu3 nu4 nu5', real=True)"
   ],
   "id": "1f34e7e26367fc15",
   "outputs": [],
   "execution_count": 49
  },
  {
   "metadata": {},
   "cell_type": "markdown",
   "source": "Define a Kronecker delta for 2D",
   "id": "9ede1ea3fed2474b"
  },
  {
   "metadata": {
    "ExecuteTime": {
     "end_time": "2025-02-27T17:38:45.016023Z",
     "start_time": "2025-02-27T17:38:45.013234Z"
    }
   },
   "cell_type": "code",
   "source": [
    "def kronecker(i, j):\n",
    "    return 1 if i == j else 0"
   ],
   "id": "fe3c4fdb14f1ec6",
   "outputs": [],
   "execution_count": 50
  },
  {
   "metadata": {},
   "cell_type": "markdown",
   "source": [
    "### Einstein summation in the tensor construction\n",
    "\n",
    "We have a tensor expression of the form,\n",
    "\n",
    "$$\n",
    "\\nu_{ijkl} = \\nu_2,\\Bigl(\\delta_{ik},\\delta_{jl} + \\delta_{il},\\delta_{jk}\\Bigr) + \\bigl[\\dots\\bigr],\\delta_{ik},n_k,n_l + \\dots\n",
    "$$\n",
    "\n",
    "In this expression, the term $\\delta_{ik}\\,n_k$ has a repeated index $k$. By the Einstein summation convention, a repeated index implies a sum over that index. That is,\n",
    "\n",
    "$$\n",
    "\\delta_{ik},n_k = \\sum_{k=0}^{1} \\delta_{ik},n_k = n_i ,.\n",
    "$$\n",
    "\n",
    "Thus, whenever we see $\\delta_{ik}\\,n_k$, it simplifies to $n_i$, meaning it selects the $i$th component of the vector $\\mathbf{n}$"
   ],
   "id": "1c1731b9be7bb019"
  },
  {
   "metadata": {
    "ExecuteTime": {
     "end_time": "2025-02-27T17:43:24.978383Z",
     "start_time": "2025-02-27T17:43:24.715840Z"
    }
   },
   "cell_type": "code",
   "source": [
    "nu_tensor = {}\n",
    "for i in range(2):\n",
    "    for j in range(2):\n",
    "        for k in range(2):\n",
    "            for l in range(2):\n",
    "                val = 0\n",
    "\n",
    "                # 1) \"term1\": Isotropic-like part\n",
    "                #    nu2 * (delta_{ik} delta_{jl} + delta_{il} delta_{jk})\n",
    "                val += nu2 * (\n",
    "                    kronecker(i,k)*kronecker(j,l) +\n",
    "                    kronecker(i,l)*kronecker(j,k)\n",
    "                )\n",
    "\n",
    "                # 2) \"term2\": bar_nu * n[i] n[j] n[k] n[l]\n",
    "                bar_nu = 2*(nu1 + nu2 - 2*nu3)\n",
    "                val += bar_nu * n[i]*n[j]*n[k]*n[l]\n",
    "\n",
    "                # 3) \"term3\": (nu4 - nu2)* (delta_{ij} delta_{kl}), etc.\n",
    "                #    Just an example if your reference has that piece:\n",
    "                val += (nu4 - nu2)*(\n",
    "                    kronecker(i,j)*kronecker(k,l)\n",
    "                )\n",
    "\n",
    "                # 4) \"term4\": (nu3 - nu2)*[n[i] n[k] delta(j,l) + ...]\n",
    "                #    No repeated indices here, so we can code it directly:\n",
    "                val += (nu3 - nu2)*(\n",
    "                    n[i]*n[k]*kronecker(j,l)\n",
    "                  + n[i]*n[l]*kronecker(j,k)\n",
    "                  + n[j]*n[k]*kronecker(i,l)\n",
    "                  + n[j]*n[l]*kronecker(i,k)\n",
    "                )\n",
    "\n",
    "                # 5) \"term5\": (nu5 - nu4 + nu2)* (delta_{i,k} n_k n_l + delta_{k,l} n_i n_j + ...)\n",
    "                #    If the reference has something like delta_{i,k} n_k => n_i,\n",
    "                #    we do that by summation over a dummy index \"a\".\n",
    "                sum_over_a = 0\n",
    "                for a in range(2):\n",
    "                    sum_over_a += kronecker(i,a)*n[a]  # => n_i\n",
    "                sum_over_b = 0\n",
    "                for b in range(2):\n",
    "                    sum_over_b += kronecker(k,b)*n[b]  # => n_k\n",
    "                sum_over_c = 0\n",
    "                for c in range(2):\n",
    "                    sum_over_c += kronecker(l,c)*n[c]  # => n_l\n",
    "\n",
    "                # Then combine them carefully.\n",
    "                val += (nu5 - nu4 + nu2)*(\n",
    "                    sum_over_a * sum_over_c\n",
    "                    + kronecker(l,k)*n[i]*n[j]\n",
    "                )\n",
    "\n",
    "                # Save\n",
    "                nu_tensor[(i,j,k,l)] = sp.simplify(val)"
   ],
   "id": "5cf785f787aaae4c",
   "outputs": [],
   "execution_count": 53
  },
  {
   "metadata": {
    "ExecuteTime": {
     "end_time": "2025-02-27T17:44:27.196565Z",
     "start_time": "2025-02-27T17:44:27.189727Z"
    }
   },
   "cell_type": "code",
   "source": [
    "dv = sp.zeros(2,2)\n",
    "# Indices: j=0 -> derivative w.r.t x, j=1 -> derivative w.r.t y\n",
    "#          k=0 -> v1, k=1 -> v2\n",
    "dv[0,0] = v1.diff(x)  # dee(v1)/dee x\n",
    "dv[0,1] = v2.diff(x)  # dee(v2)/dee x\n",
    "dv[1,0] = v1.diff(y)  # dee(v1)/dee y\n",
    "dv[1,1] = v2.diff(y)  # dee(v2)/dee y\n",
    "\n",
    "print(\"Velocity gradients dv\")\n",
    "display(dv)"
   ],
   "id": "be95191868204dff",
   "outputs": [
    {
     "name": "stdout",
     "output_type": "stream",
     "text": [
      "Velocity gradients dv\n"
     ]
    },
    {
     "data": {
      "text/plain": [
       "Matrix([\n",
       "[Derivative(v1(x, y, t), x), Derivative(v2(x, y, t), x)],\n",
       "[Derivative(v1(x, y, t), y), Derivative(v2(x, y, t), y)]])"
      ],
      "text/latex": "$\\displaystyle \\left[\\begin{matrix}\\frac{\\partial}{\\partial x} v_{1}{\\left(x,y,t \\right)} & \\frac{\\partial}{\\partial x} v_{2}{\\left(x,y,t \\right)}\\\\\\frac{\\partial}{\\partial y} v_{1}{\\left(x,y,t \\right)} & \\frac{\\partial}{\\partial y} v_{2}{\\left(x,y,t \\right)}\\end{matrix}\\right]$"
     },
     "metadata": {},
     "output_type": "display_data"
    }
   ],
   "execution_count": 54
  },
  {
   "metadata": {},
   "cell_type": "markdown",
   "source": [
    "Once we have $\\nu_{ijkl}$, the dissipative (deviatoric) stress $\\sigma^{\\text{D}}_{i\\ell}$ is given by\n",
    "$$\\sigma^{\\text{D}}_{i \\ell} = -\\nu_{i j k \\ell}\\,\\nabla_j v_k$$"
   ],
   "id": "12392d48a3e4f95c"
  },
  {
   "metadata": {
    "ExecuteTime": {
     "end_time": "2025-02-27T17:44:31.867907Z",
     "start_time": "2025-02-27T17:44:31.862326Z"
    }
   },
   "cell_type": "code",
   "source": [
    "# Suppose dv is a 2x2 matrix: dv[j,k] = partial_j(v_k)\n",
    "sigmaD = sp.zeros(2,2)\n",
    "for i in range(2):\n",
    "    for ell in range(2):\n",
    "        expr = 0\n",
    "        for j2 in range(2):\n",
    "            for k2 in range(2):\n",
    "                expr += - nu_tensor[(i,j2,k2,ell)] * dv[j2, k2]\n",
    "        sigmaD[i, ell] = expr"
   ],
   "id": "9d4af2b0dca079e9",
   "outputs": [],
   "execution_count": 55
  },
  {
   "metadata": {
    "ExecuteTime": {
     "end_time": "2025-02-27T17:49:57.121461Z",
     "start_time": "2025-02-27T17:49:57.078372Z"
    }
   },
   "cell_type": "code",
   "source": [
    "print(\"Dissipative Stress Tensor Components:\")\n",
    "for i in range(2):\n",
    "    for j in range(2):\n",
    "        # Construct a label for the (i,j) component using standard notation\n",
    "        label = sp.symbols(f\"\\\\tilde{{\\\\sigma}}^D_{{{i+1}{j+1}}}\")\n",
    "        eq = sp.Eq(label, sigmaD[i,j])\n",
    "        display(eq)"
   ],
   "id": "3ba87121ff99077c",
   "outputs": [
    {
     "name": "stdout",
     "output_type": "stream",
     "text": [
      "Dissipative Stress Tensor Components:\n"
     ]
    },
    {
     "data": {
      "text/plain": [
       "Eq(\\tilde{\\sigma}^D_{11}, -n_x*(2*n_x**2*n_y*(nu1 + nu2 - 2*nu3) + n_x*(nu2 - nu4 + nu5) - 2*n_y*(nu2 - nu3))*Derivative(v2(x, y, t), x) - n_x*(2*n_x**2*n_y*(nu1 + nu2 - 2*nu3) - 2*n_y*(nu2 - nu3) + (n_x + n_y)*(nu2 - nu4 + nu5))*Derivative(v1(x, y, t), y) + (-2*n_x**2*n_y**2*(nu1 + nu2 - 2*nu3) - n_x**2*(nu2 - nu4 + nu5) - nu2 + (n_x**2 + n_y**2)*(nu2 - nu3))*Derivative(v2(x, y, t), y) + (-2*n_x**4*(nu1 + nu2 - 2*nu3) - 4*n_x**2*(-nu2 + nu3) - 2*n_x**2*(nu2 - nu4 + nu5) - nu2 - nu4)*Derivative(v1(x, y, t), x))"
      ],
      "text/latex": "$\\displaystyle \\tilde{\\sigma}^D_{11} = - n_{x} \\left(2 n_{x}^{2} n_{y} \\left(\\nu_{1} + \\nu_{2} - 2 \\nu_{3}\\right) + n_{x} \\left(\\nu_{2} - \\nu_{4} + \\nu_{5}\\right) - 2 n_{y} \\left(\\nu_{2} - \\nu_{3}\\right)\\right) \\frac{\\partial}{\\partial x} v_{2}{\\left(x,y,t \\right)} - n_{x} \\left(2 n_{x}^{2} n_{y} \\left(\\nu_{1} + \\nu_{2} - 2 \\nu_{3}\\right) - 2 n_{y} \\left(\\nu_{2} - \\nu_{3}\\right) + \\left(n_{x} + n_{y}\\right) \\left(\\nu_{2} - \\nu_{4} + \\nu_{5}\\right)\\right) \\frac{\\partial}{\\partial y} v_{1}{\\left(x,y,t \\right)} + \\left(- 2 n_{x}^{2} n_{y}^{2} \\left(\\nu_{1} + \\nu_{2} - 2 \\nu_{3}\\right) - n_{x}^{2} \\left(\\nu_{2} - \\nu_{4} + \\nu_{5}\\right) - \\nu_{2} + \\left(n_{x}^{2} + n_{y}^{2}\\right) \\left(\\nu_{2} - \\nu_{3}\\right)\\right) \\frac{\\partial}{\\partial y} v_{2}{\\left(x,y,t \\right)} + \\left(- 2 n_{x}^{4} \\left(\\nu_{1} + \\nu_{2} - 2 \\nu_{3}\\right) - 4 n_{x}^{2} \\left(- \\nu_{2} + \\nu_{3}\\right) - 2 n_{x}^{2} \\left(\\nu_{2} - \\nu_{4} + \\nu_{5}\\right) - \\nu_{2} - \\nu_{4}\\right) \\frac{\\partial}{\\partial x} v_{1}{\\left(x,y,t \\right)}$"
     },
     "metadata": {},
     "output_type": "display_data"
    },
    {
     "data": {
      "text/plain": [
       "Eq(\\tilde{\\sigma}^D_{12}, -2*n_x*n_y*(n_y**2*(nu1 + nu2 - 2*nu3) + nu3 - nu4 + nu5)*Derivative(v2(x, y, t), y) - n_x*n_y*(2*n_x**2*(nu1 + nu2 - 2*nu3) - nu2 + 2*nu3 - nu4 + nu5)*Derivative(v1(x, y, t), x) + (-2*n_x**2*n_y**2*(nu1 + nu2 - 2*nu3) - n_x*n_y*(nu2 - nu4 + nu5) - nu2 + (n_x**2 + n_y**2)*(nu2 - nu3))*Derivative(v1(x, y, t), y) + (-2*n_x**2*n_y**2*(nu1 + nu2 - 2*nu3) - n_x*(n_x + n_y)*(nu2 - nu4 + nu5) + nu2 - nu4)*Derivative(v2(x, y, t), x))"
      ],
      "text/latex": "$\\displaystyle \\tilde{\\sigma}^D_{12} = - 2 n_{x} n_{y} \\left(n_{y}^{2} \\left(\\nu_{1} + \\nu_{2} - 2 \\nu_{3}\\right) + \\nu_{3} - \\nu_{4} + \\nu_{5}\\right) \\frac{\\partial}{\\partial y} v_{2}{\\left(x,y,t \\right)} - n_{x} n_{y} \\left(2 n_{x}^{2} \\left(\\nu_{1} + \\nu_{2} - 2 \\nu_{3}\\right) - \\nu_{2} + 2 \\nu_{3} - \\nu_{4} + \\nu_{5}\\right) \\frac{\\partial}{\\partial x} v_{1}{\\left(x,y,t \\right)} + \\left(- 2 n_{x}^{2} n_{y}^{2} \\left(\\nu_{1} + \\nu_{2} - 2 \\nu_{3}\\right) - n_{x} n_{y} \\left(\\nu_{2} - \\nu_{4} + \\nu_{5}\\right) - \\nu_{2} + \\left(n_{x}^{2} + n_{y}^{2}\\right) \\left(\\nu_{2} - \\nu_{3}\\right)\\right) \\frac{\\partial}{\\partial y} v_{1}{\\left(x,y,t \\right)} + \\left(- 2 n_{x}^{2} n_{y}^{2} \\left(\\nu_{1} + \\nu_{2} - 2 \\nu_{3}\\right) - n_{x} \\left(n_{x} + n_{y}\\right) \\left(\\nu_{2} - \\nu_{4} + \\nu_{5}\\right) + \\nu_{2} - \\nu_{4}\\right) \\frac{\\partial}{\\partial x} v_{2}{\\left(x,y,t \\right)}$"
     },
     "metadata": {},
     "output_type": "display_data"
    },
    {
     "data": {
      "text/plain": [
       "Eq(\\tilde{\\sigma}^D_{21}, -2*n_x*n_y*(n_x**2*(nu1 + nu2 - 2*nu3) + nu3 - nu4 + nu5)*Derivative(v1(x, y, t), x) - n_x*n_y*(2*n_y**2*(nu1 + nu2 - 2*nu3) - nu2 + 2*nu3 - nu4 + nu5)*Derivative(v2(x, y, t), y) + (-2*n_x**2*n_y**2*(nu1 + nu2 - 2*nu3) - n_x*n_y*(nu2 - nu4 + nu5) - nu2 + (n_x**2 + n_y**2)*(nu2 - nu3))*Derivative(v2(x, y, t), x) + (-2*n_x**2*n_y**2*(nu1 + nu2 - 2*nu3) - n_y*(n_x + n_y)*(nu2 - nu4 + nu5) + nu2 - nu4)*Derivative(v1(x, y, t), y))"
      ],
      "text/latex": "$\\displaystyle \\tilde{\\sigma}^D_{21} = - 2 n_{x} n_{y} \\left(n_{x}^{2} \\left(\\nu_{1} + \\nu_{2} - 2 \\nu_{3}\\right) + \\nu_{3} - \\nu_{4} + \\nu_{5}\\right) \\frac{\\partial}{\\partial x} v_{1}{\\left(x,y,t \\right)} - n_{x} n_{y} \\left(2 n_{y}^{2} \\left(\\nu_{1} + \\nu_{2} - 2 \\nu_{3}\\right) - \\nu_{2} + 2 \\nu_{3} - \\nu_{4} + \\nu_{5}\\right) \\frac{\\partial}{\\partial y} v_{2}{\\left(x,y,t \\right)} + \\left(- 2 n_{x}^{2} n_{y}^{2} \\left(\\nu_{1} + \\nu_{2} - 2 \\nu_{3}\\right) - n_{x} n_{y} \\left(\\nu_{2} - \\nu_{4} + \\nu_{5}\\right) - \\nu_{2} + \\left(n_{x}^{2} + n_{y}^{2}\\right) \\left(\\nu_{2} - \\nu_{3}\\right)\\right) \\frac{\\partial}{\\partial x} v_{2}{\\left(x,y,t \\right)} + \\left(- 2 n_{x}^{2} n_{y}^{2} \\left(\\nu_{1} + \\nu_{2} - 2 \\nu_{3}\\right) - n_{y} \\left(n_{x} + n_{y}\\right) \\left(\\nu_{2} - \\nu_{4} + \\nu_{5}\\right) + \\nu_{2} - \\nu_{4}\\right) \\frac{\\partial}{\\partial y} v_{1}{\\left(x,y,t \\right)}$"
     },
     "metadata": {},
     "output_type": "display_data"
    },
    {
     "data": {
      "text/plain": [
       "Eq(\\tilde{\\sigma}^D_{22}, -n_y*(2*n_x*n_y**2*(nu1 + nu2 - 2*nu3) - 2*n_x*(nu2 - nu3) + n_y*(nu2 - nu4 + nu5))*Derivative(v1(x, y, t), y) - n_y*(2*n_x*n_y**2*(nu1 + nu2 - 2*nu3) - 2*n_x*(nu2 - nu3) + (n_x + n_y)*(nu2 - nu4 + nu5))*Derivative(v2(x, y, t), x) + (-2*n_x**2*n_y**2*(nu1 + nu2 - 2*nu3) - n_y**2*(nu2 - nu4 + nu5) - nu2 + (n_x**2 + n_y**2)*(nu2 - nu3))*Derivative(v1(x, y, t), x) + (-2*n_y**4*(nu1 + nu2 - 2*nu3) - 4*n_y**2*(-nu2 + nu3) - 2*n_y**2*(nu2 - nu4 + nu5) - nu2 - nu4)*Derivative(v2(x, y, t), y))"
      ],
      "text/latex": "$\\displaystyle \\tilde{\\sigma}^D_{22} = - n_{y} \\left(2 n_{x} n_{y}^{2} \\left(\\nu_{1} + \\nu_{2} - 2 \\nu_{3}\\right) - 2 n_{x} \\left(\\nu_{2} - \\nu_{3}\\right) + n_{y} \\left(\\nu_{2} - \\nu_{4} + \\nu_{5}\\right)\\right) \\frac{\\partial}{\\partial y} v_{1}{\\left(x,y,t \\right)} - n_{y} \\left(2 n_{x} n_{y}^{2} \\left(\\nu_{1} + \\nu_{2} - 2 \\nu_{3}\\right) - 2 n_{x} \\left(\\nu_{2} - \\nu_{3}\\right) + \\left(n_{x} + n_{y}\\right) \\left(\\nu_{2} - \\nu_{4} + \\nu_{5}\\right)\\right) \\frac{\\partial}{\\partial x} v_{2}{\\left(x,y,t \\right)} + \\left(- 2 n_{x}^{2} n_{y}^{2} \\left(\\nu_{1} + \\nu_{2} - 2 \\nu_{3}\\right) - n_{y}^{2} \\left(\\nu_{2} - \\nu_{4} + \\nu_{5}\\right) - \\nu_{2} + \\left(n_{x}^{2} + n_{y}^{2}\\right) \\left(\\nu_{2} - \\nu_{3}\\right)\\right) \\frac{\\partial}{\\partial x} v_{1}{\\left(x,y,t \\right)} + \\left(- 2 n_{y}^{4} \\left(\\nu_{1} + \\nu_{2} - 2 \\nu_{3}\\right) - 4 n_{y}^{2} \\left(- \\nu_{2} + \\nu_{3}\\right) - 2 n_{y}^{2} \\left(\\nu_{2} - \\nu_{4} + \\nu_{5}\\right) - \\nu_{2} - \\nu_{4}\\right) \\frac{\\partial}{\\partial y} v_{2}{\\left(x,y,t \\right)}$"
     },
     "metadata": {},
     "output_type": "display_data"
    }
   ],
   "execution_count": 59
  },
  {
   "metadata": {},
   "cell_type": "markdown",
   "source": "Which are fairly monstrous components...",
   "id": "fef3c36fb3950290"
  },
  {
   "metadata": {},
   "cell_type": "markdown",
   "source": "----",
   "id": "1efbfd6ab485117c"
  },
  {
   "metadata": {},
   "cell_type": "markdown",
   "source": "### 5 Simplification by continuity equation",
   "id": "13477714a675bdb5"
  },
  {
   "metadata": {},
   "cell_type": "markdown",
   "source": [
    "We incorporate the common assumption made in similar analyses of fluid flows, namely, local volume conservation and constant density of the fluid. As a result, the continuity equation simplifies to\n",
    "$$\\nabla\\cdot\\mathbf{v}=0\\tag{5}$$\n",
    "\n",
    "Under the given circumstances, the director $\\widehat{\\mathbf{n}}$ introduces uniaxial anisotropy to the viscosity tensor. Without loss of generality, we choose $\\widehat{\\mathbf{n}}\\,\\|\\,\\widehat{\\mathbf{x}}\\implies\\widehat{\\mathbf{n}}=(1, 0)$."
   ],
   "id": "d2d8724d94e99560"
  },
  {
   "metadata": {},
   "cell_type": "markdown",
   "source": [
    "**Effect on the Viscosity Tensor**\n",
    "\n",
    "In our uniaxial tensor $\\nu_{ijkl}$, any factor like `n[i]` or `n[j]` becomes zero unless $i=0$ (the “x” index). Concretely;\n",
    "\n",
    "- `n[0]` = 1\n",
    "- `n[1]` = 0\n",
    "\n",
    "So any product `n[i]*n[j]*...` will vanish unless $i=j=0$. Concretely:\n",
    "- `n[i]*n[j]` = $1$ only if $i=j=0$; otherwise $0$.\n",
    "- `n[i]*n[j]*n[k]*n[l]` is 1 only if $i=j=k=l=0$; else $0$."
   ],
   "id": "da903a433197d4f1"
  },
  {
   "metadata": {},
   "cell_type": "markdown",
   "source": [
    "**Incompressibility**\n",
    "\n",
    "Using the original notation we set (which will be amended later) by equation $(5)$ we have,\n",
    "$$v_1\\equiv v_x, \\quad  v_2\\equiv v_y$$\n",
    "Therefore\n",
    "$$\\frac{\\partial v_1}{\\partial x}=-\\frac{\\partial v_2}{\\partial y}$$"
   ],
   "id": "721ef47b1602a5e9"
  },
  {
   "metadata": {
    "ExecuteTime": {
     "end_time": "2025-02-27T18:44:13.969236Z",
     "start_time": "2025-02-27T18:44:13.911991Z"
    }
   },
   "cell_type": "code",
   "source": [
    "final_sigmaD = sigmaD.subs({n_x: 1, n_y: 0, dv[0,0]: -dv[1,1]})\n",
    "final_sigmaD_simpl = sp.simplify(final_sigmaD)\n",
    "\n",
    "print(\"Simplified Dissipative Stress Tensor Components:\")\n",
    "for i in range(2):\n",
    "    for j in range(2):\n",
    "        # Construct a label for the (i,j) component using standard notation\n",
    "        label = sp.symbols(f\"\\\\tilde{{\\\\sigma}}^D_{{{i+1}{j+1}}}\")\n",
    "        eq = sp.Eq(label, final_sigmaD_simpl[i,j])\n",
    "        display(eq)"
   ],
   "id": "7890ac1c0159e4cc",
   "outputs": [
    {
     "name": "stdout",
     "output_type": "stream",
     "text": [
      "Simplified Dissipative Stress Tensor Components:\n"
     ]
    },
    {
     "data": {
      "text/plain": [
       "Eq(\\tilde{\\sigma}^D_{11}, -(nu2 - nu4 + nu5)*Derivative(v1(x, y, t), y) - (nu2 - nu4 + nu5)*Derivative(v2(x, y, t), x) + (2*nu1 + nu2 - nu4 + 2*nu5)*Derivative(v2(x, y, t), y) - (nu2 + nu3 - nu4 + nu5)*Derivative(v2(x, y, t), y))"
      ],
      "text/latex": "$\\displaystyle \\tilde{\\sigma}^D_{11} = - \\left(\\nu_{2} - \\nu_{4} + \\nu_{5}\\right) \\frac{\\partial}{\\partial y} v_{1}{\\left(x,y,t \\right)} - \\left(\\nu_{2} - \\nu_{4} + \\nu_{5}\\right) \\frac{\\partial}{\\partial x} v_{2}{\\left(x,y,t \\right)} + \\left(2 \\nu_{1} + \\nu_{2} - \\nu_{4} + 2 \\nu_{5}\\right) \\frac{\\partial}{\\partial y} v_{2}{\\left(x,y,t \\right)} - \\left(\\nu_{2} + \\nu_{3} - \\nu_{4} + \\nu_{5}\\right) \\frac{\\partial}{\\partial y} v_{2}{\\left(x,y,t \\right)}$"
     },
     "metadata": {},
     "output_type": "display_data"
    },
    {
     "data": {
      "text/plain": [
       "Eq(\\tilde{\\sigma}^D_{12}, -nu3*Derivative(v1(x, y, t), y) - nu5*Derivative(v2(x, y, t), x))"
      ],
      "text/latex": "$\\displaystyle \\tilde{\\sigma}^D_{12} = - \\nu_{3} \\frac{\\partial}{\\partial y} v_{1}{\\left(x,y,t \\right)} - \\nu_{5} \\frac{\\partial}{\\partial x} v_{2}{\\left(x,y,t \\right)}$"
     },
     "metadata": {},
     "output_type": "display_data"
    },
    {
     "data": {
      "text/plain": [
       "Eq(\\tilde{\\sigma}^D_{21}, -nu3*Derivative(v2(x, y, t), x) + (nu2 - nu4)*Derivative(v1(x, y, t), y))"
      ],
      "text/latex": "$\\displaystyle \\tilde{\\sigma}^D_{21} = - \\nu_{3} \\frac{\\partial}{\\partial x} v_{2}{\\left(x,y,t \\right)} + \\left(\\nu_{2} - \\nu_{4}\\right) \\frac{\\partial}{\\partial y} v_{1}{\\left(x,y,t \\right)}$"
     },
     "metadata": {},
     "output_type": "display_data"
    },
    {
     "data": {
      "text/plain": [
       "Eq(\\tilde{\\sigma}^D_{22}, (-nu2 + nu3 - nu4)*Derivative(v2(x, y, t), y))"
      ],
      "text/latex": "$\\displaystyle \\tilde{\\sigma}^D_{22} = \\left(- \\nu_{2} + \\nu_{3} - \\nu_{4}\\right) \\frac{\\partial}{\\partial y} v_{2}{\\left(x,y,t \\right)}$"
     },
     "metadata": {},
     "output_type": "display_data"
    }
   ],
   "execution_count": 62
  },
  {
   "metadata": {},
   "cell_type": "markdown",
   "source": "----",
   "id": "e6fb632d9e22c5e9"
  },
  {
   "metadata": {},
   "cell_type": "markdown",
   "source": "### 6 Forming a diagonal form of the friction tensor",
   "id": "e9bc3cbedb897b7d"
  },
  {
   "metadata": {},
   "cell_type": "markdown",
   "source": [
    "In the subsequent discussion, we examine the scenario of one of the principal axes of the friction tensor aligning with the nematic director. Thus, the friction tensor in our representation adopts a diagonal form,\n",
    "$$\n",
    "\\mathbf{M}_{\\text{diagonal}}=\\begin{pmatrix}\n",
    "m_{\\parallel}^2 & 0 \\\\\n",
    "0 & m_{\\perp}^2\n",
    "\\end{pmatrix}\\tag{7}\n",
    "$$"
   ],
   "id": "174bc69577f4050d"
  },
  {
   "metadata": {
    "ExecuteTime": {
     "end_time": "2025-02-27T18:54:48.964379Z",
     "start_time": "2025-02-27T18:54:48.957950Z"
    }
   },
   "cell_type": "code",
   "source": [
    "m_parallel, m_perp = sp.symbols('m_∥ m_⊥', real=True, positive=True)\n",
    "M_diag = sp.Matrix([[m_parallel**2, 0],\n",
    "               [0, m_perp**2]])\n",
    "display(M_diag)"
   ],
   "id": "e035bfdcceaf1324",
   "outputs": [
    {
     "data": {
      "text/plain": [
       "Matrix([\n",
       "[m_∥**2,      0],\n",
       "[     0, m_⊥**2]])"
      ],
      "text/latex": "$\\displaystyle \\left[\\begin{matrix}m_{∥}^{2} & 0\\\\0 & m_{⊥}^{2}\\end{matrix}\\right]$"
     },
     "metadata": {},
     "output_type": "display_data"
    }
   ],
   "execution_count": 65
  },
  {
   "metadata": {},
   "cell_type": "markdown",
   "source": "----",
   "id": "bd3c09cde3530906"
  },
  {
   "metadata": {},
   "cell_type": "markdown",
   "source": "### 7 Performing substitutions",
   "id": "8ca246b2a74c8773"
  },
  {
   "metadata": {},
   "cell_type": "markdown",
   "source": [
    "We now substitute `final_sigmaD_simpl` and `M_diag` component wise into equation $(1)$ as previously augmented by\n",
    "$$\\tilde{\\sigma}_{ij} = \\sigma_{ij} - p\\,\\delta_{ij}, \\quad \\text{with } p = \\frac{1}{2}\\mathrm{tr}(\\sigma)$$"
   ],
   "id": "878376e4b7b9aa17"
  },
  {
   "metadata": {
    "ExecuteTime": {
     "end_time": "2025-02-27T18:57:39.401599Z",
     "start_time": "2025-02-27T18:57:39.390747Z"
    }
   },
   "cell_type": "code",
   "source": "display(momentum_eq_tilde)",
   "id": "b6c38288dedb6fbf",
   "outputs": [
    {
     "data": {
      "text/plain": [
       "Eq(Matrix([\n",
       "[M11(x, y, t)*v1(x, y, t) + M12(x, y, t)*v2(x, y, t) + f1(x, y, t) + Derivative(p(x, y, t) + sigmatilde_11(x, y, t), x) + Derivative(sigmatilde_12(x, y, t), y)],\n",
       "[M21(x, y, t)*v1(x, y, t) + M22(x, y, t)*v2(x, y, t) + f2(x, y, t) + Derivative(p(x, y, t) - sigmatilde_11(x, y, t), y) + Derivative(sigmatilde_21(x, y, t), x)]]), Matrix([\n",
       "[0],\n",
       "[0]]))"
      ],
      "text/latex": "$\\displaystyle \\left[\\begin{matrix}M_{11}{\\left(x,y,t \\right)} v_{1}{\\left(x,y,t \\right)} + M_{12}{\\left(x,y,t \\right)} v_{2}{\\left(x,y,t \\right)} + f_{1}{\\left(x,y,t \\right)} + \\frac{\\partial}{\\partial x} \\left(p{\\left(x,y,t \\right)} + \\tilde{\\sigma}_{11}{\\left(x,y,t \\right)}\\right) + \\frac{\\partial}{\\partial y} \\tilde{\\sigma}_{12}{\\left(x,y,t \\right)}\\\\M_{21}{\\left(x,y,t \\right)} v_{1}{\\left(x,y,t \\right)} + M_{22}{\\left(x,y,t \\right)} v_{2}{\\left(x,y,t \\right)} + f_{2}{\\left(x,y,t \\right)} + \\frac{\\partial}{\\partial y} \\left(p{\\left(x,y,t \\right)} - \\tilde{\\sigma}_{11}{\\left(x,y,t \\right)}\\right) + \\frac{\\partial}{\\partial x} \\tilde{\\sigma}_{21}{\\left(x,y,t \\right)}\\end{matrix}\\right] = \\left[\\begin{matrix}0\\\\0\\end{matrix}\\right]$"
     },
     "metadata": {},
     "output_type": "display_data"
    }
   ],
   "execution_count": 66
  },
  {
   "metadata": {},
   "cell_type": "markdown",
   "source": "Build a dictionary that pairs each symbolic placeholder with the final expression and call `.subs()`",
   "id": "519784238a5ff532"
  },
  {
   "metadata": {
    "ExecuteTime": {
     "end_time": "2025-02-27T19:14:08.138016Z",
     "start_time": "2025-02-27T19:14:08.051287Z"
    }
   },
   "cell_type": "code",
   "source": [
    "subs_dict = {\n",
    "    sigmatilde_11: final_sigmaD_simpl[0,0],\n",
    "    sigmatilde_12: final_sigmaD_simpl[0,1],\n",
    "    sigmatilde_21: final_sigmaD_simpl[1,0],\n",
    "    sigmatilde_22: final_sigmaD_simpl[1,1],\n",
    "    M11: M_diag[0,0],\n",
    "    M12: M_diag[0,1],\n",
    "    M21: M_diag[1,0],\n",
    "    M22: M_diag[1,1]\n",
    "}\n",
    "\n",
    "momentum_eq_sub = momentum_eq_tilde.subs(subs_dict)\n",
    "display(momentum_eq_sub)"
   ],
   "id": "98a9b9b8c58c6da6",
   "outputs": [
    {
     "data": {
      "text/plain": [
       "Eq(Matrix([\n",
       "[m_∥**2*v1(x, y, t) + f1(x, y, t) + Derivative(-nu3*Derivative(v1(x, y, t), y) - nu5*Derivative(v2(x, y, t), x), y) + Derivative(-(nu2 - nu4 + nu5)*Derivative(v1(x, y, t), y) - (nu2 - nu4 + nu5)*Derivative(v2(x, y, t), x) + (2*nu1 + nu2 - nu4 + 2*nu5)*Derivative(v2(x, y, t), y) - (nu2 + nu3 - nu4 + nu5)*Derivative(v2(x, y, t), y) + p(x, y, t), x)],\n",
       "[                                                                                                                                                     m_⊥**2*v2(x, y, t) + f2(x, y, t) + Derivative(-nu3*Derivative(v2(x, y, t), x) + (nu2 - nu4)*Derivative(v1(x, y, t), y), x) + Derivative((-nu2 + nu3 - nu4)*Derivative(v2(x, y, t), y) + p(x, y, t), y)]]), Matrix([\n",
       "[0],\n",
       "[0]]))"
      ],
      "text/latex": "$\\displaystyle \\left[\\begin{matrix}m_{∥}^{2} v_{1}{\\left(x,y,t \\right)} + f_{1}{\\left(x,y,t \\right)} + \\frac{\\partial}{\\partial y} \\left(- \\nu_{3} \\frac{\\partial}{\\partial y} v_{1}{\\left(x,y,t \\right)} - \\nu_{5} \\frac{\\partial}{\\partial x} v_{2}{\\left(x,y,t \\right)}\\right) + \\frac{\\partial}{\\partial x} \\left(- \\left(\\nu_{2} - \\nu_{4} + \\nu_{5}\\right) \\frac{\\partial}{\\partial y} v_{1}{\\left(x,y,t \\right)} - \\left(\\nu_{2} - \\nu_{4} + \\nu_{5}\\right) \\frac{\\partial}{\\partial x} v_{2}{\\left(x,y,t \\right)} + \\left(2 \\nu_{1} + \\nu_{2} - \\nu_{4} + 2 \\nu_{5}\\right) \\frac{\\partial}{\\partial y} v_{2}{\\left(x,y,t \\right)} - \\left(\\nu_{2} + \\nu_{3} - \\nu_{4} + \\nu_{5}\\right) \\frac{\\partial}{\\partial y} v_{2}{\\left(x,y,t \\right)} + p{\\left(x,y,t \\right)}\\right)\\\\m_{⊥}^{2} v_{2}{\\left(x,y,t \\right)} + f_{2}{\\left(x,y,t \\right)} + \\frac{\\partial}{\\partial x} \\left(- \\nu_{3} \\frac{\\partial}{\\partial x} v_{2}{\\left(x,y,t \\right)} + \\left(\\nu_{2} - \\nu_{4}\\right) \\frac{\\partial}{\\partial y} v_{1}{\\left(x,y,t \\right)}\\right) + \\frac{\\partial}{\\partial y} \\left(\\left(- \\nu_{2} + \\nu_{3} - \\nu_{4}\\right) \\frac{\\partial}{\\partial y} v_{2}{\\left(x,y,t \\right)} + p{\\left(x,y,t \\right)}\\right)\\end{matrix}\\right] = \\left[\\begin{matrix}0\\\\0\\end{matrix}\\right]$"
     },
     "metadata": {},
     "output_type": "display_data"
    }
   ],
   "execution_count": 67
  },
  {
   "metadata": {},
   "cell_type": "markdown",
   "source": [
    "We have second-order straight and mixed partials here which is looking good. Now for reasons unclear we need to subtract\n",
    "$$(\\nu_3 + \\nu_5)\\nabla(\\nabla\\cdot\\mathbf{v})=0$$\n",
    "Performing this operation as written (assuming nice simplification is the result)"
   ],
   "id": "363f317870b9981c"
  },
  {
   "metadata": {
    "ExecuteTime": {
     "end_time": "2025-02-27T19:23:29.386604Z",
     "start_time": "2025-02-27T19:23:29.370804Z"
    }
   },
   "cell_type": "code",
   "source": [
    "# Define the divergence of v\n",
    "div_v = sp.diff(v1, x) + sp.diff(v2, y)\n",
    "\n",
    "# Define the gradient of the divergence\n",
    "grad_div_v = sp.Matrix([sp.diff(div_v, x), sp.diff(div_v, y)])\n",
    "\n",
    "# Define the operator to subtract, multiplied by (nu3+nu5)\n",
    "operator_to_subtract = (nu3 + nu5)*grad_div_v"
   ],
   "id": "b513d6506453fe25",
   "outputs": [],
   "execution_count": 68
  },
  {
   "metadata": {
    "ExecuteTime": {
     "end_time": "2025-02-27T19:30:54.555258Z",
     "start_time": "2025-02-27T19:30:54.389690Z"
    }
   },
   "cell_type": "code",
   "source": [
    "# Now, if your momentum equation is stored in 'momentum_eq_simpl',\n",
    "# you can subtract this operator (component-wise) from it.\n",
    "# For example, if the left-hand side of momentum_eq_simpl is LHS, then:\n",
    "new_LHS = sp.simplify(momentum_eq_sub.lhs - operator_to_subtract)\n",
    "final_eq  = sp.Eq(new_LHS, momentum_eq_sub.rhs)\n",
    "display(sp.simplify(final_eq))"
   ],
   "id": "8341dbb64db5334e",
   "outputs": [
    {
     "data": {
      "text/plain": [
       "Eq(Matrix([\n",
       "[0],\n",
       "[0]]), Matrix([\n",
       "[m_∥**2*v1(x, y, t) - nu3*Derivative(v1(x, y, t), (y, 2)) - nu5*Derivative(v2(x, y, t), x, y) - (nu3 + nu5)*(Derivative(v1(x, y, t), (x, 2)) + Derivative(v2(x, y, t), x, y)) - (nu2 - nu4 + nu5)*Derivative(v2(x, y, t), (x, 2)) - (nu2 - nu4 + nu5)*Derivative(v1(x, y, t), x, y) + (2*nu1 + nu2 - nu4 + 2*nu5)*Derivative(v2(x, y, t), x, y) - (nu2 + nu3 - nu4 + nu5)*Derivative(v2(x, y, t), x, y) + f1(x, y, t) + Derivative(p(x, y, t), x)],\n",
       "[                                                                                                                                                              m_⊥**2*v2(x, y, t) - nu3*Derivative(v2(x, y, t), (x, 2)) + (nu2 - nu4)*Derivative(v1(x, y, t), x, y) - (nu3 + nu5)*(Derivative(v2(x, y, t), (y, 2)) + Derivative(v1(x, y, t), x, y)) - (nu2 - nu3 + nu4)*Derivative(v2(x, y, t), (y, 2)) + f2(x, y, t) + Derivative(p(x, y, t), y)]]))"
      ],
      "text/latex": "$\\displaystyle \\left[\\begin{matrix}0\\\\0\\end{matrix}\\right] = \\left[\\begin{matrix}m_{∥}^{2} v_{1}{\\left(x,y,t \\right)} - \\nu_{3} \\frac{\\partial^{2}}{\\partial y^{2}} v_{1}{\\left(x,y,t \\right)} - \\nu_{5} \\frac{\\partial^{2}}{\\partial y\\partial x} v_{2}{\\left(x,y,t \\right)} - \\left(\\nu_{3} + \\nu_{5}\\right) \\left(\\frac{\\partial^{2}}{\\partial x^{2}} v_{1}{\\left(x,y,t \\right)} + \\frac{\\partial^{2}}{\\partial y\\partial x} v_{2}{\\left(x,y,t \\right)}\\right) - \\left(\\nu_{2} - \\nu_{4} + \\nu_{5}\\right) \\frac{\\partial^{2}}{\\partial x^{2}} v_{2}{\\left(x,y,t \\right)} - \\left(\\nu_{2} - \\nu_{4} + \\nu_{5}\\right) \\frac{\\partial^{2}}{\\partial y\\partial x} v_{1}{\\left(x,y,t \\right)} + \\left(2 \\nu_{1} + \\nu_{2} - \\nu_{4} + 2 \\nu_{5}\\right) \\frac{\\partial^{2}}{\\partial y\\partial x} v_{2}{\\left(x,y,t \\right)} - \\left(\\nu_{2} + \\nu_{3} - \\nu_{4} + \\nu_{5}\\right) \\frac{\\partial^{2}}{\\partial y\\partial x} v_{2}{\\left(x,y,t \\right)} + f_{1}{\\left(x,y,t \\right)} + \\frac{\\partial}{\\partial x} p{\\left(x,y,t \\right)}\\\\m_{⊥}^{2} v_{2}{\\left(x,y,t \\right)} - \\nu_{3} \\frac{\\partial^{2}}{\\partial x^{2}} v_{2}{\\left(x,y,t \\right)} + \\left(\\nu_{2} - \\nu_{4}\\right) \\frac{\\partial^{2}}{\\partial y\\partial x} v_{1}{\\left(x,y,t \\right)} - \\left(\\nu_{3} + \\nu_{5}\\right) \\left(\\frac{\\partial^{2}}{\\partial y^{2}} v_{2}{\\left(x,y,t \\right)} + \\frac{\\partial^{2}}{\\partial y\\partial x} v_{1}{\\left(x,y,t \\right)}\\right) - \\left(\\nu_{2} - \\nu_{3} + \\nu_{4}\\right) \\frac{\\partial^{2}}{\\partial y^{2}} v_{2}{\\left(x,y,t \\right)} + f_{2}{\\left(x,y,t \\right)} + \\frac{\\partial}{\\partial y} p{\\left(x,y,t \\right)}\\end{matrix}\\right]$"
     },
     "metadata": {},
     "output_type": "display_data"
    }
   ],
   "execution_count": 70
  },
  {
   "metadata": {},
   "cell_type": "markdown",
   "source": "",
   "id": "77700355835d2fad"
  },
  {
   "metadata": {},
   "cell_type": "code",
   "outputs": [],
   "execution_count": null,
   "source": "",
   "id": "f0d7c03a664a0468"
  }
 ],
 "metadata": {
  "kernelspec": {
   "display_name": "Python 3",
   "language": "python",
   "name": "python3"
  },
  "language_info": {
   "codemirror_mode": {
    "name": "ipython",
    "version": 2
   },
   "file_extension": ".py",
   "mimetype": "text/x-python",
   "name": "python",
   "nbconvert_exporter": "python",
   "pygments_lexer": "ipython2",
   "version": "2.7.6"
  }
 },
 "nbformat": 4,
 "nbformat_minor": 5
}
